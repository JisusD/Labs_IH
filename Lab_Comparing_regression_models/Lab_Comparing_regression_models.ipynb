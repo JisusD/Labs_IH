{
 "cells": [
  {
   "cell_type": "markdown",
   "id": "8bbdd262",
   "metadata": {},
   "source": [
    "# Instructions\n",
    "For this lab, we will be using the same dataset we used in the previous labs. We recommend using the same notebook since you will be reusing the same variables you previous created and used in labs."
   ]
  },
  {
   "cell_type": "code",
   "execution_count": 1,
   "id": "1c999d98",
   "metadata": {},
   "outputs": [],
   "source": [
    "from sklearn.preprocessing import StandardScaler\n",
    "from sklearn.preprocessing import OneHotEncoder\n",
    "from sklearn.model_selection import train_test_split\n",
    "import pandas as pd\n",
    "import numpy as np\n",
    "from sklearn.neighbors import KNeighborsRegressor\n",
    "from sklearn.linear_model import LinearRegression\n",
    "import matplotlib.pyplot as plt"
   ]
  },
  {
   "cell_type": "code",
   "execution_count": 39,
   "id": "a063b004",
   "metadata": {},
   "outputs": [],
   "source": [
    "customer_df = pd.read_csv(\"we_fn_use_c_marketing_customer_value_analysis.csv"
   ]
  },
  {
   "cell_type": "code",
   "execution_count": 40,
   "id": "2e107d4c",
   "metadata": {},
   "outputs": [],
   "source": [
    "customer_df.columns = [col.replace(\" \", \"_\").lower() for col in customer_df]"
   ]
  },
  {
   "cell_type": "code",
   "execution_count": 41,
   "id": "570c0c0b",
   "metadata": {},
   "outputs": [],
   "source": [
    "customer_df['effective_to_date'] = pd.to_datetime(customer_df['effective_to_date']) "
   ]
  },
  {
   "cell_type": "code",
   "execution_count": 42,
   "id": "eae02b69",
   "metadata": {},
   "outputs": [],
   "source": [
    "customer_df = customer_df.drop(\"customer\", axis=1)"
   ]
  },
  {
   "cell_type": "markdown",
   "id": "c8bd1600",
   "metadata": {},
   "source": [
    "- In this final lab, we will model our data. Import sklearn train_test_split and separate the data."
   ]
  },
  {
   "cell_type": "code",
   "execution_count": 43,
   "id": "c8156c9f",
   "metadata": {},
   "outputs": [],
   "source": [
    "from sklearn.model_selection import train_test_split"
   ]
  },
  {
   "cell_type": "code",
   "execution_count": 44,
   "id": "e727f958",
   "metadata": {},
   "outputs": [],
   "source": [
    "numerical_df = customer_df.select_dtypes(include = np.number)\n",
    "numerical_df =numerical_df.drop(['total_claim_amount'],axis=1)\n",
    "categorical_df = customer_df.select_dtypes(include=\"object\")"
   ]
  },
  {
   "cell_type": "markdown",
   "id": "0d047a70",
   "metadata": {},
   "source": [
    "-Try a simple linear regression with all the data to see whether we are getting good results."
   ]
  },
  {
   "cell_type": "code",
   "execution_count": 45,
   "id": "1cf95421",
   "metadata": {},
   "outputs": [],
   "source": [
    "transformer = StandardScaler().fit(numerical_df)\n",
    "x_standardized= transformer.transform(numerical_df)"
   ]
  },
  {
   "cell_type": "code",
   "execution_count": 35,
   "id": "079f8b8f",
   "metadata": {},
   "outputs": [],
   "source": [
    "encoder = OneHotEncoder(handle_unknown='error',drop='first').fit(categorical_df)\n",
    "encoded= encoder.transform(categorical_df).toarray()"
   ]
  },
  {
   "cell_type": "code",
   "execution_count": 47,
   "id": "8fde49b4",
   "metadata": {},
   "outputs": [],
   "source": [
    "y = customer_df['total_claim_amount']\n",
    "x = np.concatenate((x_standardized, encoded), axis=1)"
   ]
  },
  {
   "cell_type": "code",
   "execution_count": 48,
   "id": "7178aded",
   "metadata": {},
   "outputs": [],
   "source": [
    "x_train,x_test,y_train,y_test = train_test_split(x,y, test_size = 0.4, random_state =100)"
   ]
  },
  {
   "cell_type": "code",
   "execution_count": 49,
   "id": "9b7c4fae",
   "metadata": {},
   "outputs": [
    {
     "data": {
      "text/plain": [
       "0.7695027443638532"
      ]
     },
     "execution_count": 49,
     "metadata": {},
     "output_type": "execute_result"
    }
   ],
   "source": [
    "model = LinearRegression()\n",
    "model.fit(x_train, y_train)\n",
    "predictions = model.predict(x_test)\n",
    "score = model.score(x_test, y_test)\n",
    "score"
   ]
  },
  {
   "cell_type": "markdown",
   "id": "4e81619f",
   "metadata": {},
   "source": [
    "- Great! Now define a function that takes a list of models and train (and tests) them so we can try a lot of them without repeating code."
   ]
  },
  {
   "cell_type": "code",
   "execution_count": 62,
   "id": "7ce6502f",
   "metadata": {},
   "outputs": [],
   "source": [
    "def models_train(x,y):\n",
    "    x_train,x_test,y_train,y_test = train_test_split(x,y, test_size = 0.4, random_state =100)\n",
    "    \n",
    "    model = LinearRegression()\n",
    "    model.fit(x_train, y_train)\n",
    "    predictions_LR = model.predict(x_test)\n",
    "    score_LR = model.score(x_test, y_test)\n",
    "    \n",
    "    model = KNeighborsRegressor(n_neighbors=30)  \n",
    "    model.fit(x_train, y_train)\n",
    "    predictions_KNR = model.predict(x_test)\n",
    "    score_KNR = model.score(x_test, y_test)\n",
    "    \n",
    "    return (score_LR, score_KNR)"
   ]
  },
  {
   "cell_type": "markdown",
   "id": "b981012a",
   "metadata": {},
   "source": [
    "- Use the function to check LinearRegressor and KNeighborsRegressor."
   ]
  },
  {
   "cell_type": "code",
   "execution_count": 63,
   "id": "0fba51e7",
   "metadata": {},
   "outputs": [],
   "source": [
    "R2_LR, R2_KNR = models_train(x,y)"
   ]
  },
  {
   "cell_type": "code",
   "execution_count": 64,
   "id": "ba2f05fa",
   "metadata": {},
   "outputs": [
    {
     "name": "stdout",
     "output_type": "stream",
     "text": [
      "0.7695027443638532 0.6348149429511091\n"
     ]
    }
   ],
   "source": [
    "print(R2_LR, R2_KNR)"
   ]
  },
  {
   "cell_type": "markdown",
   "id": "316e31d8",
   "metadata": {},
   "source": [
    "- You can check also the MLPRegressor for this task!\n",
    "- Check and discuss the results."
   ]
  },
  {
   "cell_type": "code",
   "execution_count": 75,
   "id": "3f9a4928",
   "metadata": {},
   "outputs": [
    {
     "name": "stderr",
     "output_type": "stream",
     "text": [
      "C:\\Anaconda3\\lib\\site-packages\\sklearn\\neural_network\\_multilayer_perceptron.py:692: ConvergenceWarning: Stochastic Optimizer: Maximum iterations (500) reached and the optimization hasn't converged yet.\n",
      "  warnings.warn(\n"
     ]
    },
    {
     "data": {
      "text/plain": [
       "0.8338205980000708"
      ]
     },
     "execution_count": 75,
     "metadata": {},
     "output_type": "execute_result"
    }
   ],
   "source": [
    "from sklearn.neural_network import MLPRegressor\n",
    "from sklearn.datasets import make_regression\n",
    "from sklearn.model_selection import train_test_split\n",
    "\n",
    "\n",
    "X_train, X_test, y_train, y_test = train_test_split(x,y, test_size = 0.4, random_state =100)\n",
    "regr = MLPRegressor(max_iter=500).fit(x_train, y_train)\n",
    "regr.predict(X_test)\n",
    "\n",
    "regr_score = regr.score(X_test, y_test)\n",
    "regr_score"
   ]
  },
  {
   "cell_type": "code",
   "execution_count": null,
   "id": "a476a0a1",
   "metadata": {},
   "outputs": [],
   "source": []
  },
  {
   "cell_type": "code",
   "execution_count": null,
   "id": "d28ea92c",
   "metadata": {},
   "outputs": [],
   "source": []
  }
 ],
 "metadata": {
  "kernelspec": {
   "display_name": "Python 3 (ipykernel)",
   "language": "python",
   "name": "python3"
  },
  "language_info": {
   "codemirror_mode": {
    "name": "ipython",
    "version": 3
   },
   "file_extension": ".py",
   "mimetype": "text/x-python",
   "name": "python",
   "nbconvert_exporter": "python",
   "pygments_lexer": "ipython3",
   "version": "3.9.13"
  }
 },
 "nbformat": 4,
 "nbformat_minor": 5
}
