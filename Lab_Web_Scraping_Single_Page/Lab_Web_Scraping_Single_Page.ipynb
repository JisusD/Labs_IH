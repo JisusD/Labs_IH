{
 "cells": [
  {
   "cell_type": "markdown",
   "id": "b0cb860f",
   "metadata": {},
   "source": [
    "# Lab | Web Scraping Single Page"
   ]
  },
  {
   "cell_type": "markdown",
   "id": "cf15c280",
   "metadata": {},
   "source": [
    "## Business goal:\n",
    "- Check the case_study_gnod.md file.\n",
    "\n",
    "- Make sure you've understood the big picture of your project:\n",
    "\n",
    "1. the goal of the company (Gnod),\n",
    "2. their current product (Gnoosic),\n",
    "3. their strategy, and\n",
    "4. how your project fits into this context.\n",
    "\n",
    "Re-read the business case and the e-mail from the CTO, take a look at the flowchart and create an initial Trello board with the tasks you think you'll have to accomplish."
   ]
  },
  {
   "cell_type": "markdown",
   "id": "947746a7",
   "metadata": {},
   "source": [
    "## Instructions - Scraping popular songs\n",
    "Your product will take a song as an input from the user and will output another song (the recommendation). In most cases, the recommended song will have to be similar to the inputted song, but the CTO thinks that if the song is on the top charts at the moment, the user will enjoy more a recommendation of a song that's also popular at the moment.\n",
    "\n",
    "You have find data on the internet about currently popular songs. Billboard maintains a weekly Top 100 of \"hot\" songs here: https://www.billboard.com/charts/hot-100.\n",
    "\n",
    "It's a good place to start! Scrape the current top 100 songs and their respective artists, and put the information into a pandas dataframe."
   ]
  },
  {
   "cell_type": "code",
   "execution_count": 1,
   "id": "bf4dc221",
   "metadata": {},
   "outputs": [],
   "source": [
    "import requests\n",
    "import pandas as pd\n",
    "from bs4 import BeautifulSoup"
   ]
  },
  {
   "cell_type": "code",
   "execution_count": 2,
   "id": "9ce364b0",
   "metadata": {},
   "outputs": [],
   "source": [
    "url = \"https://www.billboard.com/charts/hot-100/\""
   ]
  },
  {
   "cell_type": "code",
   "execution_count": 3,
   "id": "2f3332f9",
   "metadata": {},
   "outputs": [],
   "source": [
    "response = requests.get(url)"
   ]
  },
  {
   "cell_type": "code",
   "execution_count": 4,
   "id": "4c246554",
   "metadata": {},
   "outputs": [
    {
     "data": {
      "text/plain": [
       "200"
      ]
     },
     "execution_count": 4,
     "metadata": {},
     "output_type": "execute_result"
    }
   ],
   "source": [
    "response.status_code"
   ]
  },
  {
   "cell_type": "code",
   "execution_count": 5,
   "id": "bd7ea253",
   "metadata": {},
   "outputs": [],
   "source": [
    "soup = BeautifulSoup(response.content, 'html.parser')"
   ]
  },
  {
   "cell_type": "code",
   "execution_count": 52,
   "id": "7dac1bb6",
   "metadata": {},
   "outputs": [
    {
     "data": {
      "text/plain": [
       "'Last Night\\t\\t\\n\\t\\n'"
      ]
     },
     "execution_count": 52,
     "metadata": {},
     "output_type": "execute_result"
    }
   ],
   "source": [
    "soup.select(\"li.lrv-u-width-100p h3\")[0].get_text()[14:33]"
   ]
  },
  {
   "cell_type": "code",
   "execution_count": 92,
   "id": "a02a4c1f",
   "metadata": {},
   "outputs": [
    {
     "data": {
      "text/plain": [
       "'SZA\\n'"
      ]
     },
     "execution_count": 92,
     "metadata": {},
     "output_type": "execute_result"
    }
   ],
   "source": [
    "soup.select(\"li.lrv-u-width-100p span.c-label\")[7].get_text()[4:]"
   ]
  },
  {
   "cell_type": "code",
   "execution_count": 97,
   "id": "33dff07d",
   "metadata": {},
   "outputs": [],
   "source": [
    "songs = []\n",
    "artists = []\n",
    "\n",
    "for i in range(100):\n",
    "    canciones = soup.select(\"li.lrv-u-width-100p h3\")[i].get_text()[14:45]\n",
    "    songs.append(canciones)\n",
    "\n",
    "for i in range(0,700,7):\n",
    "    artistas = soup.select(\"li.lrv-u-width-100p span\")[i].get_text()[4:]\n",
    "    artists.append(artistas)"
   ]
  },
  {
   "cell_type": "code",
   "execution_count": 98,
   "id": "a2fc81cf",
   "metadata": {},
   "outputs": [
    {
     "data": {
      "text/html": [
       "<div>\n",
       "<style scoped>\n",
       "    .dataframe tbody tr th:only-of-type {\n",
       "        vertical-align: middle;\n",
       "    }\n",
       "\n",
       "    .dataframe tbody tr th {\n",
       "        vertical-align: top;\n",
       "    }\n",
       "\n",
       "    .dataframe thead th {\n",
       "        text-align: right;\n",
       "    }\n",
       "</style>\n",
       "<table border=\"1\" class=\"dataframe\">\n",
       "  <thead>\n",
       "    <tr style=\"text-align: right;\">\n",
       "      <th></th>\n",
       "      <th>song</th>\n",
       "      <th>artist</th>\n",
       "    </tr>\n",
       "  </thead>\n",
       "  <tbody>\n",
       "    <tr>\n",
       "      <th>0</th>\n",
       "      <td>Last Night\\t\\t\\n\\t\\n</td>\n",
       "      <td>Morgan Wallen\\n</td>\n",
       "    </tr>\n",
       "    <tr>\n",
       "      <th>1</th>\n",
       "      <td>Kill Bill\\t\\t\\n\\t\\n</td>\n",
       "      <td>SZA\\n</td>\n",
       "    </tr>\n",
       "    <tr>\n",
       "      <th>2</th>\n",
       "      <td>Flowers\\t\\t\\n\\t\\n</td>\n",
       "      <td>Miley Cyrus\\n</td>\n",
       "    </tr>\n",
       "    <tr>\n",
       "      <th>3</th>\n",
       "      <td>Ella Baila Sola\\t\\t\\n\\t\\n</td>\n",
       "      <td>Eslabon Armado X Peso Pluma\\n</td>\n",
       "    </tr>\n",
       "    <tr>\n",
       "      <th>4</th>\n",
       "      <td>Un x100to\\t\\t\\n\\t\\n</td>\n",
       "      <td>Grupo Frontera X Bad Bunny\\n</td>\n",
       "    </tr>\n",
       "    <tr>\n",
       "      <th>...</th>\n",
       "      <td>...</td>\n",
       "      <td>...</td>\n",
       "    </tr>\n",
       "    <tr>\n",
       "      <th>95</th>\n",
       "      <td>It Matters To Her\\t\\t\\n\\t\\n</td>\n",
       "      <td>Scotty McCreery\\n</td>\n",
       "    </tr>\n",
       "    <tr>\n",
       "      <th>96</th>\n",
       "      <td>Like Crazy\\t\\t\\n\\t\\n</td>\n",
       "      <td>Jimin\\n</td>\n",
       "    </tr>\n",
       "    <tr>\n",
       "      <th>97</th>\n",
       "      <td>All Of The Girls You Loved Befo</td>\n",
       "      <td>Taylor Swift\\n</td>\n",
       "    </tr>\n",
       "    <tr>\n",
       "      <th>98</th>\n",
       "      <td>5 Leaf Clover\\t\\t\\n\\t\\n</td>\n",
       "      <td>Luke Combs\\n</td>\n",
       "    </tr>\n",
       "    <tr>\n",
       "      <th>99</th>\n",
       "      <td>Big Truck\\t\\t\\n\\t\\n</td>\n",
       "      <td>YoungBoy Never Broke Again\\n</td>\n",
       "    </tr>\n",
       "  </tbody>\n",
       "</table>\n",
       "<p>100 rows × 2 columns</p>\n",
       "</div>"
      ],
      "text/plain": [
       "                               song                         artist\n",
       "0              Last Night\\t\\t\\n\\t\\n                Morgan Wallen\\n\n",
       "1               Kill Bill\\t\\t\\n\\t\\n                          SZA\\n\n",
       "2                 Flowers\\t\\t\\n\\t\\n                  Miley Cyrus\\n\n",
       "3         Ella Baila Sola\\t\\t\\n\\t\\n  Eslabon Armado X Peso Pluma\\n\n",
       "4               Un x100to\\t\\t\\n\\t\\n   Grupo Frontera X Bad Bunny\\n\n",
       "..                              ...                            ...\n",
       "95      It Matters To Her\\t\\t\\n\\t\\n              Scotty McCreery\\n\n",
       "96             Like Crazy\\t\\t\\n\\t\\n                        Jimin\\n\n",
       "97  All Of The Girls You Loved Befo                 Taylor Swift\\n\n",
       "98          5 Leaf Clover\\t\\t\\n\\t\\n                   Luke Combs\\n\n",
       "99              Big Truck\\t\\t\\n\\t\\n   YoungBoy Never Broke Again\\n\n",
       "\n",
       "[100 rows x 2 columns]"
      ]
     },
     "execution_count": 98,
     "metadata": {},
     "output_type": "execute_result"
    }
   ],
   "source": [
    "data = pd.DataFrame({'song':songs,'artist':artists})\n",
    "data"
   ]
  },
  {
   "cell_type": "code",
   "execution_count": 102,
   "id": "2dd79a5b",
   "metadata": {},
   "outputs": [],
   "source": [
    "# Definimos la función lambda para reemplazar caracteres en una cadena\n",
    "replace_chars = lambda x: x.replace('\\t', '').replace('\\n', '')\n",
    "\n",
    "# Aplicamos la función lambda a la columna 'song' usando map()\n",
    "data['song'] = data['song'].map(replace_chars)\n",
    "\n",
    "# Aplicamos la función lambda a la columna 'artist' usando map()\n",
    "data['artist'] = data['artist'].map(replace_chars)"
   ]
  },
  {
   "cell_type": "code",
   "execution_count": 103,
   "id": "6f10118e",
   "metadata": {},
   "outputs": [
    {
     "data": {
      "text/html": [
       "<div>\n",
       "<style scoped>\n",
       "    .dataframe tbody tr th:only-of-type {\n",
       "        vertical-align: middle;\n",
       "    }\n",
       "\n",
       "    .dataframe tbody tr th {\n",
       "        vertical-align: top;\n",
       "    }\n",
       "\n",
       "    .dataframe thead th {\n",
       "        text-align: right;\n",
       "    }\n",
       "</style>\n",
       "<table border=\"1\" class=\"dataframe\">\n",
       "  <thead>\n",
       "    <tr style=\"text-align: right;\">\n",
       "      <th></th>\n",
       "      <th>song</th>\n",
       "      <th>artist</th>\n",
       "    </tr>\n",
       "  </thead>\n",
       "  <tbody>\n",
       "    <tr>\n",
       "      <th>0</th>\n",
       "      <td>Last Night</td>\n",
       "      <td>Morgan Wallen</td>\n",
       "    </tr>\n",
       "    <tr>\n",
       "      <th>1</th>\n",
       "      <td>Kill Bill</td>\n",
       "      <td>SZA</td>\n",
       "    </tr>\n",
       "    <tr>\n",
       "      <th>2</th>\n",
       "      <td>Flowers</td>\n",
       "      <td>Miley Cyrus</td>\n",
       "    </tr>\n",
       "    <tr>\n",
       "      <th>3</th>\n",
       "      <td>Ella Baila Sola</td>\n",
       "      <td>Eslabon Armado X Peso Pluma</td>\n",
       "    </tr>\n",
       "    <tr>\n",
       "      <th>4</th>\n",
       "      <td>Un x100to</td>\n",
       "      <td>Grupo Frontera X Bad Bunny</td>\n",
       "    </tr>\n",
       "    <tr>\n",
       "      <th>...</th>\n",
       "      <td>...</td>\n",
       "      <td>...</td>\n",
       "    </tr>\n",
       "    <tr>\n",
       "      <th>95</th>\n",
       "      <td>It Matters To Her</td>\n",
       "      <td>Scotty McCreery</td>\n",
       "    </tr>\n",
       "    <tr>\n",
       "      <th>96</th>\n",
       "      <td>Like Crazy</td>\n",
       "      <td>Jimin</td>\n",
       "    </tr>\n",
       "    <tr>\n",
       "      <th>97</th>\n",
       "      <td>All Of The Girls You Loved Befo</td>\n",
       "      <td>Taylor Swift</td>\n",
       "    </tr>\n",
       "    <tr>\n",
       "      <th>98</th>\n",
       "      <td>5 Leaf Clover</td>\n",
       "      <td>Luke Combs</td>\n",
       "    </tr>\n",
       "    <tr>\n",
       "      <th>99</th>\n",
       "      <td>Big Truck</td>\n",
       "      <td>YoungBoy Never Broke Again</td>\n",
       "    </tr>\n",
       "  </tbody>\n",
       "</table>\n",
       "<p>100 rows × 2 columns</p>\n",
       "</div>"
      ],
      "text/plain": [
       "                               song                       artist\n",
       "0                        Last Night                Morgan Wallen\n",
       "1                         Kill Bill                          SZA\n",
       "2                           Flowers                  Miley Cyrus\n",
       "3                   Ella Baila Sola  Eslabon Armado X Peso Pluma\n",
       "4                         Un x100to   Grupo Frontera X Bad Bunny\n",
       "..                              ...                          ...\n",
       "95                It Matters To Her              Scotty McCreery\n",
       "96                       Like Crazy                        Jimin\n",
       "97  All Of The Girls You Loved Befo                 Taylor Swift\n",
       "98                    5 Leaf Clover                   Luke Combs\n",
       "99                        Big Truck   YoungBoy Never Broke Again\n",
       "\n",
       "[100 rows x 2 columns]"
      ]
     },
     "execution_count": 103,
     "metadata": {},
     "output_type": "execute_result"
    }
   ],
   "source": [
    "data"
   ]
  },
  {
   "cell_type": "code",
   "execution_count": null,
   "id": "bdae408a",
   "metadata": {},
   "outputs": [],
   "source": []
  }
 ],
 "metadata": {
  "kernelspec": {
   "display_name": "Python 3 (ipykernel)",
   "language": "python",
   "name": "python3"
  },
  "language_info": {
   "codemirror_mode": {
    "name": "ipython",
    "version": 3
   },
   "file_extension": ".py",
   "mimetype": "text/x-python",
   "name": "python",
   "nbconvert_exporter": "python",
   "pygments_lexer": "ipython3",
   "version": "3.9.13"
  }
 },
 "nbformat": 4,
 "nbformat_minor": 5
}
