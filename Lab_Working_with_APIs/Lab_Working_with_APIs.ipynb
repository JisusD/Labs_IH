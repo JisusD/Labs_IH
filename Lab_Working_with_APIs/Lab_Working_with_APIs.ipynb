{
 "cells": [
  {
   "cell_type": "markdown",
   "id": "f664c05a",
   "metadata": {},
   "source": [
    "# Lab | Working with APIs\n",
    "### Instructions\n",
    "Following the class example, create a function that returns the price, names of origin and arrival airports and the name of the company. Do it for all the flights between two dates that cost the same."
   ]
  },
  {
   "cell_type": "code",
   "execution_count": 2,
   "id": "3613ec3d",
   "metadata": {},
   "outputs": [],
   "source": [
    "import requests\n",
    "import pandas as pd\n",
    "import json"
   ]
  },
  {
   "cell_type": "code",
   "execution_count": 13,
   "id": "66ad074c",
   "metadata": {},
   "outputs": [
    {
     "name": "stdout",
     "output_type": "stream",
     "text": [
      "De donde( ISO 3166-2 code): SI\n",
      "A donde(Departure airport IATA code): MUC\n",
      "Cuando(Format: YYYY-MM-DD): 2023-07-01\n"
     ]
    }
   ],
   "source": [
    "origin = input(\"De donde( ISO 3166-2 code): \")\n",
    "destiny = input('A donde(Departure airport IATA code): ')\n",
    "date = input('Cuando(Format: YYYY-MM-DD): ')"
   ]
  },
  {
   "cell_type": "markdown",
   "id": "a10b0f15",
   "metadata": {},
   "source": [
    "### Skyscanner\n",
    "https://rapidapi.com/3b-data-3b-data-default/api/skyscanner44/\n",
    "### ISO 3166-2 code\n",
    "https://www.inapi.cl/docs/default-source/default-document-library/iniciales_paises_iso.pdf?sfvrsn=2184ea1d_2\n",
    "### IATA code\n",
    "https://www.nationsonline.org/oneworld/IATA_Codes/airport_code_list.htm#:~:text=The%20International%20Air%20Transport%20Association%27s,logistics%20to%20identify%20an%20airport."
   ]
  },
  {
   "cell_type": "code",
   "execution_count": 19,
   "id": "a6cb7556",
   "metadata": {},
   "outputs": [],
   "source": [
    "def Skyscanner(origen,destino,fecha):\n",
    "    import requests\n",
    "    import pandas as pd\n",
    "    import json\n",
    "    \n",
    "    url = \"https://skyscanner44.p.rapidapi.com/fly-to-country\"\n",
    "\n",
    "    querystring = {\"destination\":origen,\n",
    "                   \"origin\":destino,\n",
    "                   \"departureDate\":fecha}\n",
    "\n",
    "    headers = {\n",
    "        \"X-RapidAPI-Key\": \"fc007f78b2mshef468774337c06cp1cbef0jsn32689f2fd1ac\",\n",
    "        \"X-RapidAPI-Host\": \"skyscanner44.p.rapidapi.com\"\n",
    "    }\n",
    "\n",
    "    response = requests.get(url, headers=headers, params=querystring)\n",
    "    df = pd.json_normalize(response.json(),[\"PlacePrices\"])\n",
    "    df = df.drop(['ImageUrl','HotelUrl','HotelPrice'],axis=1)\n",
    "    return df"
   ]
  },
  {
   "cell_type": "code",
   "execution_count": 20,
   "id": "d08e2315",
   "metadata": {},
   "outputs": [
    {
     "data": {
      "text/html": [
       "<div>\n",
       "<style scoped>\n",
       "    .dataframe tbody tr th:only-of-type {\n",
       "        vertical-align: middle;\n",
       "    }\n",
       "\n",
       "    .dataframe tbody tr th {\n",
       "        vertical-align: top;\n",
       "    }\n",
       "\n",
       "    .dataframe thead th {\n",
       "        text-align: right;\n",
       "    }\n",
       "</style>\n",
       "<table border=\"1\" class=\"dataframe\">\n",
       "  <thead>\n",
       "    <tr style=\"text-align: right;\">\n",
       "      <th></th>\n",
       "      <th>Id</th>\n",
       "      <th>Direct</th>\n",
       "      <th>Name</th>\n",
       "      <th>CountryName</th>\n",
       "      <th>DirectPrice</th>\n",
       "      <th>IndirectPrice</th>\n",
       "      <th>IndirectQuoteDateTime</th>\n",
       "      <th>DirectQuoteDateTime</th>\n",
       "    </tr>\n",
       "  </thead>\n",
       "  <tbody>\n",
       "    <tr>\n",
       "      <th>0</th>\n",
       "      <td>LJUB</td>\n",
       "      <td>True</td>\n",
       "      <td>Ljubljana</td>\n",
       "      <td>Slovenia</td>\n",
       "      <td>236</td>\n",
       "      <td>172</td>\n",
       "      <td>2023-05-09T12:05:34</td>\n",
       "      <td>2023-05-09T12:05:32</td>\n",
       "    </tr>\n",
       "  </tbody>\n",
       "</table>\n",
       "</div>"
      ],
      "text/plain": [
       "     Id  Direct       Name CountryName  DirectPrice  IndirectPrice  \\\n",
       "0  LJUB    True  Ljubljana    Slovenia          236            172   \n",
       "\n",
       "  IndirectQuoteDateTime  DirectQuoteDateTime  \n",
       "0   2023-05-09T12:05:34  2023-05-09T12:05:32  "
      ]
     },
     "execution_count": 20,
     "metadata": {},
     "output_type": "execute_result"
    }
   ],
   "source": [
    "data_fly = Skyscanner(origin,destiny,date)\n",
    "data_fly"
   ]
  },
  {
   "cell_type": "code",
   "execution_count": null,
   "id": "35aacd10",
   "metadata": {},
   "outputs": [],
   "source": []
  },
  {
   "cell_type": "code",
   "execution_count": null,
   "id": "c748ab74",
   "metadata": {},
   "outputs": [],
   "source": []
  }
 ],
 "metadata": {
  "kernelspec": {
   "display_name": "Python 3 (ipykernel)",
   "language": "python",
   "name": "python3"
  },
  "language_info": {
   "codemirror_mode": {
    "name": "ipython",
    "version": 3
   },
   "file_extension": ".py",
   "mimetype": "text/x-python",
   "name": "python",
   "nbconvert_exporter": "python",
   "pygments_lexer": "ipython3",
   "version": "3.9.13"
  }
 },
 "nbformat": 4,
 "nbformat_minor": 5
}
