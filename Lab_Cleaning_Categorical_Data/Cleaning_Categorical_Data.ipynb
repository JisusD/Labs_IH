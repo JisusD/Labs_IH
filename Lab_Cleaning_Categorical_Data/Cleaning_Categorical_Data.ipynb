{
 "cells": [
  {
   "cell_type": "markdown",
   "id": "6a6a2f37",
   "metadata": {},
   "source": [
    "# Instructions\n",
    "For this lab, we will be using the dataset in the Customer Analysis Business Case. This dataset can be found in files_for_lab folder. In this lab we will explore categorical data. You can also continue working on the same jupyter notebook from the previous lab. However that is not necessary."
   ]
  },
  {
   "cell_type": "markdown",
   "id": "456fc76d",
   "metadata": {},
   "source": [
    "- Import the necessary libraries if you are starting a new notebook."
   ]
  },
  {
   "cell_type": "code",
   "execution_count": 8,
   "id": "be75c34e",
   "metadata": {},
   "outputs": [],
   "source": [
    "import pandas as pd\n",
    "import numpy as np\n",
    "import datetime\n",
    "import warnings\n",
    "\n",
    "warnings.filterwarnings('ignore')\n",
    "\n",
    "import matplotlib.pyplot as plt\n",
    "import seaborn as sns\n",
    "\n",
    "pd.set_option('display.max_columns', None)"
   ]
  },
  {
   "cell_type": "markdown",
   "id": "0df3684f",
   "metadata": {},
   "source": [
    "- Load the csv. Use the variable customer_df as customer_df = pd.read_csv()."
   ]
  },
  {
   "cell_type": "code",
   "execution_count": 9,
   "id": "4f497203",
   "metadata": {},
   "outputs": [],
   "source": [
    "customer_df = pd.read_csv(\"we_fn_use_c_marketing_customer_value_analysis.csv\")"
   ]
  },
  {
   "cell_type": "code",
   "execution_count": 10,
   "id": "341f59ac",
   "metadata": {},
   "outputs": [],
   "source": [
    "customer_df.columns = [col.replace(\" \", \"_\").lower() for col in customer_df]"
   ]
  },
  {
   "cell_type": "markdown",
   "id": "0a7c0a7a",
   "metadata": {},
   "source": [
    "- What should we do with the customer_id column? R: Eliminarla"
   ]
  },
  {
   "cell_type": "code",
   "execution_count": 11,
   "id": "8e00a5c6",
   "metadata": {},
   "outputs": [
    {
     "data": {
      "text/html": [
       "<div>\n",
       "<style scoped>\n",
       "    .dataframe tbody tr th:only-of-type {\n",
       "        vertical-align: middle;\n",
       "    }\n",
       "\n",
       "    .dataframe tbody tr th {\n",
       "        vertical-align: top;\n",
       "    }\n",
       "\n",
       "    .dataframe thead th {\n",
       "        text-align: right;\n",
       "    }\n",
       "</style>\n",
       "<table border=\"1\" class=\"dataframe\">\n",
       "  <thead>\n",
       "    <tr style=\"text-align: right;\">\n",
       "      <th></th>\n",
       "      <th>state</th>\n",
       "      <th>customer_lifetime_value</th>\n",
       "      <th>response</th>\n",
       "      <th>coverage</th>\n",
       "      <th>education</th>\n",
       "      <th>effective_to_date</th>\n",
       "      <th>employmentstatus</th>\n",
       "      <th>gender</th>\n",
       "      <th>income</th>\n",
       "      <th>location_code</th>\n",
       "      <th>marital_status</th>\n",
       "      <th>monthly_premium_auto</th>\n",
       "      <th>months_since_last_claim</th>\n",
       "      <th>months_since_policy_inception</th>\n",
       "      <th>number_of_open_complaints</th>\n",
       "      <th>number_of_policies</th>\n",
       "      <th>policy_type</th>\n",
       "      <th>policy</th>\n",
       "      <th>renew_offer_type</th>\n",
       "      <th>sales_channel</th>\n",
       "      <th>total_claim_amount</th>\n",
       "      <th>vehicle_class</th>\n",
       "      <th>vehicle_size</th>\n",
       "    </tr>\n",
       "  </thead>\n",
       "  <tbody>\n",
       "    <tr>\n",
       "      <th>0</th>\n",
       "      <td>Washington</td>\n",
       "      <td>2763.519279</td>\n",
       "      <td>No</td>\n",
       "      <td>Basic</td>\n",
       "      <td>Bachelor</td>\n",
       "      <td>2/24/11</td>\n",
       "      <td>Employed</td>\n",
       "      <td>F</td>\n",
       "      <td>56274</td>\n",
       "      <td>Suburban</td>\n",
       "      <td>Married</td>\n",
       "      <td>69</td>\n",
       "      <td>32</td>\n",
       "      <td>5</td>\n",
       "      <td>0</td>\n",
       "      <td>1</td>\n",
       "      <td>Corporate Auto</td>\n",
       "      <td>Corporate L3</td>\n",
       "      <td>Offer1</td>\n",
       "      <td>Agent</td>\n",
       "      <td>384.811147</td>\n",
       "      <td>Two-Door Car</td>\n",
       "      <td>Medsize</td>\n",
       "    </tr>\n",
       "    <tr>\n",
       "      <th>1</th>\n",
       "      <td>Arizona</td>\n",
       "      <td>6979.535903</td>\n",
       "      <td>No</td>\n",
       "      <td>Extended</td>\n",
       "      <td>Bachelor</td>\n",
       "      <td>1/31/11</td>\n",
       "      <td>Unemployed</td>\n",
       "      <td>F</td>\n",
       "      <td>0</td>\n",
       "      <td>Suburban</td>\n",
       "      <td>Single</td>\n",
       "      <td>94</td>\n",
       "      <td>13</td>\n",
       "      <td>42</td>\n",
       "      <td>0</td>\n",
       "      <td>8</td>\n",
       "      <td>Personal Auto</td>\n",
       "      <td>Personal L3</td>\n",
       "      <td>Offer3</td>\n",
       "      <td>Agent</td>\n",
       "      <td>1131.464935</td>\n",
       "      <td>Four-Door Car</td>\n",
       "      <td>Medsize</td>\n",
       "    </tr>\n",
       "    <tr>\n",
       "      <th>2</th>\n",
       "      <td>Nevada</td>\n",
       "      <td>12887.431650</td>\n",
       "      <td>No</td>\n",
       "      <td>Premium</td>\n",
       "      <td>Bachelor</td>\n",
       "      <td>2/19/11</td>\n",
       "      <td>Employed</td>\n",
       "      <td>F</td>\n",
       "      <td>48767</td>\n",
       "      <td>Suburban</td>\n",
       "      <td>Married</td>\n",
       "      <td>108</td>\n",
       "      <td>18</td>\n",
       "      <td>38</td>\n",
       "      <td>0</td>\n",
       "      <td>2</td>\n",
       "      <td>Personal Auto</td>\n",
       "      <td>Personal L3</td>\n",
       "      <td>Offer1</td>\n",
       "      <td>Agent</td>\n",
       "      <td>566.472247</td>\n",
       "      <td>Two-Door Car</td>\n",
       "      <td>Medsize</td>\n",
       "    </tr>\n",
       "    <tr>\n",
       "      <th>3</th>\n",
       "      <td>California</td>\n",
       "      <td>7645.861827</td>\n",
       "      <td>No</td>\n",
       "      <td>Basic</td>\n",
       "      <td>Bachelor</td>\n",
       "      <td>1/20/11</td>\n",
       "      <td>Unemployed</td>\n",
       "      <td>M</td>\n",
       "      <td>0</td>\n",
       "      <td>Suburban</td>\n",
       "      <td>Married</td>\n",
       "      <td>106</td>\n",
       "      <td>18</td>\n",
       "      <td>65</td>\n",
       "      <td>0</td>\n",
       "      <td>7</td>\n",
       "      <td>Corporate Auto</td>\n",
       "      <td>Corporate L2</td>\n",
       "      <td>Offer1</td>\n",
       "      <td>Call Center</td>\n",
       "      <td>529.881344</td>\n",
       "      <td>SUV</td>\n",
       "      <td>Medsize</td>\n",
       "    </tr>\n",
       "    <tr>\n",
       "      <th>4</th>\n",
       "      <td>Washington</td>\n",
       "      <td>2813.692575</td>\n",
       "      <td>No</td>\n",
       "      <td>Basic</td>\n",
       "      <td>Bachelor</td>\n",
       "      <td>2/3/11</td>\n",
       "      <td>Employed</td>\n",
       "      <td>M</td>\n",
       "      <td>43836</td>\n",
       "      <td>Rural</td>\n",
       "      <td>Single</td>\n",
       "      <td>73</td>\n",
       "      <td>12</td>\n",
       "      <td>44</td>\n",
       "      <td>0</td>\n",
       "      <td>1</td>\n",
       "      <td>Personal Auto</td>\n",
       "      <td>Personal L1</td>\n",
       "      <td>Offer1</td>\n",
       "      <td>Agent</td>\n",
       "      <td>138.130879</td>\n",
       "      <td>Four-Door Car</td>\n",
       "      <td>Medsize</td>\n",
       "    </tr>\n",
       "    <tr>\n",
       "      <th>...</th>\n",
       "      <td>...</td>\n",
       "      <td>...</td>\n",
       "      <td>...</td>\n",
       "      <td>...</td>\n",
       "      <td>...</td>\n",
       "      <td>...</td>\n",
       "      <td>...</td>\n",
       "      <td>...</td>\n",
       "      <td>...</td>\n",
       "      <td>...</td>\n",
       "      <td>...</td>\n",
       "      <td>...</td>\n",
       "      <td>...</td>\n",
       "      <td>...</td>\n",
       "      <td>...</td>\n",
       "      <td>...</td>\n",
       "      <td>...</td>\n",
       "      <td>...</td>\n",
       "      <td>...</td>\n",
       "      <td>...</td>\n",
       "      <td>...</td>\n",
       "      <td>...</td>\n",
       "      <td>...</td>\n",
       "    </tr>\n",
       "    <tr>\n",
       "      <th>9129</th>\n",
       "      <td>California</td>\n",
       "      <td>23405.987980</td>\n",
       "      <td>No</td>\n",
       "      <td>Basic</td>\n",
       "      <td>Bachelor</td>\n",
       "      <td>2/10/11</td>\n",
       "      <td>Employed</td>\n",
       "      <td>M</td>\n",
       "      <td>71941</td>\n",
       "      <td>Urban</td>\n",
       "      <td>Married</td>\n",
       "      <td>73</td>\n",
       "      <td>18</td>\n",
       "      <td>89</td>\n",
       "      <td>0</td>\n",
       "      <td>2</td>\n",
       "      <td>Personal Auto</td>\n",
       "      <td>Personal L1</td>\n",
       "      <td>Offer2</td>\n",
       "      <td>Web</td>\n",
       "      <td>198.234764</td>\n",
       "      <td>Four-Door Car</td>\n",
       "      <td>Medsize</td>\n",
       "    </tr>\n",
       "    <tr>\n",
       "      <th>9130</th>\n",
       "      <td>California</td>\n",
       "      <td>3096.511217</td>\n",
       "      <td>Yes</td>\n",
       "      <td>Extended</td>\n",
       "      <td>College</td>\n",
       "      <td>2/12/11</td>\n",
       "      <td>Employed</td>\n",
       "      <td>F</td>\n",
       "      <td>21604</td>\n",
       "      <td>Suburban</td>\n",
       "      <td>Divorced</td>\n",
       "      <td>79</td>\n",
       "      <td>14</td>\n",
       "      <td>28</td>\n",
       "      <td>0</td>\n",
       "      <td>1</td>\n",
       "      <td>Corporate Auto</td>\n",
       "      <td>Corporate L3</td>\n",
       "      <td>Offer1</td>\n",
       "      <td>Branch</td>\n",
       "      <td>379.200000</td>\n",
       "      <td>Four-Door Car</td>\n",
       "      <td>Medsize</td>\n",
       "    </tr>\n",
       "    <tr>\n",
       "      <th>9131</th>\n",
       "      <td>California</td>\n",
       "      <td>8163.890428</td>\n",
       "      <td>No</td>\n",
       "      <td>Extended</td>\n",
       "      <td>Bachelor</td>\n",
       "      <td>2/6/11</td>\n",
       "      <td>Unemployed</td>\n",
       "      <td>M</td>\n",
       "      <td>0</td>\n",
       "      <td>Suburban</td>\n",
       "      <td>Single</td>\n",
       "      <td>85</td>\n",
       "      <td>9</td>\n",
       "      <td>37</td>\n",
       "      <td>3</td>\n",
       "      <td>2</td>\n",
       "      <td>Corporate Auto</td>\n",
       "      <td>Corporate L2</td>\n",
       "      <td>Offer1</td>\n",
       "      <td>Branch</td>\n",
       "      <td>790.784983</td>\n",
       "      <td>Four-Door Car</td>\n",
       "      <td>Medsize</td>\n",
       "    </tr>\n",
       "    <tr>\n",
       "      <th>9132</th>\n",
       "      <td>California</td>\n",
       "      <td>7524.442436</td>\n",
       "      <td>No</td>\n",
       "      <td>Extended</td>\n",
       "      <td>College</td>\n",
       "      <td>2/3/11</td>\n",
       "      <td>Employed</td>\n",
       "      <td>M</td>\n",
       "      <td>21941</td>\n",
       "      <td>Suburban</td>\n",
       "      <td>Married</td>\n",
       "      <td>96</td>\n",
       "      <td>34</td>\n",
       "      <td>3</td>\n",
       "      <td>0</td>\n",
       "      <td>3</td>\n",
       "      <td>Personal Auto</td>\n",
       "      <td>Personal L2</td>\n",
       "      <td>Offer3</td>\n",
       "      <td>Branch</td>\n",
       "      <td>691.200000</td>\n",
       "      <td>Four-Door Car</td>\n",
       "      <td>Large</td>\n",
       "    </tr>\n",
       "    <tr>\n",
       "      <th>9133</th>\n",
       "      <td>California</td>\n",
       "      <td>2611.836866</td>\n",
       "      <td>No</td>\n",
       "      <td>Extended</td>\n",
       "      <td>College</td>\n",
       "      <td>2/14/11</td>\n",
       "      <td>Unemployed</td>\n",
       "      <td>M</td>\n",
       "      <td>0</td>\n",
       "      <td>Suburban</td>\n",
       "      <td>Single</td>\n",
       "      <td>77</td>\n",
       "      <td>3</td>\n",
       "      <td>90</td>\n",
       "      <td>0</td>\n",
       "      <td>1</td>\n",
       "      <td>Corporate Auto</td>\n",
       "      <td>Corporate L3</td>\n",
       "      <td>Offer4</td>\n",
       "      <td>Call Center</td>\n",
       "      <td>369.600000</td>\n",
       "      <td>Two-Door Car</td>\n",
       "      <td>Medsize</td>\n",
       "    </tr>\n",
       "  </tbody>\n",
       "</table>\n",
       "<p>9134 rows × 23 columns</p>\n",
       "</div>"
      ],
      "text/plain": [
       "           state  customer_lifetime_value response  coverage education  \\\n",
       "0     Washington              2763.519279       No     Basic  Bachelor   \n",
       "1        Arizona              6979.535903       No  Extended  Bachelor   \n",
       "2         Nevada             12887.431650       No   Premium  Bachelor   \n",
       "3     California              7645.861827       No     Basic  Bachelor   \n",
       "4     Washington              2813.692575       No     Basic  Bachelor   \n",
       "...          ...                      ...      ...       ...       ...   \n",
       "9129  California             23405.987980       No     Basic  Bachelor   \n",
       "9130  California              3096.511217      Yes  Extended   College   \n",
       "9131  California              8163.890428       No  Extended  Bachelor   \n",
       "9132  California              7524.442436       No  Extended   College   \n",
       "9133  California              2611.836866       No  Extended   College   \n",
       "\n",
       "     effective_to_date employmentstatus gender  income location_code  \\\n",
       "0              2/24/11         Employed      F   56274      Suburban   \n",
       "1              1/31/11       Unemployed      F       0      Suburban   \n",
       "2              2/19/11         Employed      F   48767      Suburban   \n",
       "3              1/20/11       Unemployed      M       0      Suburban   \n",
       "4               2/3/11         Employed      M   43836         Rural   \n",
       "...                ...              ...    ...     ...           ...   \n",
       "9129           2/10/11         Employed      M   71941         Urban   \n",
       "9130           2/12/11         Employed      F   21604      Suburban   \n",
       "9131            2/6/11       Unemployed      M       0      Suburban   \n",
       "9132            2/3/11         Employed      M   21941      Suburban   \n",
       "9133           2/14/11       Unemployed      M       0      Suburban   \n",
       "\n",
       "     marital_status  monthly_premium_auto  months_since_last_claim  \\\n",
       "0           Married                    69                       32   \n",
       "1            Single                    94                       13   \n",
       "2           Married                   108                       18   \n",
       "3           Married                   106                       18   \n",
       "4            Single                    73                       12   \n",
       "...             ...                   ...                      ...   \n",
       "9129        Married                    73                       18   \n",
       "9130       Divorced                    79                       14   \n",
       "9131         Single                    85                        9   \n",
       "9132        Married                    96                       34   \n",
       "9133         Single                    77                        3   \n",
       "\n",
       "      months_since_policy_inception  number_of_open_complaints  \\\n",
       "0                                 5                          0   \n",
       "1                                42                          0   \n",
       "2                                38                          0   \n",
       "3                                65                          0   \n",
       "4                                44                          0   \n",
       "...                             ...                        ...   \n",
       "9129                             89                          0   \n",
       "9130                             28                          0   \n",
       "9131                             37                          3   \n",
       "9132                              3                          0   \n",
       "9133                             90                          0   \n",
       "\n",
       "      number_of_policies     policy_type        policy renew_offer_type  \\\n",
       "0                      1  Corporate Auto  Corporate L3           Offer1   \n",
       "1                      8   Personal Auto   Personal L3           Offer3   \n",
       "2                      2   Personal Auto   Personal L3           Offer1   \n",
       "3                      7  Corporate Auto  Corporate L2           Offer1   \n",
       "4                      1   Personal Auto   Personal L1           Offer1   \n",
       "...                  ...             ...           ...              ...   \n",
       "9129                   2   Personal Auto   Personal L1           Offer2   \n",
       "9130                   1  Corporate Auto  Corporate L3           Offer1   \n",
       "9131                   2  Corporate Auto  Corporate L2           Offer1   \n",
       "9132                   3   Personal Auto   Personal L2           Offer3   \n",
       "9133                   1  Corporate Auto  Corporate L3           Offer4   \n",
       "\n",
       "     sales_channel  total_claim_amount  vehicle_class vehicle_size  \n",
       "0            Agent          384.811147   Two-Door Car      Medsize  \n",
       "1            Agent         1131.464935  Four-Door Car      Medsize  \n",
       "2            Agent          566.472247   Two-Door Car      Medsize  \n",
       "3      Call Center          529.881344            SUV      Medsize  \n",
       "4            Agent          138.130879  Four-Door Car      Medsize  \n",
       "...            ...                 ...            ...          ...  \n",
       "9129           Web          198.234764  Four-Door Car      Medsize  \n",
       "9130        Branch          379.200000  Four-Door Car      Medsize  \n",
       "9131        Branch          790.784983  Four-Door Car      Medsize  \n",
       "9132        Branch          691.200000  Four-Door Car        Large  \n",
       "9133   Call Center          369.600000   Two-Door Car      Medsize  \n",
       "\n",
       "[9134 rows x 23 columns]"
      ]
     },
     "execution_count": 11,
     "metadata": {},
     "output_type": "execute_result"
    }
   ],
   "source": [
    "customer_df = customer_df.drop(\"customer\", axis=1)\n",
    "customer_df"
   ]
  },
  {
   "cell_type": "markdown",
   "id": "b9436198",
   "metadata": {},
   "source": [
    "- Load the continuous and discrete variables into numericals_df and categorical_df variables, for eg:\n",
    "- numerical_df = customer_df.select_dtypes()\n",
    "- categorical_df = customer_df.select_dtypes()"
   ]
  },
  {
   "cell_type": "code",
   "execution_count": 12,
   "id": "f1204ed0",
   "metadata": {},
   "outputs": [],
   "source": [
    "numerical_df = customer_df.select_dtypes(include = np.number)\n",
    "categorical_df = customer_df.select_dtypes(include=\"object\")"
   ]
  },
  {
   "cell_type": "markdown",
   "id": "d4db82cc",
   "metadata": {},
   "source": [
    "- Plot every categorical variable. What can you see in the plots? Note that in the previous lab you used a bar plot to plot categorical data, with each unique category in the column on the x-axis and an appropriate measure on the y-axis. However, this time you will try a different plot. This time in each plot for the categorical variable you will have, each unique category in the column on the x-axis and the target(which is numerical) on the Y-axis"
   ]
  },
  {
   "cell_type": "code",
   "execution_count": 13,
   "id": "04e54f9d",
   "metadata": {},
   "outputs": [
    {
     "data": {
      "text/html": [
       "<div>\n",
       "<style scoped>\n",
       "    .dataframe tbody tr th:only-of-type {\n",
       "        vertical-align: middle;\n",
       "    }\n",
       "\n",
       "    .dataframe tbody tr th {\n",
       "        vertical-align: top;\n",
       "    }\n",
       "\n",
       "    .dataframe thead th {\n",
       "        text-align: right;\n",
       "    }\n",
       "</style>\n",
       "<table border=\"1\" class=\"dataframe\">\n",
       "  <thead>\n",
       "    <tr style=\"text-align: right;\">\n",
       "      <th></th>\n",
       "      <th>state</th>\n",
       "      <th>response</th>\n",
       "      <th>coverage</th>\n",
       "      <th>education</th>\n",
       "      <th>effective_to_date</th>\n",
       "      <th>employmentstatus</th>\n",
       "      <th>gender</th>\n",
       "      <th>location_code</th>\n",
       "      <th>marital_status</th>\n",
       "      <th>policy_type</th>\n",
       "      <th>policy</th>\n",
       "      <th>renew_offer_type</th>\n",
       "      <th>sales_channel</th>\n",
       "      <th>vehicle_class</th>\n",
       "      <th>vehicle_size</th>\n",
       "    </tr>\n",
       "  </thead>\n",
       "  <tbody>\n",
       "    <tr>\n",
       "      <th>0</th>\n",
       "      <td>Washington</td>\n",
       "      <td>No</td>\n",
       "      <td>Basic</td>\n",
       "      <td>Bachelor</td>\n",
       "      <td>2/24/11</td>\n",
       "      <td>Employed</td>\n",
       "      <td>F</td>\n",
       "      <td>Suburban</td>\n",
       "      <td>Married</td>\n",
       "      <td>Corporate Auto</td>\n",
       "      <td>Corporate L3</td>\n",
       "      <td>Offer1</td>\n",
       "      <td>Agent</td>\n",
       "      <td>Two-Door Car</td>\n",
       "      <td>Medsize</td>\n",
       "    </tr>\n",
       "    <tr>\n",
       "      <th>1</th>\n",
       "      <td>Arizona</td>\n",
       "      <td>No</td>\n",
       "      <td>Extended</td>\n",
       "      <td>Bachelor</td>\n",
       "      <td>1/31/11</td>\n",
       "      <td>Unemployed</td>\n",
       "      <td>F</td>\n",
       "      <td>Suburban</td>\n",
       "      <td>Single</td>\n",
       "      <td>Personal Auto</td>\n",
       "      <td>Personal L3</td>\n",
       "      <td>Offer3</td>\n",
       "      <td>Agent</td>\n",
       "      <td>Four-Door Car</td>\n",
       "      <td>Medsize</td>\n",
       "    </tr>\n",
       "    <tr>\n",
       "      <th>2</th>\n",
       "      <td>Nevada</td>\n",
       "      <td>No</td>\n",
       "      <td>Premium</td>\n",
       "      <td>Bachelor</td>\n",
       "      <td>2/19/11</td>\n",
       "      <td>Employed</td>\n",
       "      <td>F</td>\n",
       "      <td>Suburban</td>\n",
       "      <td>Married</td>\n",
       "      <td>Personal Auto</td>\n",
       "      <td>Personal L3</td>\n",
       "      <td>Offer1</td>\n",
       "      <td>Agent</td>\n",
       "      <td>Two-Door Car</td>\n",
       "      <td>Medsize</td>\n",
       "    </tr>\n",
       "    <tr>\n",
       "      <th>3</th>\n",
       "      <td>California</td>\n",
       "      <td>No</td>\n",
       "      <td>Basic</td>\n",
       "      <td>Bachelor</td>\n",
       "      <td>1/20/11</td>\n",
       "      <td>Unemployed</td>\n",
       "      <td>M</td>\n",
       "      <td>Suburban</td>\n",
       "      <td>Married</td>\n",
       "      <td>Corporate Auto</td>\n",
       "      <td>Corporate L2</td>\n",
       "      <td>Offer1</td>\n",
       "      <td>Call Center</td>\n",
       "      <td>SUV</td>\n",
       "      <td>Medsize</td>\n",
       "    </tr>\n",
       "    <tr>\n",
       "      <th>4</th>\n",
       "      <td>Washington</td>\n",
       "      <td>No</td>\n",
       "      <td>Basic</td>\n",
       "      <td>Bachelor</td>\n",
       "      <td>2/3/11</td>\n",
       "      <td>Employed</td>\n",
       "      <td>M</td>\n",
       "      <td>Rural</td>\n",
       "      <td>Single</td>\n",
       "      <td>Personal Auto</td>\n",
       "      <td>Personal L1</td>\n",
       "      <td>Offer1</td>\n",
       "      <td>Agent</td>\n",
       "      <td>Four-Door Car</td>\n",
       "      <td>Medsize</td>\n",
       "    </tr>\n",
       "    <tr>\n",
       "      <th>...</th>\n",
       "      <td>...</td>\n",
       "      <td>...</td>\n",
       "      <td>...</td>\n",
       "      <td>...</td>\n",
       "      <td>...</td>\n",
       "      <td>...</td>\n",
       "      <td>...</td>\n",
       "      <td>...</td>\n",
       "      <td>...</td>\n",
       "      <td>...</td>\n",
       "      <td>...</td>\n",
       "      <td>...</td>\n",
       "      <td>...</td>\n",
       "      <td>...</td>\n",
       "      <td>...</td>\n",
       "    </tr>\n",
       "    <tr>\n",
       "      <th>9129</th>\n",
       "      <td>California</td>\n",
       "      <td>No</td>\n",
       "      <td>Basic</td>\n",
       "      <td>Bachelor</td>\n",
       "      <td>2/10/11</td>\n",
       "      <td>Employed</td>\n",
       "      <td>M</td>\n",
       "      <td>Urban</td>\n",
       "      <td>Married</td>\n",
       "      <td>Personal Auto</td>\n",
       "      <td>Personal L1</td>\n",
       "      <td>Offer2</td>\n",
       "      <td>Web</td>\n",
       "      <td>Four-Door Car</td>\n",
       "      <td>Medsize</td>\n",
       "    </tr>\n",
       "    <tr>\n",
       "      <th>9130</th>\n",
       "      <td>California</td>\n",
       "      <td>Yes</td>\n",
       "      <td>Extended</td>\n",
       "      <td>College</td>\n",
       "      <td>2/12/11</td>\n",
       "      <td>Employed</td>\n",
       "      <td>F</td>\n",
       "      <td>Suburban</td>\n",
       "      <td>Divorced</td>\n",
       "      <td>Corporate Auto</td>\n",
       "      <td>Corporate L3</td>\n",
       "      <td>Offer1</td>\n",
       "      <td>Branch</td>\n",
       "      <td>Four-Door Car</td>\n",
       "      <td>Medsize</td>\n",
       "    </tr>\n",
       "    <tr>\n",
       "      <th>9131</th>\n",
       "      <td>California</td>\n",
       "      <td>No</td>\n",
       "      <td>Extended</td>\n",
       "      <td>Bachelor</td>\n",
       "      <td>2/6/11</td>\n",
       "      <td>Unemployed</td>\n",
       "      <td>M</td>\n",
       "      <td>Suburban</td>\n",
       "      <td>Single</td>\n",
       "      <td>Corporate Auto</td>\n",
       "      <td>Corporate L2</td>\n",
       "      <td>Offer1</td>\n",
       "      <td>Branch</td>\n",
       "      <td>Four-Door Car</td>\n",
       "      <td>Medsize</td>\n",
       "    </tr>\n",
       "    <tr>\n",
       "      <th>9132</th>\n",
       "      <td>California</td>\n",
       "      <td>No</td>\n",
       "      <td>Extended</td>\n",
       "      <td>College</td>\n",
       "      <td>2/3/11</td>\n",
       "      <td>Employed</td>\n",
       "      <td>M</td>\n",
       "      <td>Suburban</td>\n",
       "      <td>Married</td>\n",
       "      <td>Personal Auto</td>\n",
       "      <td>Personal L2</td>\n",
       "      <td>Offer3</td>\n",
       "      <td>Branch</td>\n",
       "      <td>Four-Door Car</td>\n",
       "      <td>Large</td>\n",
       "    </tr>\n",
       "    <tr>\n",
       "      <th>9133</th>\n",
       "      <td>California</td>\n",
       "      <td>No</td>\n",
       "      <td>Extended</td>\n",
       "      <td>College</td>\n",
       "      <td>2/14/11</td>\n",
       "      <td>Unemployed</td>\n",
       "      <td>M</td>\n",
       "      <td>Suburban</td>\n",
       "      <td>Single</td>\n",
       "      <td>Corporate Auto</td>\n",
       "      <td>Corporate L3</td>\n",
       "      <td>Offer4</td>\n",
       "      <td>Call Center</td>\n",
       "      <td>Two-Door Car</td>\n",
       "      <td>Medsize</td>\n",
       "    </tr>\n",
       "  </tbody>\n",
       "</table>\n",
       "<p>9134 rows × 15 columns</p>\n",
       "</div>"
      ],
      "text/plain": [
       "           state response  coverage education effective_to_date  \\\n",
       "0     Washington       No     Basic  Bachelor           2/24/11   \n",
       "1        Arizona       No  Extended  Bachelor           1/31/11   \n",
       "2         Nevada       No   Premium  Bachelor           2/19/11   \n",
       "3     California       No     Basic  Bachelor           1/20/11   \n",
       "4     Washington       No     Basic  Bachelor            2/3/11   \n",
       "...          ...      ...       ...       ...               ...   \n",
       "9129  California       No     Basic  Bachelor           2/10/11   \n",
       "9130  California      Yes  Extended   College           2/12/11   \n",
       "9131  California       No  Extended  Bachelor            2/6/11   \n",
       "9132  California       No  Extended   College            2/3/11   \n",
       "9133  California       No  Extended   College           2/14/11   \n",
       "\n",
       "     employmentstatus gender location_code marital_status     policy_type  \\\n",
       "0            Employed      F      Suburban        Married  Corporate Auto   \n",
       "1          Unemployed      F      Suburban         Single   Personal Auto   \n",
       "2            Employed      F      Suburban        Married   Personal Auto   \n",
       "3          Unemployed      M      Suburban        Married  Corporate Auto   \n",
       "4            Employed      M         Rural         Single   Personal Auto   \n",
       "...               ...    ...           ...            ...             ...   \n",
       "9129         Employed      M         Urban        Married   Personal Auto   \n",
       "9130         Employed      F      Suburban       Divorced  Corporate Auto   \n",
       "9131       Unemployed      M      Suburban         Single  Corporate Auto   \n",
       "9132         Employed      M      Suburban        Married   Personal Auto   \n",
       "9133       Unemployed      M      Suburban         Single  Corporate Auto   \n",
       "\n",
       "            policy renew_offer_type sales_channel  vehicle_class vehicle_size  \n",
       "0     Corporate L3           Offer1         Agent   Two-Door Car      Medsize  \n",
       "1      Personal L3           Offer3         Agent  Four-Door Car      Medsize  \n",
       "2      Personal L3           Offer1         Agent   Two-Door Car      Medsize  \n",
       "3     Corporate L2           Offer1   Call Center            SUV      Medsize  \n",
       "4      Personal L1           Offer1         Agent  Four-Door Car      Medsize  \n",
       "...            ...              ...           ...            ...          ...  \n",
       "9129   Personal L1           Offer2           Web  Four-Door Car      Medsize  \n",
       "9130  Corporate L3           Offer1        Branch  Four-Door Car      Medsize  \n",
       "9131  Corporate L2           Offer1        Branch  Four-Door Car      Medsize  \n",
       "9132   Personal L2           Offer3        Branch  Four-Door Car        Large  \n",
       "9133  Corporate L3           Offer4   Call Center   Two-Door Car      Medsize  \n",
       "\n",
       "[9134 rows x 15 columns]"
      ]
     },
     "execution_count": 13,
     "metadata": {},
     "output_type": "execute_result"
    }
   ],
   "source": [
    "categorical_df"
   ]
  },
  {
   "cell_type": "code",
   "execution_count": 44,
   "id": "e237c2bf",
   "metadata": {},
   "outputs": [
    {
     "data": {
      "image/png": "[encoded data removed]",
      "text/plain": [
       "<Figure size 1000x1500 with 12 Axes>"
      ]
     },
     "metadata": {},
     "output_type": "display_data"
    }
   ],
   "source": [
    "\n",
    "fig, axs = plt.subplots(nrows=4, ncols=3, figsize=(10, 15))\n",
    "\n",
    "categorical_df['state'].hist(ax=axs[0, 0], orientation=\"horizontal\")\n",
    "categorical_df['response'].hist(ax=axs[1, 0], orientation=\"horizontal\")\n",
    "categorical_df['coverage'].hist(ax=axs[2, 0], orientation=\"horizontal\")\n",
    "categorical_df['education'].hist(ax=axs[3, 0], orientation=\"horizontal\")\n",
    "categorical_df['employmentstatus'].hist(ax=axs[0, 1], orientation=\"horizontal\")\n",
    "categorical_df['gender'].hist(ax=axs[1, 1], orientation=\"horizontal\")\n",
    "categorical_df['location_code'].hist(ax=axs[2, 1], orientation=\"horizontal\")\n",
    "categorical_df['marital_status'].hist(ax=axs[3, 1], orientation=\"horizontal\")\n",
    "categorical_df['policy_type'].hist(ax=axs[0, 2], orientation=\"horizontal\")\n",
    "categorical_df['policy'].hist(ax=axs[1, 2], orientation=\"horizontal\")\n",
    "categorical_df['renew_offer_type'].hist(ax=axs[2, 2], orientation=\"horizontal\")\n",
    "categorical_df['sales_channel'].hist(ax=axs[3, 2], orientation=\"horizontal\")\n",
    "\n",
    "plt.tight_layout()\n",
    "plt.show()"
   ]
  },
  {
   "cell_type": "markdown",
   "id": "63c69535",
   "metadata": {},
   "source": [
    "- For the categorical data, check if there is any data cleaning that need to perform. Hint: You can use the function value_counts() on each of the categorical columns and check the representation of different categories in each column. Discuss if this information might in some way be used for data cleaning."
   ]
  },
  {
   "cell_type": "code",
   "execution_count": 24,
   "id": "a2e39ae7",
   "metadata": {},
   "outputs": [
    {
     "data": {
      "text/plain": [
       "California    34.486534\n",
       "Oregon        28.476024\n",
       "Arizona       18.644624\n",
       "Nevada         9.656229\n",
       "Washington     8.736589\n",
       "Name: state, dtype: float64"
      ]
     },
     "execution_count": 24,
     "metadata": {},
     "output_type": "execute_result"
    }
   ],
   "source": [
    "100*categorical_df['state'].value_counts()/len(categorical_df['state'])"
   ]
  },
  {
   "cell_type": "code",
   "execution_count": 25,
   "id": "f94d5db0",
   "metadata": {},
   "outputs": [
    {
     "data": {
      "text/plain": [
       "No     85.679877\n",
       "Yes    14.320123\n",
       "Name: response, dtype: float64"
      ]
     },
     "execution_count": 25,
     "metadata": {},
     "output_type": "execute_result"
    }
   ],
   "source": [
    "100*categorical_df['response'].value_counts()/len(categorical_df['response'])"
   ]
  },
  {
   "cell_type": "code",
   "execution_count": 26,
   "id": "e228e5c3",
   "metadata": {},
   "outputs": [
    {
     "data": {
      "text/plain": [
       "Basic       60.959054\n",
       "Extended    30.019707\n",
       "Premium      9.021239\n",
       "Name: coverage, dtype: float64"
      ]
     },
     "execution_count": 26,
     "metadata": {},
     "output_type": "execute_result"
    }
   ],
   "source": [
    "100*categorical_df['coverage'].value_counts()/len(categorical_df['coverage'])"
   ]
  },
  {
   "cell_type": "code",
   "execution_count": 27,
   "id": "2ac77d75",
   "metadata": {},
   "outputs": [
    {
     "data": {
      "text/plain": [
       "Bachelor                30.085395\n",
       "College                 29.351872\n",
       "High School or Below    28.705934\n",
       "Master                   8.112547\n",
       "Doctor                   3.744252\n",
       "Name: education, dtype: float64"
      ]
     },
     "execution_count": 27,
     "metadata": {},
     "output_type": "execute_result"
    }
   ],
   "source": [
    "100*categorical_df['education'].value_counts()/len(categorical_df['education'])"
   ]
  },
  {
   "cell_type": "code",
   "execution_count": 28,
   "id": "a77eb41c",
   "metadata": {},
   "outputs": [
    {
     "data": {
      "text/plain": [
       "Employed         62.382308\n",
       "Unemployed       25.366762\n",
       "Medical Leave     4.729582\n",
       "Disabled          4.433983\n",
       "Retired           3.087366\n",
       "Name: employmentstatus, dtype: float64"
      ]
     },
     "execution_count": 28,
     "metadata": {},
     "output_type": "execute_result"
    }
   ],
   "source": [
    "100*categorical_df['employmentstatus'].value_counts()/len(categorical_df['employmentstatus'])"
   ]
  },
  {
   "cell_type": "code",
   "execution_count": 29,
   "id": "71c641fb",
   "metadata": {},
   "outputs": [
    {
     "data": {
      "text/plain": [
       "F    50.996278\n",
       "M    49.003722\n",
       "Name: gender, dtype: float64"
      ]
     },
     "execution_count": 29,
     "metadata": {},
     "output_type": "execute_result"
    }
   ],
   "source": [
    "100*categorical_df['gender'].value_counts()/len(categorical_df['gender'])"
   ]
  },
  {
   "cell_type": "code",
   "execution_count": 30,
   "id": "2953ecb3",
   "metadata": {},
   "outputs": [
    {
     "data": {
      "text/plain": [
       "Suburban    63.269104\n",
       "Rural       19.410992\n",
       "Urban       17.319904\n",
       "Name: location_code, dtype: float64"
      ]
     },
     "execution_count": 30,
     "metadata": {},
     "output_type": "execute_result"
    }
   ],
   "source": [
    "100*categorical_df['location_code'].value_counts()/len(categorical_df['location_code'])"
   ]
  },
  {
   "cell_type": "code",
   "execution_count": 31,
   "id": "f433b478",
   "metadata": {},
   "outputs": [
    {
     "data": {
      "text/plain": [
       "Married     58.003065\n",
       "Single      27.008977\n",
       "Divorced    14.987957\n",
       "Name: marital_status, dtype: float64"
      ]
     },
     "execution_count": 31,
     "metadata": {},
     "output_type": "execute_result"
    }
   ],
   "source": [
    "100*categorical_df['marital_status'].value_counts()/len(categorical_df['marital_status'])"
   ]
  },
  {
   "cell_type": "code",
   "execution_count": 32,
   "id": "dae1d4c8",
   "metadata": {},
   "outputs": [
    {
     "data": {
      "text/plain": [
       "Personal Auto     74.315743\n",
       "Corporate Auto    21.545873\n",
       "Special Auto       4.138384\n",
       "Name: policy_type, dtype: float64"
      ]
     },
     "execution_count": 32,
     "metadata": {},
     "output_type": "execute_result"
    }
   ],
   "source": [
    "100*categorical_df['policy_type'].value_counts()/len(categorical_df['policy_type'])"
   ]
  },
  {
   "cell_type": "code",
   "execution_count": 33,
   "id": "b348e071",
   "metadata": {},
   "outputs": [
    {
     "data": {
      "text/plain": [
       "Personal L3     37.508211\n",
       "Personal L2     23.231881\n",
       "Personal L1     13.575651\n",
       "Corporate L3    11.101379\n",
       "Corporate L2     6.514123\n",
       "Corporate L1     3.930370\n",
       "Special L2       1.795489\n",
       "Special L3       1.620320\n",
       "Special L1       0.722575\n",
       "Name: policy, dtype: float64"
      ]
     },
     "execution_count": 33,
     "metadata": {},
     "output_type": "execute_result"
    }
   ],
   "source": [
    "100*categorical_df['policy'].value_counts()/len(categorical_df['policy'])"
   ]
  },
  {
   "cell_type": "code",
   "execution_count": 34,
   "id": "8002285c",
   "metadata": {},
   "outputs": [
    {
     "data": {
      "text/plain": [
       "Offer1    41.077294\n",
       "Offer2    32.034158\n",
       "Offer3    15.677688\n",
       "Offer4    11.210861\n",
       "Name: renew_offer_type, dtype: float64"
      ]
     },
     "execution_count": 34,
     "metadata": {},
     "output_type": "execute_result"
    }
   ],
   "source": [
    "100*categorical_df['renew_offer_type'].value_counts()/len(categorical_df['renew_offer_type'])"
   ]
  },
  {
   "cell_type": "code",
   "execution_count": 35,
   "id": "2f37d11e",
   "metadata": {},
   "outputs": [
    {
     "data": {
      "text/plain": [
       "Agent          38.066564\n",
       "Branch         28.103788\n",
       "Call Center    19.323407\n",
       "Web            14.506240\n",
       "Name: sales_channel, dtype: float64"
      ]
     },
     "execution_count": 35,
     "metadata": {},
     "output_type": "execute_result"
    }
   ],
   "source": [
    "100*categorical_df['sales_channel'].value_counts()/len(categorical_df['sales_channel'])"
   ]
  },
  {
   "cell_type": "code",
   "execution_count": 36,
   "id": "2a7d3fd3",
   "metadata": {},
   "outputs": [
    {
     "data": {
      "text/plain": [
       "Four-Door Car    50.591198\n",
       "Two-Door Car     20.648128\n",
       "SUV              19.662798\n",
       "Sports Car        5.298883\n",
       "Luxury SUV        2.014451\n",
       "Luxury Car        1.784541\n",
       "Name: vehicle_class, dtype: float64"
      ]
     },
     "execution_count": 36,
     "metadata": {},
     "output_type": "execute_result"
    }
   ],
   "source": [
    "100*categorical_df['vehicle_class'].value_counts()/len(categorical_df['vehicle_class'])"
   ]
  },
  {
   "cell_type": "code",
   "execution_count": 37,
   "id": "47786691",
   "metadata": {},
   "outputs": [
    {
     "data": {
      "text/plain": [
       "Medsize    70.330633\n",
       "Small      19.312459\n",
       "Large      10.356908\n",
       "Name: vehicle_size, dtype: float64"
      ]
     },
     "execution_count": 37,
     "metadata": {},
     "output_type": "execute_result"
    }
   ],
   "source": [
    "100*categorical_df['vehicle_size'].value_counts()/len(categorical_df['vehicle_size'])"
   ]
  },
  {
   "cell_type": "code",
   "execution_count": null,
   "id": "92c8d5c4",
   "metadata": {},
   "outputs": [],
   "source": []
  }
 ],
 "metadata": {
  "kernelspec": {
   "display_name": "Python 3 (ipykernel)",
   "language": "python",
   "name": "python3"
  },
  "language_info": {
   "codemirror_mode": {
    "name": "ipython",
    "version": 3
   },
   "file_extension": ".py",
   "mimetype": "text/x-python",
   "name": "python",
   "nbconvert_exporter": "python",
   "pygments_lexer": "ipython3",
   "version": "3.9.13"
  }
 },
 "nbformat": 4,
 "nbformat_minor": 5
}
