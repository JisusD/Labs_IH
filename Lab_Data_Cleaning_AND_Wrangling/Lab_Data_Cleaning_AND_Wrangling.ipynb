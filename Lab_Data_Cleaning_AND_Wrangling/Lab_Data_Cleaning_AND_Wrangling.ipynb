{
 "cells": [
  {
   "cell_type": "markdown",
   "id": "8bbdd262",
   "metadata": {},
   "source": [
    "# Instructions Lab_Comparing_regression_models \n",
    "For this lab, we will be using the same dataset we used in the previous labs. We recommend using the same notebook since you will be reusing the same variables you previous created and used in labs."
   ]
  },
  {
   "cell_type": "code",
   "execution_count": 56,
   "id": "1c999d98",
   "metadata": {},
   "outputs": [],
   "source": [
    "from sklearn.preprocessing import StandardScaler\n",
    "from sklearn.preprocessing import OneHotEncoder\n",
    "from sklearn.model_selection import train_test_split\n",
    "import pandas as pd\n",
    "import numpy as np\n",
    "from sklearn.neighbors import KNeighborsRegressor\n",
    "from sklearn.linear_model import LinearRegression\n",
    "import matplotlib.pyplot as plt"
   ]
  },
  {
   "cell_type": "code",
   "execution_count": 57,
   "id": "a063b004",
   "metadata": {},
   "outputs": [],
   "source": [
    "customer_df = pd.read_csv(\"we_fn_use_c_marketing_customer_value_analysis.csv\")"
   ]
  },
  {
   "cell_type": "code",
   "execution_count": 58,
   "id": "2e107d4c",
   "metadata": {},
   "outputs": [],
   "source": [
    "customer_df.columns = [col.replace(\" \", \"_\").lower() for col in customer_df]"
   ]
  },
  {
   "cell_type": "code",
   "execution_count": 59,
   "id": "570c0c0b",
   "metadata": {},
   "outputs": [],
   "source": [
    "customer_df['effective_to_date'] = pd.to_datetime(customer_df['effective_to_date']) "
   ]
  },
  {
   "cell_type": "code",
   "execution_count": 60,
   "id": "eae02b69",
   "metadata": {},
   "outputs": [],
   "source": [
    "customer_df = customer_df.drop(\"customer\", axis=1)"
   ]
  },
  {
   "cell_type": "markdown",
   "id": "c8bd1600",
   "metadata": {},
   "source": [
    "- In this final lab, we will model our data. Import sklearn train_test_split and separate the data."
   ]
  },
  {
   "cell_type": "code",
   "execution_count": 61,
   "id": "c8156c9f",
   "metadata": {},
   "outputs": [],
   "source": [
    "from sklearn.model_selection import train_test_split"
   ]
  },
  {
   "cell_type": "code",
   "execution_count": 62,
   "id": "e727f958",
   "metadata": {},
   "outputs": [],
   "source": [
    "numerical_df = customer_df.select_dtypes(include = np.number)\n",
    "numerical_df =numerical_df.drop(['total_claim_amount'],axis=1)\n",
    "categorical_df = customer_df.select_dtypes(include=\"object\")"
   ]
  },
  {
   "cell_type": "markdown",
   "id": "0d047a70",
   "metadata": {},
   "source": [
    "-Try a simple linear regression with all the data to see whether we are getting good results."
   ]
  },
  {
   "cell_type": "code",
   "execution_count": 63,
   "id": "1cf95421",
   "metadata": {},
   "outputs": [],
   "source": [
    "transformer = StandardScaler().fit(numerical_df)\n",
    "x_standardized= transformer.transform(numerical_df)"
   ]
  },
  {
   "cell_type": "code",
   "execution_count": 64,
   "id": "079f8b8f",
   "metadata": {},
   "outputs": [],
   "source": [
    "encoder = OneHotEncoder(handle_unknown='error',drop='first').fit(categorical_df)\n",
    "encoded= encoder.transform(categorical_df).toarray()"
   ]
  },
  {
   "cell_type": "code",
   "execution_count": 65,
   "id": "8fde49b4",
   "metadata": {},
   "outputs": [],
   "source": [
    "y = customer_df['total_claim_amount']\n",
    "x = np.concatenate((x_standardized, encoded), axis=1)"
   ]
  },
  {
   "cell_type": "code",
   "execution_count": 66,
   "id": "7178aded",
   "metadata": {},
   "outputs": [],
   "source": [
    "x_train,x_test,y_train,y_test = train_test_split(x,y, test_size = 0.4, random_state =100)"
   ]
  },
  {
   "cell_type": "code",
   "execution_count": 67,
   "id": "9b7c4fae",
   "metadata": {},
   "outputs": [
    {
     "data": {
      "text/plain": [
       "0.7695027443638532"
      ]
     },
     "execution_count": 67,
     "metadata": {},
     "output_type": "execute_result"
    }
   ],
   "source": [
    "model = LinearRegression()\n",
    "model.fit(x_train, y_train)\n",
    "predictions = model.predict(x_test)\n",
    "score = model.score(x_test, y_test)\n",
    "score"
   ]
  },
  {
   "cell_type": "markdown",
   "id": "4e81619f",
   "metadata": {},
   "source": [
    "- Great! Now define a function that takes a list of models and train (and tests) them so we can try a lot of them without repeating code."
   ]
  },
  {
   "cell_type": "code",
   "execution_count": 68,
   "id": "7ce6502f",
   "metadata": {},
   "outputs": [],
   "source": [
    "def models_train(x,y):\n",
    "    x_train,x_test,y_train,y_test = train_test_split(x,y, test_size = 0.4, random_state =100)\n",
    "    \n",
    "    model = LinearRegression()\n",
    "    model.fit(x_train, y_train)\n",
    "    predictions_LR = model.predict(x_test)\n",
    "    score_LR = model.score(x_test, y_test)\n",
    "    \n",
    "    model = KNeighborsRegressor(n_neighbors=30)  \n",
    "    model.fit(x_train, y_train)\n",
    "    predictions_KNR = model.predict(x_test)\n",
    "    score_KNR = model.score(x_test, y_test)\n",
    "    \n",
    "    return (score_LR, score_KNR)"
   ]
  },
  {
   "cell_type": "markdown",
   "id": "b981012a",
   "metadata": {},
   "source": [
    "- Use the function to check LinearRegressor and KNeighborsRegressor."
   ]
  },
  {
   "cell_type": "code",
   "execution_count": 69,
   "id": "0fba51e7",
   "metadata": {},
   "outputs": [],
   "source": [
    "R2_LR, R2_KNR = models_train(x,y)"
   ]
  },
  {
   "cell_type": "code",
   "execution_count": 70,
   "id": "ba2f05fa",
   "metadata": {},
   "outputs": [
    {
     "name": "stdout",
     "output_type": "stream",
     "text": [
      "0.7695027443638532 0.6348149429511091\n"
     ]
    }
   ],
   "source": [
    "print(R2_LR, R2_KNR)"
   ]
  },
  {
   "cell_type": "markdown",
   "id": "316e31d8",
   "metadata": {},
   "source": [
    "- You can check also the MLPRegressor for this task!\n",
    "- Check and discuss the results."
   ]
  },
  {
   "cell_type": "code",
   "execution_count": 71,
   "id": "3f9a4928",
   "metadata": {},
   "outputs": [
    {
     "name": "stderr",
     "output_type": "stream",
     "text": [
      "C:\\Anaconda3\\lib\\site-packages\\sklearn\\neural_network\\_multilayer_perceptron.py:692: ConvergenceWarning: Stochastic Optimizer: Maximum iterations (500) reached and the optimization hasn't converged yet.\n",
      "  warnings.warn(\n"
     ]
    },
    {
     "data": {
      "text/plain": [
       "0.834878048369506"
      ]
     },
     "execution_count": 71,
     "metadata": {},
     "output_type": "execute_result"
    }
   ],
   "source": [
    "from sklearn.neural_network import MLPRegressor\n",
    "from sklearn.datasets import make_regression\n",
    "from sklearn.model_selection import train_test_split\n",
    "\n",
    "\n",
    "X_train, X_test, y_train, y_test = train_test_split(x,y, test_size = 0.4, random_state =100)\n",
    "regr = MLPRegressor(max_iter=500).fit(x_train, y_train)\n",
    "regr.predict(X_test)\n",
    "\n",
    "regr_score = regr.score(X_test, y_test)\n",
    "regr_score"
   ]
  },
  {
   "cell_type": "markdown",
   "id": "7c0e64ab",
   "metadata": {},
   "source": [
    "## For this lab, we will be using the same dataset we used in the previous labs. We recommend using the same notebook since you will be reusing the same variables you previous created and used in labs."
   ]
  },
  {
   "cell_type": "markdown",
   "id": "60dd1f26",
   "metadata": {},
   "source": [
    "# Instructions Lab_Data_Cleaning_AND_Wrangling\n",
    "So far we have worked on EDA. This lab will focus on data cleaning and wrangling from everything we noticed before."
   ]
  },
  {
   "cell_type": "markdown",
   "id": "5de6270e",
   "metadata": {},
   "source": [
    "- We will start with removing outliers. So far, we have discussed different methods to remove outliers. Use the one you feel more comfortable with, define a function for that. Use the function to remove the outliers and apply it to the dataframe."
   ]
  },
  {
   "cell_type": "code",
   "execution_count": 72,
   "id": "401e230f",
   "metadata": {},
   "outputs": [],
   "source": [
    "def remove_outliers(data):\n",
    "    lower_limit = np.percentile(data, 20)\n",
    "    upper_limit = np.percentile(data, 80)\n",
    "    # la función clip() de NumPy para recortar los valores atípicos por encima \n",
    "    # y por debajo del rango permitido\n",
    "    data_clean = np.clip(data, lower_limit, upper_limit)\n",
    "    return data_clean"
   ]
  },
  {
   "cell_type": "code",
   "execution_count": 73,
   "id": "7f0afb06",
   "metadata": {},
   "outputs": [
    {
     "name": "stderr",
     "output_type": "stream",
     "text": [
      "C:\\Anaconda3\\lib\\site-packages\\numpy\\core\\fromnumeric.py:57: FutureWarning: Downcasting integer-dtype results in .where is deprecated and will change in a future version. To retain the old behavior, explicitly cast the results to the desired dtype.\n",
      "  return bound(*args, **kwds)\n"
     ]
    },
    {
     "data": {
      "text/html": [
       "<div>\n",
       "<style scoped>\n",
       "    .dataframe tbody tr th:only-of-type {\n",
       "        vertical-align: middle;\n",
       "    }\n",
       "\n",
       "    .dataframe tbody tr th {\n",
       "        vertical-align: top;\n",
       "    }\n",
       "\n",
       "    .dataframe thead th {\n",
       "        text-align: right;\n",
       "    }\n",
       "</style>\n",
       "<table border=\"1\" class=\"dataframe\">\n",
       "  <thead>\n",
       "    <tr style=\"text-align: right;\">\n",
       "      <th></th>\n",
       "      <th>customer_lifetime_value</th>\n",
       "      <th>income</th>\n",
       "      <th>monthly_premium_auto</th>\n",
       "      <th>months_since_last_claim</th>\n",
       "      <th>months_since_policy_inception</th>\n",
       "      <th>number_of_open_complaints</th>\n",
       "      <th>number_of_policies</th>\n",
       "    </tr>\n",
       "  </thead>\n",
       "  <tbody>\n",
       "    <tr>\n",
       "      <th>0</th>\n",
       "      <td>2763.519279</td>\n",
       "      <td>4804.451968</td>\n",
       "      <td>69</td>\n",
       "      <td>32</td>\n",
       "      <td>5</td>\n",
       "      <td>1</td>\n",
       "      <td>1</td>\n",
       "    </tr>\n",
       "    <tr>\n",
       "      <th>1</th>\n",
       "      <td>4804.451968</td>\n",
       "      <td>1.000000</td>\n",
       "      <td>94</td>\n",
       "      <td>13</td>\n",
       "      <td>42</td>\n",
       "      <td>1</td>\n",
       "      <td>8</td>\n",
       "    </tr>\n",
       "    <tr>\n",
       "      <th>2</th>\n",
       "      <td>4804.451968</td>\n",
       "      <td>4804.451968</td>\n",
       "      <td>108</td>\n",
       "      <td>18</td>\n",
       "      <td>38</td>\n",
       "      <td>1</td>\n",
       "      <td>2</td>\n",
       "    </tr>\n",
       "    <tr>\n",
       "      <th>3</th>\n",
       "      <td>4804.451968</td>\n",
       "      <td>1.000000</td>\n",
       "      <td>106</td>\n",
       "      <td>18</td>\n",
       "      <td>65</td>\n",
       "      <td>1</td>\n",
       "      <td>7</td>\n",
       "    </tr>\n",
       "    <tr>\n",
       "      <th>4</th>\n",
       "      <td>2813.692575</td>\n",
       "      <td>4804.451968</td>\n",
       "      <td>73</td>\n",
       "      <td>12</td>\n",
       "      <td>44</td>\n",
       "      <td>1</td>\n",
       "      <td>1</td>\n",
       "    </tr>\n",
       "    <tr>\n",
       "      <th>...</th>\n",
       "      <td>...</td>\n",
       "      <td>...</td>\n",
       "      <td>...</td>\n",
       "      <td>...</td>\n",
       "      <td>...</td>\n",
       "      <td>...</td>\n",
       "      <td>...</td>\n",
       "    </tr>\n",
       "    <tr>\n",
       "      <th>9129</th>\n",
       "      <td>4804.451968</td>\n",
       "      <td>4804.451968</td>\n",
       "      <td>73</td>\n",
       "      <td>18</td>\n",
       "      <td>89</td>\n",
       "      <td>1</td>\n",
       "      <td>2</td>\n",
       "    </tr>\n",
       "    <tr>\n",
       "      <th>9130</th>\n",
       "      <td>3096.511217</td>\n",
       "      <td>4804.451968</td>\n",
       "      <td>79</td>\n",
       "      <td>14</td>\n",
       "      <td>28</td>\n",
       "      <td>1</td>\n",
       "      <td>1</td>\n",
       "    </tr>\n",
       "    <tr>\n",
       "      <th>9131</th>\n",
       "      <td>4804.451968</td>\n",
       "      <td>1.000000</td>\n",
       "      <td>85</td>\n",
       "      <td>9</td>\n",
       "      <td>37</td>\n",
       "      <td>3</td>\n",
       "      <td>2</td>\n",
       "    </tr>\n",
       "    <tr>\n",
       "      <th>9132</th>\n",
       "      <td>4804.451968</td>\n",
       "      <td>4804.451968</td>\n",
       "      <td>96</td>\n",
       "      <td>34</td>\n",
       "      <td>3</td>\n",
       "      <td>1</td>\n",
       "      <td>3</td>\n",
       "    </tr>\n",
       "    <tr>\n",
       "      <th>9133</th>\n",
       "      <td>2611.836866</td>\n",
       "      <td>1.000000</td>\n",
       "      <td>77</td>\n",
       "      <td>3</td>\n",
       "      <td>90</td>\n",
       "      <td>1</td>\n",
       "      <td>1</td>\n",
       "    </tr>\n",
       "  </tbody>\n",
       "</table>\n",
       "<p>9134 rows × 7 columns</p>\n",
       "</div>"
      ],
      "text/plain": [
       "      customer_lifetime_value       income  monthly_premium_auto  \\\n",
       "0                 2763.519279  4804.451968                    69   \n",
       "1                 4804.451968     1.000000                    94   \n",
       "2                 4804.451968  4804.451968                   108   \n",
       "3                 4804.451968     1.000000                   106   \n",
       "4                 2813.692575  4804.451968                    73   \n",
       "...                       ...          ...                   ...   \n",
       "9129              4804.451968  4804.451968                    73   \n",
       "9130              3096.511217  4804.451968                    79   \n",
       "9131              4804.451968     1.000000                    85   \n",
       "9132              4804.451968  4804.451968                    96   \n",
       "9133              2611.836866     1.000000                    77   \n",
       "\n",
       "      months_since_last_claim  months_since_policy_inception  \\\n",
       "0                          32                              5   \n",
       "1                          13                             42   \n",
       "2                          18                             38   \n",
       "3                          18                             65   \n",
       "4                          12                             44   \n",
       "...                       ...                            ...   \n",
       "9129                       18                             89   \n",
       "9130                       14                             28   \n",
       "9131                        9                             37   \n",
       "9132                       34                              3   \n",
       "9133                        3                             90   \n",
       "\n",
       "      number_of_open_complaints  number_of_policies  \n",
       "0                             1                   1  \n",
       "1                             1                   8  \n",
       "2                             1                   2  \n",
       "3                             1                   7  \n",
       "4                             1                   1  \n",
       "...                         ...                 ...  \n",
       "9129                          1                   2  \n",
       "9130                          1                   1  \n",
       "9131                          3                   2  \n",
       "9132                          1                   3  \n",
       "9133                          1                   1  \n",
       "\n",
       "[9134 rows x 7 columns]"
      ]
     },
     "execution_count": 73,
     "metadata": {},
     "output_type": "execute_result"
    }
   ],
   "source": [
    "numerical_clean = remove_outliers(numerical_df)\n",
    "numerical_clean"
   ]
  },
  {
   "cell_type": "markdown",
   "id": "e072dff6",
   "metadata": {},
   "source": [
    "- Create a copy of the dataframe for the data wrangling."
   ]
  },
  {
   "cell_type": "markdown",
   "id": "568bfd3d",
   "metadata": {},
   "source": [
    "- Normalize the continuous variables. You can use any one method you want."
   ]
  },
  {
   "cell_type": "code",
   "execution_count": 74,
   "id": "4dd4818c",
   "metadata": {},
   "outputs": [],
   "source": [
    "transformer = StandardScaler().fit(numerical_clean)\n",
    "x_standardized= transformer.transform(numerical_clean)"
   ]
  },
  {
   "cell_type": "markdown",
   "id": "cbe2812b",
   "metadata": {},
   "source": [
    "- Encode the categorical variables"
   ]
  },
  {
   "cell_type": "code",
   "execution_count": 75,
   "id": "2c9c6b04",
   "metadata": {},
   "outputs": [],
   "source": [
    "encoder = OneHotEncoder(handle_unknown='error',drop='first').fit(categorical_df)\n",
    "encoded= encoder.transform(categorical_df).toarray()"
   ]
  },
  {
   "cell_type": "markdown",
   "id": "a312039d",
   "metadata": {},
   "source": [
    "- The time variable can be useful. Try to transform its data into a useful one. Hint: Day week and month as integers might be useful."
   ]
  },
  {
   "cell_type": "code",
   "execution_count": 76,
   "id": "b8b005ae",
   "metadata": {},
   "outputs": [],
   "source": [
    "numerical_clean['month'] = customer_df['effective_to_date'].dt.month\n",
    "numerical_clean['day'] = customer_df['effective_to_date'].dt.day"
   ]
  },
  {
   "cell_type": "markdown",
   "id": "ec6e5b86",
   "metadata": {},
   "source": [
    "- Since the model will only accept numerical data, check and make sure that every column is numerical, if some are not, change it using encoding."
   ]
  },
  {
   "cell_type": "code",
   "execution_count": 77,
   "id": "a3f51249",
   "metadata": {},
   "outputs": [],
   "source": [
    "transformer = StandardScaler().fit(numerical_clean)\n",
    "x_standardized= transformer.transform(numerical_clean)"
   ]
  },
  {
   "cell_type": "markdown",
   "id": "de80d808",
   "metadata": {},
   "source": [
    "-Hint for Categorical Variables\n",
    "\n",
    "You should deal with the categorical variables as shown below (for ordinal encoding, dummy code has been provided as well):"
   ]
  },
  {
   "cell_type": "code",
   "execution_count": null,
   "id": "32b189f7",
   "metadata": {},
   "outputs": [],
   "source": [
    "\"\"\"\n",
    "# One hot to state\n",
    "# Ordinal to coverage\n",
    "# Ordinal to employmentstatus\n",
    "# Ordinal to location code\n",
    "# One hot to marital status\n",
    "# One hot to policy type\n",
    "# One hot to policy\n",
    "# One hot to renew offercustomer_df\n",
    "# One hot to sales channel\n",
    "# One hot vehicle class\n",
    "# Ordinal vehicle size\n",
    "\n",
    "data[\"coverage\"] = data[\"coverage\"].map({\"Basic\" : 0, \"Extended\" : 1, \"Premium\" : 2})\n",
    "# given that column \"coverage\" in the dataframe \"data\" has three categories:\n",
    "# \"basic\", \"extended\", and \"premium\" and values are to be represented in the same order.\n",
    "\n",
    "\"\"\""
   ]
  },
  {
   "cell_type": "code",
   "execution_count": null,
   "id": "96def3fa",
   "metadata": {},
   "outputs": [],
   "source": []
  },
  {
   "cell_type": "code",
   "execution_count": null,
   "id": "005e3720",
   "metadata": {},
   "outputs": [],
   "source": []
  }
 ],
 "metadata": {
  "kernelspec": {
   "display_name": "Python 3 (ipykernel)",
   "language": "python",
   "name": "python3"
  },
  "language_info": {
   "codemirror_mode": {
    "name": "ipython",
    "version": 3
   },
   "file_extension": ".py",
   "mimetype": "text/x-python",
   "name": "python",
   "nbconvert_exporter": "python",
   "pygments_lexer": "ipython3",
   "version": "3.9.13"
  }
 },
 "nbformat": 4,
 "nbformat_minor": 5
}
