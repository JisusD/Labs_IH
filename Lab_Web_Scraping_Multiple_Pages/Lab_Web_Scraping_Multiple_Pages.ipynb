{
 "cells": [
  {
   "cell_type": "markdown",
   "id": "3350baaf",
   "metadata": {},
   "source": [
    "# Lab | Web Scraping Multiple Pages"
   ]
  },
  {
   "cell_type": "markdown",
   "id": "a393ed7d",
   "metadata": {},
   "source": [
    "## Business goal:\n",
    "- Check the case_study_gnod.md file.\n",
    "\n",
    "- Make sure you've understood the big picture of your project:\n",
    "\n",
    "1. the goal of the company (Gnod),\n",
    "2. their current product (Gnoosic),\n",
    "3. their strategy, and\n",
    "4. how your project fits into this context.\n",
    "\n",
    "Re-read the business case and the e-mail from the CTO, take a look at the flowchart and create an initial Trello board with the tasks you think you'll have to accomplish."
   ]
  },
  {
   "cell_type": "markdown",
   "id": "e7b0a414",
   "metadata": {},
   "source": [
    "## Instructions\n",
    "\n",
    "- Prioritize the MVP\n",
    "\n",
    "In the previous lab, you had to scrape data about \"hot songs\". It's critical to be on track with that part, as it was part of the request from the CTO.\n",
    "\n",
    "If you couldn't finish the first lab, use this time to go back there."
   ]
  },
  {
   "cell_type": "markdown",
   "id": "ddc81cd1",
   "metadata": {},
   "source": [
    "- Expand the project\n",
    "\n",
    "If you're done, you can try to expand the project on your own. Here are a few suggestions:\n",
    "\n",
    "Find other lists of hot songs on the internet and scrape them too: having a bigger pool of songs will be awesome!\n",
    "Apply the same logic to other \"groups\" of songs: the best songs from a decade or from a country / culture / language / genre.\n",
    "Wikipedia maintains a large collection of lists of songs: https://en.wikipedia.org/wiki/Lists_of_songs"
   ]
  },
  {
   "cell_type": "code",
   "execution_count": 1,
   "id": "5f2a214c",
   "metadata": {},
   "outputs": [],
   "source": [
    "import requests\n",
    "import pandas as pd\n",
    "from bs4 import BeautifulSoup"
   ]
  },
  {
   "cell_type": "code",
   "execution_count": 2,
   "id": "d536c578",
   "metadata": {},
   "outputs": [],
   "source": [
    "url = 'https://en.wikipedia.org/wiki/List_of_songs_recorded_by_Joy_Division'"
   ]
  },
  {
   "cell_type": "code",
   "execution_count": 3,
   "id": "2b15ec6d",
   "metadata": {},
   "outputs": [],
   "source": [
    "response = requests.get(url)"
   ]
  },
  {
   "cell_type": "code",
   "execution_count": 4,
   "id": "36f60dc0",
   "metadata": {},
   "outputs": [
    {
     "data": {
      "text/plain": [
       "200"
      ]
     },
     "execution_count": 4,
     "metadata": {},
     "output_type": "execute_result"
    }
   ],
   "source": [
    "response.status_code"
   ]
  },
  {
   "cell_type": "code",
   "execution_count": 5,
   "id": "2781a710",
   "metadata": {},
   "outputs": [],
   "source": [
    "soup = BeautifulSoup(response.content,\"html.parser\")"
   ]
  },
  {
   "cell_type": "code",
   "execution_count": 136,
   "id": "13ac63c6",
   "metadata": {
    "scrolled": true
   },
   "outputs": [
    {
     "data": {
      "text/plain": [
       "'\"As You Said\"'"
      ]
     },
     "execution_count": 136,
     "metadata": {},
     "output_type": "execute_result"
    }
   ],
   "source": [
    "soup.find_all(\"th\", {\"scope\": \"row\"})[1].text.strip()"
   ]
  },
  {
   "cell_type": "code",
   "execution_count": 140,
   "id": "fd02757a",
   "metadata": {},
   "outputs": [
    {
     "data": {
      "text/plain": [
       "'\"You\\'re No Good for Me\"[b]'"
      ]
     },
     "execution_count": 140,
     "metadata": {},
     "output_type": "execute_result"
    }
   ],
   "source": [
    "soup.find_all(\"th\", {\"scope\": \"row\"})[54].text.strip()"
   ]
  },
  {
   "cell_type": "code",
   "execution_count": 110,
   "id": "25ac604e",
   "metadata": {},
   "outputs": [
    {
     "data": {
      "text/plain": [
       "'\"As You Said\"'"
      ]
     },
     "execution_count": 110,
     "metadata": {},
     "output_type": "execute_result"
    }
   ],
   "source": [
    "soup.find(\"div\",{\"id\":\"bodyContent\"}).select(\"th:nth-child(1)\")[3].get_text().strip()"
   ]
  },
  {
   "cell_type": "code",
   "execution_count": 119,
   "id": "bd151657",
   "metadata": {},
   "outputs": [
    {
     "data": {
      "text/plain": [
       "'\"You\\'re No Good for Me\"[b]'"
      ]
     },
     "execution_count": 119,
     "metadata": {},
     "output_type": "execute_result"
    }
   ],
   "source": [
    "soup.find(\"div\",{\"id\":\"bodyContent\"}).select(\"th:nth-child(1)\")[56].get_text().strip()"
   ]
  },
  {
   "cell_type": "code",
   "execution_count": 70,
   "id": "29f81f91",
   "metadata": {
    "scrolled": true
   },
   "outputs": [
    {
     "data": {
      "text/plain": [
       "[<td>1980\n",
       " </td>,\n",
       " <td>1978\n",
       " </td>,\n",
       " <td>1980\n",
       " </td>,\n",
       " <td>1980\n",
       " </td>,\n",
       " <td>1979\n",
       " </td>,\n",
       " <td>1979\n",
       " </td>,\n",
       " <td>1981\n",
       " </td>,\n",
       " <td>1980\n",
       " </td>,\n",
       " <td>1979\n",
       " </td>,\n",
       " <td>1981\n",
       " </td>,\n",
       " <td>1980\n",
       " </td>,\n",
       " <td>1978\n",
       " </td>,\n",
       " <td>1979\n",
       " </td>,\n",
       " <td>1994\n",
       " </td>,\n",
       " <td>1980\n",
       " </td>,\n",
       " <td>1981\n",
       " </td>,\n",
       " <td>1977\n",
       " </td>,\n",
       " <td>1979\n",
       " </td>,\n",
       " <td>1978\n",
       " </td>,\n",
       " <td>1994\n",
       " </td>,\n",
       " <td>1980\n",
       " </td>,\n",
       " <td>1979\n",
       " </td>,\n",
       " <td>1981\n",
       " </td>,\n",
       " <td>1997\n",
       " </td>,\n",
       " <td>1980\n",
       " </td>,\n",
       " <td>1994\n",
       " </td>,\n",
       " <td>1979\n",
       " </td>,\n",
       " <td>1979\n",
       " </td>,\n",
       " <td>1980\n",
       " </td>,\n",
       " <td>1981\n",
       " </td>,\n",
       " <td>1980\n",
       " </td>,\n",
       " <td>1977\n",
       " </td>,\n",
       " <td>1981\n",
       " </td>,\n",
       " <td>1980\n",
       " </td>,\n",
       " <td>1980\n",
       " </td>,\n",
       " <td>1979\n",
       " </td>,\n",
       " <td>1977\n",
       " </td>,\n",
       " <td>1979\n",
       " </td>,\n",
       " <td>1981\n",
       " </td>,\n",
       " <td>1980\n",
       " </td>,\n",
       " <td>1979\n",
       " </td>,\n",
       " <td>1980\n",
       " </td>,\n",
       " <td>1979\n",
       " </td>,\n",
       " <td>1981\n",
       " </td>,\n",
       " <td>1981\n",
       " </td>,\n",
       " <td>1981\n",
       " </td>,\n",
       " <td>1980\n",
       " </td>,\n",
       " <td>1994\n",
       " </td>,\n",
       " <td>1979\n",
       " </td>,\n",
       " <td>1980\n",
       " </td>,\n",
       " <td>1981\n",
       " </td>,\n",
       " <td>1977\n",
       " </td>,\n",
       " <td>1979\n",
       " </td>,\n",
       " <td>1994\n",
       " </td>]"
      ]
     },
     "execution_count": 70,
     "metadata": {},
     "output_type": "execute_result"
    }
   ],
   "source": [
    "soup.find(\"div\",{\"id\":\"mw-content-text\"}).select(\"td:nth-child(3)\")"
   ]
  },
  {
   "cell_type": "code",
   "execution_count": 72,
   "id": "84cb3ce3",
   "metadata": {},
   "outputs": [
    {
     "data": {
      "text/plain": [
       "'1994'"
      ]
     },
     "execution_count": 72,
     "metadata": {},
     "output_type": "execute_result"
    }
   ],
   "source": [
    "soup.find(\"div\",{\"id\":\"mw-content-text\"}).select(\"td:nth-child(3)\")[53].get_text().strip()"
   ]
  },
  {
   "cell_type": "code",
   "execution_count": 124,
   "id": "752609c5",
   "metadata": {},
   "outputs": [],
   "source": [
    "songs = []\n",
    "years = []\n",
    "\n",
    "for i in range(3,57):\n",
    "    canciones = soup.find(\"div\",{\"id\":\"bodyContent\"}).select(\"th:nth-child(1)\")[i].get_text().strip()\n",
    "    songs.append(canciones)\n",
    "for i in range(54):\n",
    "    años = soup.find(\"div\",{\"id\":\"mw-content-text\"}).select(\"td:nth-child(3)\")[i].get_text().strip()\n",
    "    years.append(años)"
   ]
  },
  {
   "cell_type": "code",
   "execution_count": 125,
   "id": "2dba4619",
   "metadata": {
    "scrolled": true
   },
   "outputs": [
    {
     "data": {
      "text/plain": [
       "['\"As You Said\"',\n",
       " '\"At a Later Date\" (live)',\n",
       " '\"Atmosphere\"[a]',\n",
       " '\"Atrocity Exhibition\"',\n",
       " '\"Auto-suggestion\"',\n",
       " '\"Candidate\"',\n",
       " '\"Ceremony\" (live)',\n",
       " '\"Colony\"',\n",
       " '\"Day of the Lords\"',\n",
       " '\"Dead Souls\"',\n",
       " '\"Decades\"',\n",
       " '\"Digital\"',\n",
       " '\"Disorder\"',\n",
       " '\"The Drawback\"[b]',\n",
       " '\"The Eternal\"',\n",
       " '\"Exercise One\"',\n",
       " '\"Failures\"',\n",
       " '\"From Safety to Where...?\"',\n",
       " '\"Glass\"',\n",
       " '\"Gutz\"[b]',\n",
       " '\"Heart and Soul\"',\n",
       " '\"I Remember Nothing\"',\n",
       " '\"Ice Age\"',\n",
       " '\"In a Lonely Place (Detail)\" (demo)',\n",
       " '\"Incubation\"',\n",
       " '\"Inside the Line\"[b]',\n",
       " '\"Insight\"',\n",
       " '\"Interzone\"',\n",
       " '\"Isolation\"',\n",
       " '\"The Kill\"',\n",
       " '\"Komakino\"',\n",
       " '\"Leaders of Men\"',\n",
       " '\"(Living in the) Ice Age\"',\n",
       " '\"Love Will Tear Us Apart\"',\n",
       " '\"A Means to an End\"',\n",
       " '\"New Dawn Fades\"',\n",
       " '\"No Love Lost\"',\n",
       " '\"Novelty\"',\n",
       " '\"The Only Mistake\"',\n",
       " '\"Passover\"',\n",
       " '\"Shadowplay\"',\n",
       " '\"She\\'s Lost Control (12\" version)\"',\n",
       " '\"She\\'s Lost Control\"',\n",
       " '\"Sister Ray\"[c] (live)(The Velvet Underground cover)',\n",
       " '\"Something Must Break\"',\n",
       " '\"The Sound of Music\"',\n",
       " '\"These Days\"',\n",
       " '\"They Walked in Line\"[b]',\n",
       " '\"Transmission\"',\n",
       " '\"Twenty Four Hours\"',\n",
       " '\"Walked in Line\"',\n",
       " '\"Warsaw\"',\n",
       " '\"Wilderness\"',\n",
       " '\"You\\'re No Good for Me\"[b]']"
      ]
     },
     "execution_count": 125,
     "metadata": {},
     "output_type": "execute_result"
    }
   ],
   "source": [
    "songs"
   ]
  },
  {
   "cell_type": "code",
   "execution_count": 126,
   "id": "568196ab",
   "metadata": {
    "scrolled": true
   },
   "outputs": [
    {
     "data": {
      "text/plain": [
       "['1980',\n",
       " '1978',\n",
       " '1980',\n",
       " '1980',\n",
       " '1979',\n",
       " '1979',\n",
       " '1981',\n",
       " '1980',\n",
       " '1979',\n",
       " '1981',\n",
       " '1980',\n",
       " '1978',\n",
       " '1979',\n",
       " '1994',\n",
       " '1980',\n",
       " '1981',\n",
       " '1977',\n",
       " '1979',\n",
       " '1978',\n",
       " '1994',\n",
       " '1980',\n",
       " '1979',\n",
       " '1981',\n",
       " '1997',\n",
       " '1980',\n",
       " '1994',\n",
       " '1979',\n",
       " '1979',\n",
       " '1980',\n",
       " '1981',\n",
       " '1980',\n",
       " '1977',\n",
       " '1981',\n",
       " '1980',\n",
       " '1980',\n",
       " '1979',\n",
       " '1977',\n",
       " '1979',\n",
       " '1981',\n",
       " '1980',\n",
       " '1979',\n",
       " '1980',\n",
       " '1979',\n",
       " '1981',\n",
       " '1981',\n",
       " '1981',\n",
       " '1980',\n",
       " '1994',\n",
       " '1979',\n",
       " '1980',\n",
       " '1981',\n",
       " '1977',\n",
       " '1979',\n",
       " '1994']"
      ]
     },
     "execution_count": 126,
     "metadata": {},
     "output_type": "execute_result"
    }
   ],
   "source": [
    "years"
   ]
  },
  {
   "cell_type": "code",
   "execution_count": 127,
   "id": "83038997",
   "metadata": {
    "scrolled": true
   },
   "outputs": [
    {
     "data": {
      "text/html": [
       "<div>\n",
       "<style scoped>\n",
       "    .dataframe tbody tr th:only-of-type {\n",
       "        vertical-align: middle;\n",
       "    }\n",
       "\n",
       "    .dataframe tbody tr th {\n",
       "        vertical-align: top;\n",
       "    }\n",
       "\n",
       "    .dataframe thead th {\n",
       "        text-align: right;\n",
       "    }\n",
       "</style>\n",
       "<table border=\"1\" class=\"dataframe\">\n",
       "  <thead>\n",
       "    <tr style=\"text-align: right;\">\n",
       "      <th></th>\n",
       "      <th>song</th>\n",
       "      <th>years</th>\n",
       "    </tr>\n",
       "  </thead>\n",
       "  <tbody>\n",
       "    <tr>\n",
       "      <th>0</th>\n",
       "      <td>\"As You Said\"</td>\n",
       "      <td>1980</td>\n",
       "    </tr>\n",
       "    <tr>\n",
       "      <th>1</th>\n",
       "      <td>\"At a Later Date\" (live)</td>\n",
       "      <td>1978</td>\n",
       "    </tr>\n",
       "    <tr>\n",
       "      <th>2</th>\n",
       "      <td>\"Atmosphere\"[a]</td>\n",
       "      <td>1980</td>\n",
       "    </tr>\n",
       "    <tr>\n",
       "      <th>3</th>\n",
       "      <td>\"Atrocity Exhibition\"</td>\n",
       "      <td>1980</td>\n",
       "    </tr>\n",
       "    <tr>\n",
       "      <th>4</th>\n",
       "      <td>\"Auto-suggestion\"</td>\n",
       "      <td>1979</td>\n",
       "    </tr>\n",
       "    <tr>\n",
       "      <th>5</th>\n",
       "      <td>\"Candidate\"</td>\n",
       "      <td>1979</td>\n",
       "    </tr>\n",
       "    <tr>\n",
       "      <th>6</th>\n",
       "      <td>\"Ceremony\" (live)</td>\n",
       "      <td>1981</td>\n",
       "    </tr>\n",
       "    <tr>\n",
       "      <th>7</th>\n",
       "      <td>\"Colony\"</td>\n",
       "      <td>1980</td>\n",
       "    </tr>\n",
       "    <tr>\n",
       "      <th>8</th>\n",
       "      <td>\"Day of the Lords\"</td>\n",
       "      <td>1979</td>\n",
       "    </tr>\n",
       "    <tr>\n",
       "      <th>9</th>\n",
       "      <td>\"Dead Souls\"</td>\n",
       "      <td>1981</td>\n",
       "    </tr>\n",
       "    <tr>\n",
       "      <th>10</th>\n",
       "      <td>\"Decades\"</td>\n",
       "      <td>1980</td>\n",
       "    </tr>\n",
       "    <tr>\n",
       "      <th>11</th>\n",
       "      <td>\"Digital\"</td>\n",
       "      <td>1978</td>\n",
       "    </tr>\n",
       "    <tr>\n",
       "      <th>12</th>\n",
       "      <td>\"Disorder\"</td>\n",
       "      <td>1979</td>\n",
       "    </tr>\n",
       "    <tr>\n",
       "      <th>13</th>\n",
       "      <td>\"The Drawback\"[b]</td>\n",
       "      <td>1994</td>\n",
       "    </tr>\n",
       "    <tr>\n",
       "      <th>14</th>\n",
       "      <td>\"The Eternal\"</td>\n",
       "      <td>1980</td>\n",
       "    </tr>\n",
       "    <tr>\n",
       "      <th>15</th>\n",
       "      <td>\"Exercise One\"</td>\n",
       "      <td>1981</td>\n",
       "    </tr>\n",
       "    <tr>\n",
       "      <th>16</th>\n",
       "      <td>\"Failures\"</td>\n",
       "      <td>1977</td>\n",
       "    </tr>\n",
       "    <tr>\n",
       "      <th>17</th>\n",
       "      <td>\"From Safety to Where...?\"</td>\n",
       "      <td>1979</td>\n",
       "    </tr>\n",
       "    <tr>\n",
       "      <th>18</th>\n",
       "      <td>\"Glass\"</td>\n",
       "      <td>1978</td>\n",
       "    </tr>\n",
       "    <tr>\n",
       "      <th>19</th>\n",
       "      <td>\"Gutz\"[b]</td>\n",
       "      <td>1994</td>\n",
       "    </tr>\n",
       "    <tr>\n",
       "      <th>20</th>\n",
       "      <td>\"Heart and Soul\"</td>\n",
       "      <td>1980</td>\n",
       "    </tr>\n",
       "    <tr>\n",
       "      <th>21</th>\n",
       "      <td>\"I Remember Nothing\"</td>\n",
       "      <td>1979</td>\n",
       "    </tr>\n",
       "    <tr>\n",
       "      <th>22</th>\n",
       "      <td>\"Ice Age\"</td>\n",
       "      <td>1981</td>\n",
       "    </tr>\n",
       "    <tr>\n",
       "      <th>23</th>\n",
       "      <td>\"In a Lonely Place (Detail)\" (demo)</td>\n",
       "      <td>1997</td>\n",
       "    </tr>\n",
       "    <tr>\n",
       "      <th>24</th>\n",
       "      <td>\"Incubation\"</td>\n",
       "      <td>1980</td>\n",
       "    </tr>\n",
       "    <tr>\n",
       "      <th>25</th>\n",
       "      <td>\"Inside the Line\"[b]</td>\n",
       "      <td>1994</td>\n",
       "    </tr>\n",
       "    <tr>\n",
       "      <th>26</th>\n",
       "      <td>\"Insight\"</td>\n",
       "      <td>1979</td>\n",
       "    </tr>\n",
       "    <tr>\n",
       "      <th>27</th>\n",
       "      <td>\"Interzone\"</td>\n",
       "      <td>1979</td>\n",
       "    </tr>\n",
       "    <tr>\n",
       "      <th>28</th>\n",
       "      <td>\"Isolation\"</td>\n",
       "      <td>1980</td>\n",
       "    </tr>\n",
       "    <tr>\n",
       "      <th>29</th>\n",
       "      <td>\"The Kill\"</td>\n",
       "      <td>1981</td>\n",
       "    </tr>\n",
       "    <tr>\n",
       "      <th>30</th>\n",
       "      <td>\"Komakino\"</td>\n",
       "      <td>1980</td>\n",
       "    </tr>\n",
       "    <tr>\n",
       "      <th>31</th>\n",
       "      <td>\"Leaders of Men\"</td>\n",
       "      <td>1977</td>\n",
       "    </tr>\n",
       "    <tr>\n",
       "      <th>32</th>\n",
       "      <td>\"(Living in the) Ice Age\"</td>\n",
       "      <td>1981</td>\n",
       "    </tr>\n",
       "    <tr>\n",
       "      <th>33</th>\n",
       "      <td>\"Love Will Tear Us Apart\"</td>\n",
       "      <td>1980</td>\n",
       "    </tr>\n",
       "    <tr>\n",
       "      <th>34</th>\n",
       "      <td>\"A Means to an End\"</td>\n",
       "      <td>1980</td>\n",
       "    </tr>\n",
       "    <tr>\n",
       "      <th>35</th>\n",
       "      <td>\"New Dawn Fades\"</td>\n",
       "      <td>1979</td>\n",
       "    </tr>\n",
       "    <tr>\n",
       "      <th>36</th>\n",
       "      <td>\"No Love Lost\"</td>\n",
       "      <td>1977</td>\n",
       "    </tr>\n",
       "    <tr>\n",
       "      <th>37</th>\n",
       "      <td>\"Novelty\"</td>\n",
       "      <td>1979</td>\n",
       "    </tr>\n",
       "    <tr>\n",
       "      <th>38</th>\n",
       "      <td>\"The Only Mistake\"</td>\n",
       "      <td>1981</td>\n",
       "    </tr>\n",
       "    <tr>\n",
       "      <th>39</th>\n",
       "      <td>\"Passover\"</td>\n",
       "      <td>1980</td>\n",
       "    </tr>\n",
       "    <tr>\n",
       "      <th>40</th>\n",
       "      <td>\"Shadowplay\"</td>\n",
       "      <td>1979</td>\n",
       "    </tr>\n",
       "    <tr>\n",
       "      <th>41</th>\n",
       "      <td>\"She's Lost Control (12\" version)\"</td>\n",
       "      <td>1980</td>\n",
       "    </tr>\n",
       "    <tr>\n",
       "      <th>42</th>\n",
       "      <td>\"She's Lost Control\"</td>\n",
       "      <td>1979</td>\n",
       "    </tr>\n",
       "    <tr>\n",
       "      <th>43</th>\n",
       "      <td>\"Sister Ray\"[c] (live)(The Velvet Underground ...</td>\n",
       "      <td>1981</td>\n",
       "    </tr>\n",
       "    <tr>\n",
       "      <th>44</th>\n",
       "      <td>\"Something Must Break\"</td>\n",
       "      <td>1981</td>\n",
       "    </tr>\n",
       "    <tr>\n",
       "      <th>45</th>\n",
       "      <td>\"The Sound of Music\"</td>\n",
       "      <td>1981</td>\n",
       "    </tr>\n",
       "    <tr>\n",
       "      <th>46</th>\n",
       "      <td>\"These Days\"</td>\n",
       "      <td>1980</td>\n",
       "    </tr>\n",
       "    <tr>\n",
       "      <th>47</th>\n",
       "      <td>\"They Walked in Line\"[b]</td>\n",
       "      <td>1994</td>\n",
       "    </tr>\n",
       "    <tr>\n",
       "      <th>48</th>\n",
       "      <td>\"Transmission\"</td>\n",
       "      <td>1979</td>\n",
       "    </tr>\n",
       "    <tr>\n",
       "      <th>49</th>\n",
       "      <td>\"Twenty Four Hours\"</td>\n",
       "      <td>1980</td>\n",
       "    </tr>\n",
       "    <tr>\n",
       "      <th>50</th>\n",
       "      <td>\"Walked in Line\"</td>\n",
       "      <td>1981</td>\n",
       "    </tr>\n",
       "    <tr>\n",
       "      <th>51</th>\n",
       "      <td>\"Warsaw\"</td>\n",
       "      <td>1977</td>\n",
       "    </tr>\n",
       "    <tr>\n",
       "      <th>52</th>\n",
       "      <td>\"Wilderness\"</td>\n",
       "      <td>1979</td>\n",
       "    </tr>\n",
       "    <tr>\n",
       "      <th>53</th>\n",
       "      <td>\"You're No Good for Me\"[b]</td>\n",
       "      <td>1994</td>\n",
       "    </tr>\n",
       "  </tbody>\n",
       "</table>\n",
       "</div>"
      ],
      "text/plain": [
       "                                                 song years\n",
       "0                                       \"As You Said\"  1980\n",
       "1                            \"At a Later Date\" (live)  1978\n",
       "2                                     \"Atmosphere\"[a]  1980\n",
       "3                               \"Atrocity Exhibition\"  1980\n",
       "4                                   \"Auto-suggestion\"  1979\n",
       "5                                         \"Candidate\"  1979\n",
       "6                                   \"Ceremony\" (live)  1981\n",
       "7                                            \"Colony\"  1980\n",
       "8                                  \"Day of the Lords\"  1979\n",
       "9                                        \"Dead Souls\"  1981\n",
       "10                                          \"Decades\"  1980\n",
       "11                                          \"Digital\"  1978\n",
       "12                                         \"Disorder\"  1979\n",
       "13                                  \"The Drawback\"[b]  1994\n",
       "14                                      \"The Eternal\"  1980\n",
       "15                                     \"Exercise One\"  1981\n",
       "16                                         \"Failures\"  1977\n",
       "17                         \"From Safety to Where...?\"  1979\n",
       "18                                            \"Glass\"  1978\n",
       "19                                          \"Gutz\"[b]  1994\n",
       "20                                   \"Heart and Soul\"  1980\n",
       "21                               \"I Remember Nothing\"  1979\n",
       "22                                          \"Ice Age\"  1981\n",
       "23                \"In a Lonely Place (Detail)\" (demo)  1997\n",
       "24                                       \"Incubation\"  1980\n",
       "25                               \"Inside the Line\"[b]  1994\n",
       "26                                          \"Insight\"  1979\n",
       "27                                        \"Interzone\"  1979\n",
       "28                                        \"Isolation\"  1980\n",
       "29                                         \"The Kill\"  1981\n",
       "30                                         \"Komakino\"  1980\n",
       "31                                   \"Leaders of Men\"  1977\n",
       "32                          \"(Living in the) Ice Age\"  1981\n",
       "33                          \"Love Will Tear Us Apart\"  1980\n",
       "34                                \"A Means to an End\"  1980\n",
       "35                                   \"New Dawn Fades\"  1979\n",
       "36                                     \"No Love Lost\"  1977\n",
       "37                                          \"Novelty\"  1979\n",
       "38                                 \"The Only Mistake\"  1981\n",
       "39                                         \"Passover\"  1980\n",
       "40                                       \"Shadowplay\"  1979\n",
       "41                 \"She's Lost Control (12\" version)\"  1980\n",
       "42                               \"She's Lost Control\"  1979\n",
       "43  \"Sister Ray\"[c] (live)(The Velvet Underground ...  1981\n",
       "44                             \"Something Must Break\"  1981\n",
       "45                               \"The Sound of Music\"  1981\n",
       "46                                       \"These Days\"  1980\n",
       "47                           \"They Walked in Line\"[b]  1994\n",
       "48                                     \"Transmission\"  1979\n",
       "49                                \"Twenty Four Hours\"  1980\n",
       "50                                   \"Walked in Line\"  1981\n",
       "51                                           \"Warsaw\"  1977\n",
       "52                                       \"Wilderness\"  1979\n",
       "53                         \"You're No Good for Me\"[b]  1994"
      ]
     },
     "execution_count": 127,
     "metadata": {},
     "output_type": "execute_result"
    }
   ],
   "source": [
    "List_of_songs_by_Joy_Division = pd.DataFrame({'song':songs,'years':years})\n",
    "List_of_songs_by_Joy_Division"
   ]
  },
  {
   "cell_type": "markdown",
   "id": "1028b36b",
   "metadata": {},
   "source": [
    "## Practice web scraping\n",
    "As you've seen, scraping the internet is a skill that can get you all sorts of information. Here are some little challenges that you can try to gain more experience in the field:"
   ]
  },
  {
   "cell_type": "markdown",
   "id": "a0aaf02b",
   "metadata": {},
   "source": [
    "- Retrieve an arbitrary Wikipedia page of \"Python\" and create a list of links on that page: url ='https://en.wikipedia.org/wiki/Python'"
   ]
  },
  {
   "cell_type": "code",
   "execution_count": 319,
   "id": "ff1a3c74",
   "metadata": {},
   "outputs": [],
   "source": [
    "url ='https://en.wikipedia.org/wiki/Python'"
   ]
  },
  {
   "cell_type": "code",
   "execution_count": 320,
   "id": "57348a46",
   "metadata": {},
   "outputs": [],
   "source": [
    "response = requests.get(url)"
   ]
  },
  {
   "cell_type": "code",
   "execution_count": 321,
   "id": "f67f508a",
   "metadata": {},
   "outputs": [
    {
     "data": {
      "text/plain": [
       "200"
      ]
     },
     "execution_count": 321,
     "metadata": {},
     "output_type": "execute_result"
    }
   ],
   "source": [
    "response.status_code"
   ]
  },
  {
   "cell_type": "code",
   "execution_count": 322,
   "id": "5778149a",
   "metadata": {},
   "outputs": [],
   "source": [
    "soup = BeautifulSoup(response.content,\"html.parser\")"
   ]
  },
  {
   "cell_type": "code",
   "execution_count": 323,
   "id": "89006dcf",
   "metadata": {},
   "outputs": [
    {
     "data": {
      "text/plain": [
       "[<a accesskey=\"z\" href=\"/wiki/Main_Page\" title=\"Visit the main page [z]\"><span>Main page</span></a>,\n",
       " <a href=\"/wiki/Wikipedia:Contents\" title=\"Guides to browsing Wikipedia\"><span>Contents</span></a>,\n",
       " <a href=\"/wiki/Portal:Current_events\" title=\"Articles related to current events\"><span>Current events</span></a>,\n",
       " <a accesskey=\"x\" href=\"/wiki/Special:Random\" title=\"Visit a randomly selected article [x]\"><span>Random article</span></a>,\n",
       " <a href=\"/wiki/Wikipedia:About\" title=\"Learn about Wikipedia and how it works\"><span>About Wikipedia</span></a>,\n",
       " <a href=\"//en.wikipedia.org/wiki/Wikipedia:Contact_us\" title=\"How to contact Wikipedia\"><span>Contact us</span></a>,\n",
       " <a href=\"https://donate.wikimedia.org/wiki/Special:FundraiserRedirector?utm_source=donate&amp;utm_medium=sidebar&amp;utm_campaign=C13_en.wikipedia.org&amp;uselang=en\" title=\"Support us by donating to the Wikimedia Foundation\"><span>Donate</span></a>,\n",
       " <a href=\"/wiki/Help:Contents\" title=\"Guidance on how to use and edit Wikipedia\"><span>Help</span></a>,\n",
       " <a href=\"/wiki/Help:Introduction\" title=\"Learn how to edit Wikipedia\"><span>Learn to edit</span></a>,\n",
       " <a href=\"/wiki/Wikipedia:Community_portal\" title=\"The hub for editors\"><span>Community portal</span></a>,\n",
       " <a accesskey=\"r\" href=\"/wiki/Special:RecentChanges\" title=\"A list of recent changes to Wikipedia [r]\"><span>Recent changes</span></a>,\n",
       " <a href=\"/wiki/Wikipedia:File_upload_wizard\" title=\"Add images or other media for use on Wikipedia\"><span>Upload file</span></a>,\n",
       " <a href=\"/w/index.php?title=Special:CreateAccount&amp;returnto=Python\" title=\"You are encouraged to create an account and log in; however, it is not mandatory\"><span>Create account</span></a>,\n",
       " <a accesskey=\"o\" href=\"/w/index.php?title=Special:UserLogin&amp;returnto=Python\" title=\"You're encouraged to log in; however, it's not mandatory. [o]\"><span>Log in</span></a>,\n",
       " <a href=\"/w/index.php?title=Special:CreateAccount&amp;returnto=Python\" title=\"You are encouraged to create an account and log in; however, it is not mandatory\"><span class=\"mw-ui-icon mw-ui-icon-userAdd mw-ui-icon-wikimedia-userAdd\"></span> <span>Create account</span></a>,\n",
       " <a accesskey=\"o\" href=\"/w/index.php?title=Special:UserLogin&amp;returnto=Python\" title=\"You're encouraged to log in; however, it's not mandatory. [o]\"><span class=\"mw-ui-icon mw-ui-icon-logIn mw-ui-icon-wikimedia-logIn\"></span> <span>Log in</span></a>,\n",
       " <a accesskey=\"y\" href=\"/wiki/Special:MyContributions\" title=\"A list of edits made from this IP address [y]\"><span>Contributions</span></a>,\n",
       " <a accesskey=\"n\" href=\"/wiki/Special:MyTalk\" title=\"Discussion about edits from this IP address [n]\"><span>Talk</span></a>,\n",
       " <a class=\"vector-toc-link\" href=\"#\">\n",
       " <div class=\"vector-toc-text\">(Top)</div>\n",
       " </a>,\n",
       " <a class=\"vector-toc-link\" href=\"#Snakes\">\n",
       " <div class=\"vector-toc-text\">\n",
       " <span class=\"vector-toc-numb\">1</span>Snakes</div>\n",
       " </a>,\n",
       " <a class=\"vector-toc-link\" href=\"#Computing\">\n",
       " <div class=\"vector-toc-text\">\n",
       " <span class=\"vector-toc-numb\">2</span>Computing</div>\n",
       " </a>,\n",
       " <a class=\"vector-toc-link\" href=\"#People\">\n",
       " <div class=\"vector-toc-text\">\n",
       " <span class=\"vector-toc-numb\">3</span>People</div>\n",
       " </a>,\n",
       " <a class=\"vector-toc-link\" href=\"#Roller_coasters\">\n",
       " <div class=\"vector-toc-text\">\n",
       " <span class=\"vector-toc-numb\">4</span>Roller coasters</div>\n",
       " </a>,\n",
       " <a class=\"vector-toc-link\" href=\"#Vehicles\">\n",
       " <div class=\"vector-toc-text\">\n",
       " <span class=\"vector-toc-numb\">5</span>Vehicles</div>\n",
       " </a>,\n",
       " <a class=\"vector-toc-link\" href=\"#Weaponry\">\n",
       " <div class=\"vector-toc-text\">\n",
       " <span class=\"vector-toc-numb\">6</span>Weaponry</div>\n",
       " </a>,\n",
       " <a class=\"vector-toc-link\" href=\"#Other_uses\">\n",
       " <div class=\"vector-toc-text\">\n",
       " <span class=\"vector-toc-numb\">7</span>Other uses</div>\n",
       " </a>,\n",
       " <a class=\"vector-toc-link\" href=\"#See_also\">\n",
       " <div class=\"vector-toc-text\">\n",
       " <span class=\"vector-toc-numb\">8</span>See also</div>\n",
       " </a>,\n",
       " <a class=\"interlanguage-link-target\" href=\"https://af.wikipedia.org/wiki/Python\" hreflang=\"af\" lang=\"af\" title=\"Python – Afrikaans\"><span>Afrikaans</span></a>,\n",
       " <a class=\"interlanguage-link-target\" href=\"https://als.wikipedia.org/wiki/Python\" hreflang=\"gsw\" lang=\"gsw\" title=\"Python – Swiss German\"><span>Alemannisch</span></a>,\n",
       " <a class=\"interlanguage-link-target\" href=\"https://ar.wikipedia.org/wiki/%D8%A8%D8%A7%D9%8A%D8%AB%D9%88%D9%86_(%D8%AA%D9%88%D8%B6%D9%8A%D8%AD)\" hreflang=\"ar\" lang=\"ar\" title=\"بايثون (توضيح) – Arabic\"><span>العربية</span></a>,\n",
       " <a class=\"interlanguage-link-target\" href=\"https://az.wikipedia.org/wiki/Python_(d%C9%99qiql%C9%99%C5%9Fdirm%C9%99)\" hreflang=\"az\" lang=\"az\" title=\"Python (dəqiqləşdirmə) – Azerbaijani\"><span>Azərbaycanca</span></a>,\n",
       " <a class=\"interlanguage-link-target\" href=\"https://bn.wikipedia.org/wiki/%E0%A6%AA%E0%A6%BE%E0%A6%87%E0%A6%A5%E0%A6%A8_(%E0%A6%A6%E0%A7%8D%E0%A6%AC%E0%A7%8D%E0%A6%AF%E0%A6%B0%E0%A7%8D%E0%A6%A5%E0%A6%A4%E0%A6%BE_%E0%A6%A8%E0%A6%BF%E0%A6%B0%E0%A6%B8%E0%A6%A8)\" hreflang=\"bn\" lang=\"bn\" title=\"পাইথন (দ্ব্যর্থতা নিরসন) – Bangla\"><span>বাংলা</span></a>,\n",
       " <a class=\"interlanguage-link-target\" href=\"https://be.wikipedia.org/wiki/Python\" hreflang=\"be\" lang=\"be\" title=\"Python – Belarusian\"><span>Беларуская</span></a>,\n",
       " <a class=\"interlanguage-link-target\" href=\"https://bg.wikipedia.org/wiki/%D0%9F%D0%B8%D1%82%D0%BE%D0%BD_(%D0%BF%D0%BE%D1%8F%D1%81%D0%BD%D0%B5%D0%BD%D0%B8%D0%B5)\" hreflang=\"bg\" lang=\"bg\" title=\"Питон (пояснение) – Bulgarian\"><span>Български</span></a>,\n",
       " <a class=\"interlanguage-link-target\" href=\"https://cs.wikipedia.org/wiki/Python_(rozcestn%C3%ADk)\" hreflang=\"cs\" lang=\"cs\" title=\"Python (rozcestník) – Czech\"><span>Čeština</span></a>,\n",
       " <a class=\"interlanguage-link-target\" href=\"https://da.wikipedia.org/wiki/Python\" hreflang=\"da\" lang=\"da\" title=\"Python – Danish\"><span>Dansk</span></a>,\n",
       " <a class=\"interlanguage-link-target\" href=\"https://de.wikipedia.org/wiki/Python\" hreflang=\"de\" lang=\"de\" title=\"Python – German\"><span>Deutsch</span></a>,\n",
       " <a class=\"interlanguage-link-target\" href=\"https://eo.wikipedia.org/wiki/Pitono_(apartigilo)\" hreflang=\"eo\" lang=\"eo\" title=\"Pitono (apartigilo) – Esperanto\"><span>Esperanto</span></a>,\n",
       " <a class=\"interlanguage-link-target\" href=\"https://eu.wikipedia.org/wiki/Python_(argipena)\" hreflang=\"eu\" lang=\"eu\" title=\"Python (argipena) – Basque\"><span>Euskara</span></a>,\n",
       " <a class=\"interlanguage-link-target\" href=\"https://fa.wikipedia.org/wiki/%D9%BE%D8%A7%DB%8C%D8%AA%D9%88%D9%86\" hreflang=\"fa\" lang=\"fa\" title=\"پایتون – Persian\"><span>فارسی</span></a>,\n",
       " <a class=\"interlanguage-link-target\" href=\"https://fr.wikipedia.org/wiki/Python\" hreflang=\"fr\" lang=\"fr\" title=\"Python – French\"><span>Français</span></a>,\n",
       " <a class=\"interlanguage-link-target\" href=\"https://ko.wikipedia.org/wiki/%ED%8C%8C%EC%9D%B4%EC%84%A0\" hreflang=\"ko\" lang=\"ko\" title=\"파이선 – Korean\"><span>한국어</span></a>,\n",
       " <a class=\"interlanguage-link-target\" href=\"https://hr.wikipedia.org/wiki/Python_(razdvojba)\" hreflang=\"hr\" lang=\"hr\" title=\"Python (razdvojba) – Croatian\"><span>Hrvatski</span></a>,\n",
       " <a class=\"interlanguage-link-target\" href=\"https://io.wikipedia.org/wiki/Pitono\" hreflang=\"io\" lang=\"io\" title=\"Pitono – Ido\"><span>Ido</span></a>,\n",
       " <a class=\"interlanguage-link-target\" href=\"https://id.wikipedia.org/wiki/Python\" hreflang=\"id\" lang=\"id\" title=\"Python – Indonesian\"><span>Bahasa Indonesia</span></a>,\n",
       " <a class=\"interlanguage-link-target\" href=\"https://ia.wikipedia.org/wiki/Python_(disambiguation)\" hreflang=\"ia\" lang=\"ia\" title=\"Python (disambiguation) – Interlingua\"><span>Interlingua</span></a>,\n",
       " <a class=\"interlanguage-link-target\" href=\"https://is.wikipedia.org/wiki/Python_(a%C3%B0greining)\" hreflang=\"is\" lang=\"is\" title=\"Python (aðgreining) – Icelandic\"><span>Íslenska</span></a>,\n",
       " <a class=\"interlanguage-link-target\" href=\"https://it.wikipedia.org/wiki/Python_(disambigua)\" hreflang=\"it\" lang=\"it\" title=\"Python (disambigua) – Italian\"><span>Italiano</span></a>,\n",
       " <a class=\"interlanguage-link-target\" href=\"https://he.wikipedia.org/wiki/%D7%A4%D7%99%D7%AA%D7%95%D7%9F\" hreflang=\"he\" lang=\"he\" title=\"פיתון – Hebrew\"><span>עברית</span></a>,\n",
       " <a class=\"interlanguage-link-target\" href=\"https://ka.wikipedia.org/wiki/%E1%83%9E%E1%83%98%E1%83%97%E1%83%9D%E1%83%9C%E1%83%98_(%E1%83%9B%E1%83%A0%E1%83%90%E1%83%95%E1%83%90%E1%83%9A%E1%83%9B%E1%83%9C%E1%83%98%E1%83%A8%E1%83%95%E1%83%9C%E1%83%94%E1%83%9A%E1%83%9D%E1%83%95%E1%83%90%E1%83%9C%E1%83%98)\" hreflang=\"ka\" lang=\"ka\" title=\"პითონი (მრავალმნიშვნელოვანი) – Georgian\"><span>ქართული</span></a>,\n",
       " <a class=\"interlanguage-link-target\" href=\"https://kg.wikipedia.org/wiki/Mboma_(nyoka)\" hreflang=\"kg\" lang=\"kg\" title=\"Mboma (nyoka) – Kongo\"><span>Kongo</span></a>,\n",
       " <a class=\"interlanguage-link-target\" href=\"https://la.wikipedia.org/wiki/Python_(discretiva)\" hreflang=\"la\" lang=\"la\" title=\"Python (discretiva) – Latin\"><span>Latina</span></a>,\n",
       " <a class=\"interlanguage-link-target\" href=\"https://lb.wikipedia.org/wiki/Python\" hreflang=\"lb\" lang=\"lb\" title=\"Python – Luxembourgish\"><span>Lëtzebuergesch</span></a>,\n",
       " <a class=\"interlanguage-link-target\" href=\"https://hu.wikipedia.org/wiki/Python_(egy%C3%A9rtelm%C5%B1s%C3%ADt%C5%91_lap)\" hreflang=\"hu\" lang=\"hu\" title=\"Python (egyértelműsítő lap) – Hungarian\"><span>Magyar</span></a>,\n",
       " <a class=\"interlanguage-link-target\" href=\"https://mr.wikipedia.org/wiki/%E0%A4%AA%E0%A4%BE%E0%A4%AF%E0%A4%A5%E0%A5%89%E0%A4%A8_(%E0%A4%86%E0%A4%9C%E0%A5%8D%E0%A4%9E%E0%A4%BE%E0%A4%B5%E0%A4%B2%E0%A5%80_%E0%A4%AD%E0%A4%BE%E0%A4%B7%E0%A4%BE)\" hreflang=\"mr\" lang=\"mr\" title=\"पायथॉन (आज्ञावली भाषा) – Marathi\"><span>मराठी</span></a>,\n",
       " <a class=\"interlanguage-link-target\" href=\"https://nl.wikipedia.org/wiki/Python\" hreflang=\"nl\" lang=\"nl\" title=\"Python – Dutch\"><span>Nederlands</span></a>,\n",
       " <a class=\"interlanguage-link-target\" href=\"https://ja.wikipedia.org/wiki/%E3%83%91%E3%82%A4%E3%82%BD%E3%83%B3\" hreflang=\"ja\" lang=\"ja\" title=\"パイソン – Japanese\"><span>日本語</span></a>,\n",
       " <a class=\"interlanguage-link-target\" href=\"https://no.wikipedia.org/wiki/Pyton\" hreflang=\"nb\" lang=\"nb\" title=\"Pyton – Norwegian Bokmål\"><span>Norsk bokmål</span></a>,\n",
       " <a class=\"interlanguage-link-target\" href=\"https://pl.wikipedia.org/wiki/Pyton\" hreflang=\"pl\" lang=\"pl\" title=\"Pyton – Polish\"><span>Polski</span></a>,\n",
       " <a class=\"interlanguage-link-target\" href=\"https://pt.wikipedia.org/wiki/Python_(desambigua%C3%A7%C3%A3o)\" hreflang=\"pt\" lang=\"pt\" title=\"Python (desambiguação) – Portuguese\"><span>Português</span></a>,\n",
       " <a class=\"interlanguage-link-target\" href=\"https://ru.wikipedia.org/wiki/Python_(%D0%B7%D0%BD%D0%B0%D1%87%D0%B5%D0%BD%D0%B8%D1%8F)\" hreflang=\"ru\" lang=\"ru\" title=\"Python (значения) – Russian\"><span>Русский</span></a>,\n",
       " <a class=\"interlanguage-link-target\" href=\"https://sk.wikipedia.org/wiki/Python\" hreflang=\"sk\" lang=\"sk\" title=\"Python – Slovak\"><span>Slovenčina</span></a>,\n",
       " <a class=\"interlanguage-link-target\" href=\"https://sr.wikipedia.org/wiki/%D0%9F%D0%B8%D1%82%D0%BE%D0%BD_(%D0%B2%D0%B8%D1%88%D0%B5%D0%B7%D0%BD%D0%B0%D1%87%D0%BD%D0%B0_%D0%BE%D0%B4%D1%80%D0%B5%D0%B4%D0%BD%D0%B8%D1%86%D0%B0)\" hreflang=\"sr\" lang=\"sr\" title=\"Питон (вишезначна одредница) – Serbian\"><span>Српски / srpski</span></a>,\n",
       " <a class=\"interlanguage-link-target\" href=\"https://sh.wikipedia.org/wiki/Python\" hreflang=\"sh\" lang=\"sh\" title=\"Python – Serbo-Croatian\"><span>Srpskohrvatski / српскохрватски</span></a>,\n",
       " <a class=\"interlanguage-link-target\" href=\"https://fi.wikipedia.org/wiki/Python\" hreflang=\"fi\" lang=\"fi\" title=\"Python – Finnish\"><span>Suomi</span></a>,\n",
       " <a class=\"interlanguage-link-target\" href=\"https://sv.wikipedia.org/wiki/Pyton\" hreflang=\"sv\" lang=\"sv\" title=\"Pyton – Swedish\"><span>Svenska</span></a>,\n",
       " <a class=\"interlanguage-link-target\" href=\"https://th.wikipedia.org/wiki/%E0%B9%84%E0%B8%9E%E0%B8%97%E0%B8%AD%E0%B8%99\" hreflang=\"th\" lang=\"th\" title=\"ไพทอน – Thai\"><span>ไทย</span></a>,\n",
       " <a class=\"interlanguage-link-target\" href=\"https://tr.wikipedia.org/wiki/Python_(anlam_ayr%C4%B1m%C4%B1)\" hreflang=\"tr\" lang=\"tr\" title=\"Python (anlam ayrımı) – Turkish\"><span>Türkçe</span></a>,\n",
       " <a class=\"interlanguage-link-target\" href=\"https://uk.wikipedia.org/wiki/%D0%9F%D1%96%D1%84%D0%BE%D0%BD\" hreflang=\"uk\" lang=\"uk\" title=\"Піфон – Ukrainian\"><span>Українська</span></a>,\n",
       " <a class=\"interlanguage-link-target\" href=\"https://ur.wikipedia.org/wiki/%D9%BE%D8%A7%D8%A6%DB%8C%D8%AA%DA%BE%D9%88%D9%86\" hreflang=\"ur\" lang=\"ur\" title=\"پائیتھون – Urdu\"><span>اردو</span></a>,\n",
       " <a class=\"interlanguage-link-target\" href=\"https://vi.wikipedia.org/wiki/Python\" hreflang=\"vi\" lang=\"vi\" title=\"Python – Vietnamese\"><span>Tiếng Việt</span></a>,\n",
       " <a class=\"interlanguage-link-target\" href=\"https://zh.wikipedia.org/wiki/Python_(%E6%B6%88%E6%AD%A7%E4%B9%89)\" hreflang=\"zh\" lang=\"zh\" title=\"Python (消歧义) – Chinese\"><span>中文</span></a>,\n",
       " <a accesskey=\"c\" class=\"\" data-mw=\"interface\" href=\"/wiki/Python\" title=\"View the content page [c]\"><span>Article</span></a>,\n",
       " <a accesskey=\"t\" class=\"\" data-mw=\"interface\" href=\"/wiki/Talk:Python\" rel=\"discussion\" title=\"Discuss improvements to the content page [t]\"><span>Talk</span></a>,\n",
       " <a class=\"\" data-mw=\"interface\" href=\"/wiki/Python\"><span>Read</span></a>,\n",
       " <a accesskey=\"e\" class=\"\" data-mw=\"interface\" href=\"/w/index.php?title=Python&amp;action=edit\" title=\"Edit this page [e]\"><span>Edit</span></a>,\n",
       " <a accesskey=\"h\" class=\"\" data-mw=\"interface\" href=\"/w/index.php?title=Python&amp;action=history\" title=\"Past revisions of this page [h]\"><span>View history</span></a>,\n",
       " <a href=\"/wiki/Python\"><span>Read</span></a>,\n",
       " <a href=\"/w/index.php?title=Python&amp;action=edit\"><span>Edit</span></a>,\n",
       " <a href=\"/w/index.php?title=Python&amp;action=history\"><span>View history</span></a>,\n",
       " <a accesskey=\"j\" href=\"/wiki/Special:WhatLinksHere/Python\" title=\"List of all English Wikipedia pages containing links to this page [j]\"><span>What links here</span></a>,\n",
       " <a accesskey=\"k\" href=\"/wiki/Special:RecentChangesLinked/Python\" rel=\"nofollow\" title=\"Recent changes in pages linked from this page [k]\"><span>Related changes</span></a>,\n",
       " <a accesskey=\"u\" href=\"/wiki/Wikipedia:File_Upload_Wizard\" title=\"Upload files [u]\"><span>Upload file</span></a>,\n",
       " <a accesskey=\"q\" href=\"/wiki/Special:SpecialPages\" title=\"A list of all special pages [q]\"><span>Special pages</span></a>,\n",
       " <a href=\"/w/index.php?title=Python&amp;oldid=1148531488\" title=\"Permanent link to this revision of this page\"><span>Permanent link</span></a>,\n",
       " <a href=\"/w/index.php?title=Python&amp;action=info\" title=\"More information about this page\"><span>Page information</span></a>,\n",
       " <a href=\"/w/index.php?title=Special:CiteThisPage&amp;page=Python&amp;id=1148531488&amp;wpFormIdentifier=titleform\" title=\"Information on how to cite this page\"><span>Cite this page</span></a>,\n",
       " <a accesskey=\"g\" href=\"https://www.wikidata.org/wiki/Special:EntityPage/Q747452\" title=\"Structured data on this page hosted by Wikidata [g]\"><span>Wikidata item</span></a>,\n",
       " <a href=\"/w/index.php?title=Special:DownloadAsPdf&amp;page=Python&amp;action=show-download-screen\" title=\"Download this page as a PDF file\"><span>Download as PDF</span></a>,\n",
       " <a accesskey=\"p\" href=\"/w/index.php?title=Python&amp;printable=yes\" title=\"Printable version of this page [p]\"><span>Printable version</span></a>,\n",
       " <a href=\"https://commons.wikimedia.org/wiki/Category:Python\" hreflang=\"en\"><span>Wikimedia Commons</span></a>,\n",
       " <a href=\"/wiki/Pythonidae\" title=\"Pythonidae\">Pythonidae</a>,\n",
       " <a href=\"/wiki/Python_(genus)\" title=\"Python (genus)\"><i>Python</i> (genus)</a>,\n",
       " <a href=\"/wiki/Python_(mythology)\" title=\"Python (mythology)\">Python (mythology)</a>,\n",
       " <a href=\"/wiki/Python_(programming_language)\" title=\"Python (programming language)\">Python (programming language)</a>,\n",
       " <a href=\"/wiki/CMU_Common_Lisp\" title=\"CMU Common Lisp\">CMU Common Lisp</a>,\n",
       " <a href=\"/wiki/PERQ#PERQ_3\" title=\"PERQ\">PERQ 3</a>,\n",
       " <a href=\"/wiki/Python_of_Aenus\" title=\"Python of Aenus\">Python of Aenus</a>,\n",
       " <a href=\"/wiki/Python_(painter)\" title=\"Python (painter)\">Python (painter)</a>,\n",
       " <a href=\"/wiki/Python_of_Byzantium\" title=\"Python of Byzantium\">Python of Byzantium</a>,\n",
       " <a href=\"/wiki/Python_of_Catana\" title=\"Python of Catana\">Python of Catana</a>,\n",
       " <a href=\"/wiki/Python_Anghelo\" title=\"Python Anghelo\">Python Anghelo</a>,\n",
       " <a href=\"/wiki/Python_(Efteling)\" title=\"Python (Efteling)\">Python (Efteling)</a>,\n",
       " <a href=\"/wiki/Python_(Busch_Gardens_Tampa_Bay)\" title=\"Python (Busch Gardens Tampa Bay)\">Python (Busch Gardens Tampa Bay)</a>,\n",
       " <a href=\"/wiki/Python_(Coney_Island,_Cincinnati,_Ohio)\" title=\"Python (Coney Island, Cincinnati, Ohio)\">Python (Coney Island, Cincinnati, Ohio)</a>,\n",
       " <a href=\"/wiki/Python_(automobile_maker)\" title=\"Python (automobile maker)\">Python (automobile maker)</a>,\n",
       " <a href=\"/wiki/Python_(Ford_prototype)\" title=\"Python (Ford prototype)\">Python (Ford prototype)</a>,\n",
       " <a href=\"/wiki/Python_(missile)\" title=\"Python (missile)\">Python (missile)</a>,\n",
       " <a href=\"/wiki/Python_(nuclear_primary)\" title=\"Python (nuclear primary)\">Python (nuclear primary)</a>,\n",
       " <a href=\"/wiki/Colt_Python\" title=\"Colt Python\">Colt Python</a>,\n",
       " <a href=\"/wiki/Python_(codename)\" title=\"Python (codename)\">Python (codename)</a>,\n",
       " <a href=\"/wiki/Python_(film)\" title=\"Python (film)\"><i>Python</i> (film)</a>,\n",
       " <a href=\"/wiki/Monty_Python\" title=\"Monty Python\">Monty Python</a>,\n",
       " <a href=\"/wiki/Python_(Monty)_Pictures\" title=\"Python (Monty) Pictures\">Python (Monty) Pictures</a>,\n",
       " <a href=\"/wiki/Timon_of_Phlius\" title=\"Timon of Phlius\">Timon of Phlius</a>,\n",
       " <a href=\"/wiki/Pyton\" title=\"Pyton\">Pyton</a>,\n",
       " <a href=\"/wiki/Pithon\" title=\"Pithon\">Pithon</a>,\n",
       " <a href=\"/wiki/Category:Disambiguation_pages\" title=\"Category:Disambiguation pages\">Disambiguation pages</a>,\n",
       " <a href=\"/wiki/Category:Human_name_disambiguation_pages\" title=\"Category:Human name disambiguation pages\">Human name disambiguation pages</a>,\n",
       " <a href=\"/wiki/Category:Disambiguation_pages_with_given-name-holder_lists\" title=\"Category:Disambiguation pages with given-name-holder lists\">Disambiguation pages with given-name-holder lists</a>,\n",
       " <a href=\"/wiki/Category:Short_description_is_different_from_Wikidata\" title=\"Category:Short description is different from Wikidata\">Short description is different from Wikidata</a>,\n",
       " <a href=\"/wiki/Category:All_article_disambiguation_pages\" title=\"Category:All article disambiguation pages\">All article disambiguation pages</a>,\n",
       " <a href=\"/wiki/Category:All_disambiguation_pages\" title=\"Category:All disambiguation pages\">All disambiguation pages</a>,\n",
       " <a href=\"/wiki/Category:Animal_common_name_disambiguation_pages\" title=\"Category:Animal common name disambiguation pages\">Animal common name disambiguation pages</a>,\n",
       " <a href=\"//en.wikipedia.org/wiki/Wikipedia:Text_of_the_Creative_Commons_Attribution-ShareAlike_3.0_Unported_License\" rel=\"license\">Creative Commons Attribution-ShareAlike License 3.0</a>,\n",
       " <a href=\"//creativecommons.org/licenses/by-sa/3.0/\" rel=\"license\" style=\"display:none;\"></a>,\n",
       " <a href=\"//foundation.wikimedia.org/wiki/Terms_of_Use\">Terms of Use</a>,\n",
       " <a href=\"//foundation.wikimedia.org/wiki/Privacy_policy\">Privacy Policy</a>,\n",
       " <a href=\"//www.wikimediafoundation.org/\">Wikimedia Foundation, Inc.</a>,\n",
       " <a href=\"https://foundation.wikimedia.org/wiki/Privacy_policy\">Privacy policy</a>,\n",
       " <a href=\"/wiki/Wikipedia:About\">About Wikipedia</a>,\n",
       " <a href=\"/wiki/Wikipedia:General_disclaimer\">Disclaimers</a>,\n",
       " <a href=\"//en.wikipedia.org/wiki/Wikipedia:Contact_us\">Contact Wikipedia</a>,\n",
       " <a class=\"noprint stopMobileRedirectToggle\" href=\"//en.m.wikipedia.org/w/index.php?title=Python&amp;mobileaction=toggle_view_mobile\">Mobile view</a>,\n",
       " <a href=\"https://developer.wikimedia.org\">Developers</a>,\n",
       " <a href=\"https://stats.wikimedia.org/#/en.wikipedia.org\">Statistics</a>,\n",
       " <a href=\"https://foundation.wikimedia.org/wiki/Cookie_statement\">Cookie statement</a>,\n",
       " <a href=\"https://wikimediafoundation.org/\"><img alt=\"Wikimedia Foundation\" height=\"31\" loading=\"lazy\" src=\"/static/images/footer/wikimedia-button.png\" srcset=\"/static/images/footer/wikimedia-button-1.5x.png 1.5x, /static/images/footer/wikimedia-button-2x.png 2x\" width=\"88\"/></a>,\n",
       " <a href=\"https://www.mediawiki.org/\"><img alt=\"Powered by MediaWiki\" height=\"31\" loading=\"lazy\" src=\"/static/images/footer/poweredby_mediawiki_88x31.png\" srcset=\"/static/images/footer/poweredby_mediawiki_132x47.png 1.5x, /static/images/footer/poweredby_mediawiki_176x62.png 2x\" width=\"88\"/></a>]"
      ]
     },
     "execution_count": 323,
     "metadata": {},
     "output_type": "execute_result"
    }
   ],
   "source": [
    "soup.select(\"ul a\")"
   ]
  },
  {
   "cell_type": "code",
   "execution_count": 324,
   "id": "faed425e",
   "metadata": {},
   "outputs": [
    {
     "data": {
      "text/plain": [
       "<a href=\"/wiki/Pythonidae\" title=\"Pythonidae\">Pythonidae</a>"
      ]
     },
     "execution_count": 324,
     "metadata": {},
     "output_type": "execute_result"
    }
   ],
   "source": [
    "soup.select(\"ul a\")[91]"
   ]
  },
  {
   "cell_type": "code",
   "execution_count": 325,
   "id": "037f91bb",
   "metadata": {},
   "outputs": [
    {
     "data": {
      "text/plain": [
       "<a href=\"/wiki/Pithon\" title=\"Pithon\">Pithon</a>"
      ]
     },
     "execution_count": 325,
     "metadata": {},
     "output_type": "execute_result"
    }
   ],
   "source": [
    "soup.select(\"ul a\")[116]"
   ]
  },
  {
   "cell_type": "code",
   "execution_count": 326,
   "id": "8e83fb5c",
   "metadata": {},
   "outputs": [
    {
     "data": {
      "text/plain": [
       "'/wiki/Pythonidae'"
      ]
     },
     "execution_count": 326,
     "metadata": {},
     "output_type": "execute_result"
    }
   ],
   "source": [
    "soup.select(\"ul a\")[91].get('href')"
   ]
  },
  {
   "cell_type": "code",
   "execution_count": 327,
   "id": "52f3c229",
   "metadata": {},
   "outputs": [
    {
     "data": {
      "text/plain": [
       "'Pythonidae'"
      ]
     },
     "execution_count": 327,
     "metadata": {},
     "output_type": "execute_result"
    }
   ],
   "source": [
    "soup.select(\"ul a\")[91].get('title')"
   ]
  },
  {
   "cell_type": "code",
   "execution_count": 328,
   "id": "a6f61db5",
   "metadata": {},
   "outputs": [
    {
     "data": {
      "text/plain": [
       "'Snakes'"
      ]
     },
     "execution_count": 328,
     "metadata": {},
     "output_type": "execute_result"
    }
   ],
   "source": [
    "soup.select(\"ul a:nth-child(1)\")[19].get_text()[3:].strip()"
   ]
  },
  {
   "cell_type": "code",
   "execution_count": 329,
   "id": "d8fb3b77",
   "metadata": {},
   "outputs": [
    {
     "data": {
      "text/plain": [
       "'See also'"
      ]
     },
     "execution_count": 329,
     "metadata": {},
     "output_type": "execute_result"
    }
   ],
   "source": [
    "soup.select(\"ul a:nth-child(1)\")[26].get_text()[3:].strip()"
   ]
  },
  {
   "cell_type": "code",
   "execution_count": 334,
   "id": "9fb99ba3",
   "metadata": {},
   "outputs": [
    {
     "data": {
      "text/plain": [
       "<a href=\"/wiki/Pythonidae\" title=\"Pythonidae\">Pythonidae</a>"
      ]
     },
     "execution_count": 334,
     "metadata": {},
     "output_type": "execute_result"
    }
   ],
   "source": [
    "soup.select(\"ul a\")[91]"
   ]
  },
  {
   "cell_type": "code",
   "execution_count": 337,
   "id": "3d062f74",
   "metadata": {},
   "outputs": [],
   "source": [
    "name = []\n",
    "links = []\n",
    "\n",
    "for i in range(91,117):\n",
    "    titulo = soup.select(\"ul a\")[i].get('title')\n",
    "    name.append(titulo)\n",
    "    link = soup.select(\"ul a\")[i].get('href')\n",
    "    links.append(link)"
   ]
  },
  {
   "cell_type": "code",
   "execution_count": 247,
   "id": "b88b2133",
   "metadata": {
    "collapsed": true
   },
   "outputs": [
    {
     "data": {
      "text/plain": [
       "['Pythonidae',\n",
       " 'Python (genus)',\n",
       " 'Python (mythology)',\n",
       " 'Python (programming language)',\n",
       " 'CMU Common Lisp',\n",
       " 'PERQ',\n",
       " 'Python of Aenus',\n",
       " 'Python (painter)',\n",
       " 'Python of Byzantium',\n",
       " 'Python of Catana',\n",
       " 'Python Anghelo',\n",
       " 'Python (Efteling)',\n",
       " 'Python (Busch Gardens Tampa Bay)',\n",
       " 'Python (Coney Island, Cincinnati, Ohio)',\n",
       " 'Python (automobile maker)',\n",
       " 'Python (Ford prototype)',\n",
       " 'Python (missile)',\n",
       " 'Python (nuclear primary)',\n",
       " 'Colt Python',\n",
       " 'Python (codename)',\n",
       " 'Python (film)',\n",
       " 'Monty Python',\n",
       " 'Python (Monty) Pictures',\n",
       " 'Timon of Phlius',\n",
       " 'Pyton',\n",
       " 'Pithon']"
      ]
     },
     "execution_count": 247,
     "metadata": {},
     "output_type": "execute_result"
    }
   ],
   "source": [
    "name"
   ]
  },
  {
   "cell_type": "code",
   "execution_count": 251,
   "id": "86daa127",
   "metadata": {
    "scrolled": true
   },
   "outputs": [
    {
     "data": {
      "text/html": [
       "<div>\n",
       "<style scoped>\n",
       "    .dataframe tbody tr th:only-of-type {\n",
       "        vertical-align: middle;\n",
       "    }\n",
       "\n",
       "    .dataframe tbody tr th {\n",
       "        vertical-align: top;\n",
       "    }\n",
       "\n",
       "    .dataframe thead th {\n",
       "        text-align: right;\n",
       "    }\n",
       "</style>\n",
       "<table border=\"1\" class=\"dataframe\">\n",
       "  <thead>\n",
       "    <tr style=\"text-align: right;\">\n",
       "      <th></th>\n",
       "      <th>name</th>\n",
       "      <th>links</th>\n",
       "    </tr>\n",
       "  </thead>\n",
       "  <tbody>\n",
       "    <tr>\n",
       "      <th>0</th>\n",
       "      <td>Pythonidae</td>\n",
       "      <td>/wiki/Pythonidae</td>\n",
       "    </tr>\n",
       "    <tr>\n",
       "      <th>1</th>\n",
       "      <td>Python (genus)</td>\n",
       "      <td>/wiki/Python_(genus)</td>\n",
       "    </tr>\n",
       "    <tr>\n",
       "      <th>2</th>\n",
       "      <td>Python (mythology)</td>\n",
       "      <td>/wiki/Python_(mythology)</td>\n",
       "    </tr>\n",
       "    <tr>\n",
       "      <th>3</th>\n",
       "      <td>Python (programming language)</td>\n",
       "      <td>/wiki/Python_(programming_language)</td>\n",
       "    </tr>\n",
       "    <tr>\n",
       "      <th>4</th>\n",
       "      <td>CMU Common Lisp</td>\n",
       "      <td>/wiki/CMU_Common_Lisp</td>\n",
       "    </tr>\n",
       "    <tr>\n",
       "      <th>5</th>\n",
       "      <td>PERQ</td>\n",
       "      <td>/wiki/PERQ#PERQ_3</td>\n",
       "    </tr>\n",
       "    <tr>\n",
       "      <th>6</th>\n",
       "      <td>Python of Aenus</td>\n",
       "      <td>/wiki/Python_of_Aenus</td>\n",
       "    </tr>\n",
       "    <tr>\n",
       "      <th>7</th>\n",
       "      <td>Python (painter)</td>\n",
       "      <td>/wiki/Python_(painter)</td>\n",
       "    </tr>\n",
       "    <tr>\n",
       "      <th>8</th>\n",
       "      <td>Python of Byzantium</td>\n",
       "      <td>/wiki/Python_of_Byzantium</td>\n",
       "    </tr>\n",
       "    <tr>\n",
       "      <th>9</th>\n",
       "      <td>Python of Catana</td>\n",
       "      <td>/wiki/Python_of_Catana</td>\n",
       "    </tr>\n",
       "    <tr>\n",
       "      <th>10</th>\n",
       "      <td>Python Anghelo</td>\n",
       "      <td>/wiki/Python_Anghelo</td>\n",
       "    </tr>\n",
       "    <tr>\n",
       "      <th>11</th>\n",
       "      <td>Python (Efteling)</td>\n",
       "      <td>/wiki/Python_(Efteling)</td>\n",
       "    </tr>\n",
       "    <tr>\n",
       "      <th>12</th>\n",
       "      <td>Python (Busch Gardens Tampa Bay)</td>\n",
       "      <td>/wiki/Python_(Busch_Gardens_Tampa_Bay)</td>\n",
       "    </tr>\n",
       "    <tr>\n",
       "      <th>13</th>\n",
       "      <td>Python (Coney Island, Cincinnati, Ohio)</td>\n",
       "      <td>/wiki/Python_(Coney_Island,_Cincinnati,_Ohio)</td>\n",
       "    </tr>\n",
       "    <tr>\n",
       "      <th>14</th>\n",
       "      <td>Python (automobile maker)</td>\n",
       "      <td>/wiki/Python_(automobile_maker)</td>\n",
       "    </tr>\n",
       "    <tr>\n",
       "      <th>15</th>\n",
       "      <td>Python (Ford prototype)</td>\n",
       "      <td>/wiki/Python_(Ford_prototype)</td>\n",
       "    </tr>\n",
       "    <tr>\n",
       "      <th>16</th>\n",
       "      <td>Python (missile)</td>\n",
       "      <td>/wiki/Python_(missile)</td>\n",
       "    </tr>\n",
       "    <tr>\n",
       "      <th>17</th>\n",
       "      <td>Python (nuclear primary)</td>\n",
       "      <td>/wiki/Python_(nuclear_primary)</td>\n",
       "    </tr>\n",
       "    <tr>\n",
       "      <th>18</th>\n",
       "      <td>Colt Python</td>\n",
       "      <td>/wiki/Colt_Python</td>\n",
       "    </tr>\n",
       "    <tr>\n",
       "      <th>19</th>\n",
       "      <td>Python (codename)</td>\n",
       "      <td>/wiki/Python_(codename)</td>\n",
       "    </tr>\n",
       "    <tr>\n",
       "      <th>20</th>\n",
       "      <td>Python (film)</td>\n",
       "      <td>/wiki/Python_(film)</td>\n",
       "    </tr>\n",
       "    <tr>\n",
       "      <th>21</th>\n",
       "      <td>Monty Python</td>\n",
       "      <td>/wiki/Monty_Python</td>\n",
       "    </tr>\n",
       "    <tr>\n",
       "      <th>22</th>\n",
       "      <td>Python (Monty) Pictures</td>\n",
       "      <td>/wiki/Python_(Monty)_Pictures</td>\n",
       "    </tr>\n",
       "    <tr>\n",
       "      <th>23</th>\n",
       "      <td>Timon of Phlius</td>\n",
       "      <td>/wiki/Timon_of_Phlius</td>\n",
       "    </tr>\n",
       "    <tr>\n",
       "      <th>24</th>\n",
       "      <td>Pyton</td>\n",
       "      <td>/wiki/Pyton</td>\n",
       "    </tr>\n",
       "    <tr>\n",
       "      <th>25</th>\n",
       "      <td>Pithon</td>\n",
       "      <td>/wiki/Pithon</td>\n",
       "    </tr>\n",
       "  </tbody>\n",
       "</table>\n",
       "</div>"
      ],
      "text/plain": [
       "                                       name  \\\n",
       "0                                Pythonidae   \n",
       "1                            Python (genus)   \n",
       "2                        Python (mythology)   \n",
       "3             Python (programming language)   \n",
       "4                           CMU Common Lisp   \n",
       "5                                      PERQ   \n",
       "6                           Python of Aenus   \n",
       "7                          Python (painter)   \n",
       "8                       Python of Byzantium   \n",
       "9                          Python of Catana   \n",
       "10                           Python Anghelo   \n",
       "11                        Python (Efteling)   \n",
       "12         Python (Busch Gardens Tampa Bay)   \n",
       "13  Python (Coney Island, Cincinnati, Ohio)   \n",
       "14                Python (automobile maker)   \n",
       "15                  Python (Ford prototype)   \n",
       "16                         Python (missile)   \n",
       "17                 Python (nuclear primary)   \n",
       "18                              Colt Python   \n",
       "19                        Python (codename)   \n",
       "20                            Python (film)   \n",
       "21                             Monty Python   \n",
       "22                  Python (Monty) Pictures   \n",
       "23                          Timon of Phlius   \n",
       "24                                    Pyton   \n",
       "25                                   Pithon   \n",
       "\n",
       "                                            links  \n",
       "0                                /wiki/Pythonidae  \n",
       "1                            /wiki/Python_(genus)  \n",
       "2                        /wiki/Python_(mythology)  \n",
       "3             /wiki/Python_(programming_language)  \n",
       "4                           /wiki/CMU_Common_Lisp  \n",
       "5                               /wiki/PERQ#PERQ_3  \n",
       "6                           /wiki/Python_of_Aenus  \n",
       "7                          /wiki/Python_(painter)  \n",
       "8                       /wiki/Python_of_Byzantium  \n",
       "9                          /wiki/Python_of_Catana  \n",
       "10                           /wiki/Python_Anghelo  \n",
       "11                        /wiki/Python_(Efteling)  \n",
       "12         /wiki/Python_(Busch_Gardens_Tampa_Bay)  \n",
       "13  /wiki/Python_(Coney_Island,_Cincinnati,_Ohio)  \n",
       "14                /wiki/Python_(automobile_maker)  \n",
       "15                  /wiki/Python_(Ford_prototype)  \n",
       "16                         /wiki/Python_(missile)  \n",
       "17                 /wiki/Python_(nuclear_primary)  \n",
       "18                              /wiki/Colt_Python  \n",
       "19                        /wiki/Python_(codename)  \n",
       "20                            /wiki/Python_(film)  \n",
       "21                             /wiki/Monty_Python  \n",
       "22                  /wiki/Python_(Monty)_Pictures  \n",
       "23                          /wiki/Timon_of_Phlius  \n",
       "24                                    /wiki/Pyton  \n",
       "25                                   /wiki/Pithon  "
      ]
     },
     "execution_count": 251,
     "metadata": {},
     "output_type": "execute_result"
    }
   ],
   "source": [
    "Python_may_refer_to = pd.DataFrame({'name':name,'links':links})\n",
    "Python_may_refer_to"
   ]
  },
  {
   "cell_type": "code",
   "execution_count": 308,
   "id": "44c874dc",
   "metadata": {},
   "outputs": [],
   "source": [
    "url ='https://es.wikipedia.org/wiki/Pythonidae'\n",
    "response = requests.get(url)\n",
    "soup = BeautifulSoup(response.content,\"html.parser\")"
   ]
  },
  {
   "cell_type": "code",
   "execution_count": 315,
   "id": "b8736c81",
   "metadata": {},
   "outputs": [
    {
     "data": {
      "text/plain": [
       "'Pythonidae'"
      ]
     },
     "execution_count": 315,
     "metadata": {},
     "output_type": "execute_result"
    }
   ],
   "source": [
    "soup.select(\"h1\")[0].get_text()"
   ]
  },
  {
   "cell_type": "code",
   "execution_count": 339,
   "id": "34f0d656",
   "metadata": {},
   "outputs": [
    {
     "name": "stdout",
     "output_type": "stream",
     "text": [
      "Pythonidae\n",
      "Python (genus)\n",
      "Python (mythology)\n",
      "Python (programming language)\n",
      "CMU Common Lisp\n",
      "PERQ\n",
      "Python of Aenus\n",
      "Python (painter)\n",
      "Python of Byzantium\n",
      "Python of Catana\n",
      "Python Anghelo\n",
      "Python (Efteling)\n",
      "Python (Busch Gardens Tampa Bay)\n",
      "Python (Coney Island, Cincinnati, Ohio)\n",
      "Python (automobile maker)\n",
      "Python (Ford prototype)\n",
      "Python (missile)\n",
      "Python (nuclear primary)\n",
      "Colt Python\n",
      "Python (codename)\n",
      "Python (film)\n",
      "Monty Python\n",
      "Python (Monty) Pictures\n",
      "Timon of Phlius\n",
      "Pyton\n",
      "Pithon\n"
     ]
    }
   ],
   "source": [
    "for i in range(len(links)):\n",
    "  url =\"https://en.wikipedia.org\"+links[i]\n",
    "  response=requests.get(url)  \n",
    "  soup = BeautifulSoup(response.content, \"html.parser\")\n",
    "  print(soup.select(\"h1\")[0].get_text())\n",
    "  print(\"https://en.wikipedia.org\"+links[i])"
   ]
  },
  {
   "cell_type": "markdown",
   "id": "c770dfe5",
   "metadata": {},
   "source": [
    "- Find the number of titles that have changed in the United States Code since its last release point: url = 'http://uscode.house.gov/download/download.shtml'"
   ]
  },
  {
   "cell_type": "code",
   "execution_count": 281,
   "id": "e2393f55",
   "metadata": {},
   "outputs": [],
   "source": [
    "url = 'http://uscode.house.gov/download/download.shtml'"
   ]
  },
  {
   "cell_type": "code",
   "execution_count": 282,
   "id": "f4c40ca8",
   "metadata": {},
   "outputs": [],
   "source": [
    "response = requests.get(url)"
   ]
  },
  {
   "cell_type": "code",
   "execution_count": 283,
   "id": "effab2f5",
   "metadata": {},
   "outputs": [
    {
     "data": {
      "text/plain": [
       "200"
      ]
     },
     "execution_count": 283,
     "metadata": {},
     "output_type": "execute_result"
    }
   ],
   "source": [
    "response.status_code"
   ]
  },
  {
   "cell_type": "code",
   "execution_count": 284,
   "id": "6c870ce6",
   "metadata": {},
   "outputs": [],
   "source": [
    "soup = BeautifulSoup(response.content,\"html.parser\")"
   ]
  },
  {
   "cell_type": "code",
   "execution_count": 276,
   "id": "d498d64a",
   "metadata": {},
   "outputs": [
    {
     "ename": "AttributeError",
     "evalue": "'NoneType' object has no attribute 'text'",
     "output_type": "error",
     "traceback": [
      "\u001b[1;31m---------------------------------------------------------------------------\u001b[0m",
      "\u001b[1;31mAttributeError\u001b[0m                            Traceback (most recent call last)",
      "\u001b[1;32m~\\AppData\\Local\\Temp\\ipykernel_20476\\3779817710.py\u001b[0m in \u001b[0;36m<module>\u001b[1;34m\u001b[0m\n\u001b[0;32m      6\u001b[0m \u001b[1;33m\u001b[0m\u001b[0m\n\u001b[0;32m      7\u001b[0m \u001b[1;31m# Encontrar el número de la última versión publicada\u001b[0m\u001b[1;33m\u001b[0m\u001b[1;33m\u001b[0m\u001b[0m\n\u001b[1;32m----> 8\u001b[1;33m \u001b[0mlast_version\u001b[0m \u001b[1;33m=\u001b[0m \u001b[0mlast_update\u001b[0m\u001b[1;33m.\u001b[0m\u001b[0mfind\u001b[0m\u001b[1;33m(\u001b[0m\u001b[1;34m'span'\u001b[0m\u001b[1;33m,\u001b[0m \u001b[1;33m{\u001b[0m\u001b[1;34m'class'\u001b[0m\u001b[1;33m:\u001b[0m \u001b[1;34m'usctitlechanged'\u001b[0m\u001b[1;33m}\u001b[0m\u001b[1;33m)\u001b[0m\u001b[1;33m.\u001b[0m\u001b[0mtext\u001b[0m\u001b[1;33m.\u001b[0m\u001b[0mstrip\u001b[0m\u001b[1;33m(\u001b[0m\u001b[1;33m)\u001b[0m\u001b[1;33m\u001b[0m\u001b[1;33m\u001b[0m\u001b[0m\n\u001b[0m\u001b[0;32m      9\u001b[0m \u001b[1;33m\u001b[0m\u001b[0m\n\u001b[0;32m     10\u001b[0m \u001b[1;31m# Encontrar el número de la versión actual\u001b[0m\u001b[1;33m\u001b[0m\u001b[1;33m\u001b[0m\u001b[0m\n",
      "\u001b[1;31mAttributeError\u001b[0m: 'NoneType' object has no attribute 'text'"
     ]
    }
   ],
   "source": [
    "# Buscar la sección que muestra la información de la última actualización\n",
    "last_update = soup.find('div', {'class': 'usctitlechanged'})\n",
    "\n",
    "# Encontrar el número de la última versión publicada\n",
    "last_version = last_update.find('span', {'class': 'usctitlechanged'}).text.strip()\n",
    "\n",
    "# Encontrar el número de la versión actual\n",
    "current_version = soup.find('div', {'class': 'usctitle'}).find('span').text.strip()\n",
    "\n",
    "# Calcular la cantidad de títulos que han cambiado\n",
    "changed_titles = int(current_version) - int(last_version)\n",
    "\n",
    "# Imprimir la cantidad de títulos que han cambiado\n",
    "print(f'La cantidad de títulos que han cambiado desde la última publicación es: {changed_titles}')"
   ]
  },
  {
   "cell_type": "markdown",
   "id": "36c27537",
   "metadata": {},
   "source": [
    "- Create a Python list with the top ten FBI's Most Wanted names: url = 'https://www.fbi.gov/wanted/topten'"
   ]
  },
  {
   "cell_type": "code",
   "execution_count": 285,
   "id": "c8c7b128",
   "metadata": {},
   "outputs": [],
   "source": [
    "url = 'https://www.fbi.gov/wanted/topten'"
   ]
  },
  {
   "cell_type": "code",
   "execution_count": 286,
   "id": "567af3fc",
   "metadata": {},
   "outputs": [],
   "source": [
    "response = requests.get(url)"
   ]
  },
  {
   "cell_type": "code",
   "execution_count": 287,
   "id": "a3d97cf4",
   "metadata": {},
   "outputs": [
    {
     "data": {
      "text/plain": [
       "200"
      ]
     },
     "execution_count": 287,
     "metadata": {},
     "output_type": "execute_result"
    }
   ],
   "source": [
    "response.status_code"
   ]
  },
  {
   "cell_type": "code",
   "execution_count": 288,
   "id": "5a8aa7d7",
   "metadata": {},
   "outputs": [],
   "source": [
    "soup = BeautifulSoup(response.content,\"html.parser\")"
   ]
  },
  {
   "cell_type": "code",
   "execution_count": 295,
   "id": "aba884c0",
   "metadata": {},
   "outputs": [
    {
     "data": {
      "text/plain": [
       "'YULAN ADONAY ARCHAGA CARIAS'"
      ]
     },
     "execution_count": 295,
     "metadata": {},
     "output_type": "execute_result"
    }
   ],
   "source": [
    "soup.select(\"li h3\")[0].get_text().strip()"
   ]
  },
  {
   "cell_type": "code",
   "execution_count": 298,
   "id": "7a0b027c",
   "metadata": {},
   "outputs": [],
   "source": [
    "wanted = []\n",
    "\n",
    "for i in range(len(soup.select(\"li h3\"))):\n",
    "    buscados = soup.select(\"li h3\")[i].get_text().strip()\n",
    "    wanted.append(buscados)"
   ]
  },
  {
   "cell_type": "code",
   "execution_count": 299,
   "id": "5501af63",
   "metadata": {},
   "outputs": [
    {
     "data": {
      "text/plain": [
       "['YULAN ADONAY ARCHAGA CARIAS',\n",
       " 'BHADRESHKUMAR CHETANBHAI PATEL',\n",
       " 'WILVER VILLEGAS-PALOMINO',\n",
       " 'ALEJANDRO ROSALES CASTILLO',\n",
       " 'RUJA IGNATOVA',\n",
       " 'ARNOLDO JIMENEZ',\n",
       " 'OMAR ALEXANDER CARDENAS',\n",
       " 'ALEXIS FLORES',\n",
       " 'MICHAEL JAMES PRATT',\n",
       " 'JOSE RODOLFO VILLARREAL-HERNANDEZ']"
      ]
     },
     "execution_count": 299,
     "metadata": {},
     "output_type": "execute_result"
    }
   ],
   "source": [
    "wanted"
   ]
  },
  {
   "cell_type": "markdown",
   "id": "37cefdfd",
   "metadata": {},
   "source": [
    "- Display the 20 latest earthquakes info (date, time, latitude, longitude and region name) by the EMSC as a pandas dataframe: url = 'https://www.emsc-csem.org/Earthquake/'"
   ]
  },
  {
   "cell_type": "code",
   "execution_count": 340,
   "id": "30420f6f",
   "metadata": {},
   "outputs": [],
   "source": [
    "url = 'https://www.emsc-csem.org/Earthquake/'"
   ]
  },
  {
   "cell_type": "code",
   "execution_count": 341,
   "id": "fa3b0893",
   "metadata": {},
   "outputs": [],
   "source": [
    "response = requests.get(url)"
   ]
  },
  {
   "cell_type": "code",
   "execution_count": 342,
   "id": "24e68e6d",
   "metadata": {},
   "outputs": [
    {
     "data": {
      "text/plain": [
       "200"
      ]
     },
     "execution_count": 342,
     "metadata": {},
     "output_type": "execute_result"
    }
   ],
   "source": [
    "response.status_code"
   ]
  },
  {
   "cell_type": "code",
   "execution_count": 343,
   "id": "56e3519e",
   "metadata": {},
   "outputs": [],
   "source": [
    "soup = BeautifulSoup(response.content,\"html.parser\")"
   ]
  },
  {
   "cell_type": "code",
   "execution_count": 352,
   "id": "577c4243",
   "metadata": {},
   "outputs": [
    {
     "data": {
      "text/plain": [
       "'2023-05-09\\xa0\\xa0\\xa002:22:07.3'"
      ]
     },
     "execution_count": 352,
     "metadata": {},
     "output_type": "execute_result"
    }
   ],
   "source": [
    "soup.select(\"td.tabev6 a\")[0].get_text().strip()"
   ]
  },
  {
   "cell_type": "code",
   "execution_count": 355,
   "id": "0d34d355",
   "metadata": {
    "collapsed": true
   },
   "outputs": [
    {
     "data": {
      "text/plain": [
       "[<td class=\"tabev1\">34.10 </td>,\n",
       " <td class=\"tabev1\">116.68 </td>,\n",
       " <td class=\"tabev1\">19.39 </td>,\n",
       " <td class=\"tabev1\">155.30 </td>,\n",
       " <td class=\"tabev1\">39.08 </td>,\n",
       " <td class=\"tabev1\">33.05 </td>,\n",
       " <td class=\"tabev1\">37.48 </td>,\n",
       " <td class=\"tabev1\">137.47 </td>,\n",
       " <td class=\"tabev1\">39.11 </td>,\n",
       " <td class=\"tabev1\">33.07 </td>,\n",
       " <td class=\"tabev1\">37.50 </td>,\n",
       " <td class=\"tabev1\">72.55 </td>,\n",
       " <td class=\"tabev1\">37.63 </td>,\n",
       " <td class=\"tabev1\">35.61 </td>,\n",
       " <td class=\"tabev1\">38.41 </td>,\n",
       " <td class=\"tabev1\">37.34 </td>,\n",
       " <td class=\"tabev1\">11.46 </td>,\n",
       " <td class=\"tabev1\">162.82 </td>,\n",
       " <td class=\"tabev1\">45.59 </td>,\n",
       " <td class=\"tabev1\">15.35 </td>,\n",
       " <td class=\"tabev1\">9.36 </td>,\n",
       " <td class=\"tabev1\">113.99 </td>,\n",
       " <td class=\"tabev1\">19.41 </td>,\n",
       " <td class=\"tabev1\">155.30 </td>,\n",
       " <td class=\"tabev1\">21.09 </td>,\n",
       " <td class=\"tabev1\">66.77 </td>,\n",
       " <td class=\"tabev1\">36.53 </td>,\n",
       " <td class=\"tabev1\">28.87 </td>,\n",
       " <td class=\"tabev1\">38.45 </td>,\n",
       " <td class=\"tabev1\">37.27 </td>,\n",
       " <td class=\"tabev1\">39.05 </td>,\n",
       " <td class=\"tabev1\">17.19 </td>,\n",
       " <td class=\"tabev1\">19.42 </td>,\n",
       " <td class=\"tabev1\">155.28 </td>,\n",
       " <td class=\"tabev1\">18.58 </td>,\n",
       " <td class=\"tabev1\">72.39 </td>,\n",
       " <td class=\"tabev1\">33.66 </td>,\n",
       " <td class=\"tabev1\">70.23 </td>,\n",
       " <td class=\"tabev1\">2.18 </td>,\n",
       " <td class=\"tabev1\">126.01 </td>,\n",
       " <td class=\"tabev1\">37.91 </td>,\n",
       " <td class=\"tabev1\">26.88 </td>,\n",
       " <td class=\"tabev1\">37.81 </td>,\n",
       " <td class=\"tabev1\">36.25 </td>,\n",
       " <td class=\"tabev1\">39.05 </td>,\n",
       " <td class=\"tabev1\">17.16 </td>,\n",
       " <td class=\"tabev1\">12.57 </td>,\n",
       " <td class=\"tabev1\">88.04 </td>,\n",
       " <td class=\"tabev1\">6.86 </td>,\n",
       " <td class=\"tabev1\">128.75 </td>,\n",
       " <td class=\"tabev1\">37.81 </td>,\n",
       " <td class=\"tabev1\">36.25 </td>,\n",
       " <td class=\"tabev1\">1.77 </td>,\n",
       " <td class=\"tabev1\">128.96 </td>,\n",
       " <td class=\"tabev1\">30.95 </td>,\n",
       " <td class=\"tabev1\">179.79 </td>,\n",
       " <td class=\"tabev1\">35.48 </td>,\n",
       " <td class=\"tabev1\">3.69 </td>,\n",
       " <td class=\"tabev1\">31.96 </td>,\n",
       " <td class=\"tabev1\">117.19 </td>,\n",
       " <td class=\"tabev1\">7.60 </td>,\n",
       " <td class=\"tabev1\">107.01 </td>,\n",
       " <td class=\"tabev1\">33.03 </td>,\n",
       " <td class=\"tabev1\">116.00 </td>,\n",
       " <td class=\"tabev1\">35.41 </td>,\n",
       " <td class=\"tabev1\">3.68 </td>,\n",
       " <td class=\"tabev1\">58.37 </td>,\n",
       " <td class=\"tabev1\">154.85 </td>,\n",
       " <td class=\"tabev1\">37.86 </td>,\n",
       " <td class=\"tabev1\">30.45 </td>,\n",
       " <td class=\"tabev1\">33.70 </td>,\n",
       " <td class=\"tabev1\">70.67 </td>,\n",
       " <td class=\"tabev1\">37.42 </td>,\n",
       " <td class=\"tabev1\">36.97 </td>,\n",
       " <td class=\"tabev1\">39.02 </td>,\n",
       " <td class=\"tabev1\">17.20 </td>,\n",
       " <td class=\"tabev1\">16.34 </td>,\n",
       " <td class=\"tabev1\">98.00 </td>,\n",
       " <td class=\"tabev1\">31.39 </td>,\n",
       " <td class=\"tabev1\">115.36 </td>,\n",
       " <td class=\"tabev1\">36.89 </td>,\n",
       " <td class=\"tabev1\">31.01 </td>,\n",
       " <td class=\"tabev1\">36.73 </td>,\n",
       " <td class=\"tabev1\">28.09 </td>,\n",
       " <td class=\"tabev1\">35.54 </td>,\n",
       " <td class=\"tabev1\">3.59 </td>,\n",
       " <td class=\"tabev1\">39.07 </td>,\n",
       " <td class=\"tabev1\">17.13 </td>,\n",
       " <td class=\"tabev1\">40.83 </td>,\n",
       " <td class=\"tabev1\">14.14 </td>,\n",
       " <td class=\"tabev1\">37.79 </td>,\n",
       " <td class=\"tabev1\">3.10 </td>,\n",
       " <td class=\"tabev1\">16.12 </td>,\n",
       " <td class=\"tabev1\">94.61 </td>,\n",
       " <td class=\"tabev1\">31.63 </td>,\n",
       " <td class=\"tabev1\">71.81 </td>,\n",
       " <td class=\"tabev1\">37.88 </td>,\n",
       " <td class=\"tabev1\">36.43 </td>,\n",
       " <td class=\"tabev1\">0.32 </td>,\n",
       " <td class=\"tabev1\">122.31 </td>]"
      ]
     },
     "execution_count": 355,
     "metadata": {},
     "output_type": "execute_result"
    }
   ],
   "source": [
    "soup.select(\"td.tabev1\")"
   ]
  },
  {
   "cell_type": "code",
   "execution_count": 353,
   "id": "0a9b773d",
   "metadata": {},
   "outputs": [
    {
     "data": {
      "text/plain": [
       "'34.10'"
      ]
     },
     "execution_count": 353,
     "metadata": {},
     "output_type": "execute_result"
    }
   ],
   "source": [
    "soup.select(\"td.tabev1\")[0].get_text().strip()"
   ]
  },
  {
   "cell_type": "code",
   "execution_count": 356,
   "id": "f85d8b89",
   "metadata": {},
   "outputs": [
    {
     "data": {
      "text/plain": [
       "'116.68'"
      ]
     },
     "execution_count": 356,
     "metadata": {},
     "output_type": "execute_result"
    }
   ],
   "source": [
    "soup.select(\"td.tabev1\")[1].get_text().strip()"
   ]
  },
  {
   "cell_type": "code",
   "execution_count": 360,
   "id": "a59118b6",
   "metadata": {
    "scrolled": true
   },
   "outputs": [
    {
     "data": {
      "text/plain": [
       "'SOUTHERN CALIFORNIA'"
      ]
     },
     "execution_count": 360,
     "metadata": {},
     "output_type": "execute_result"
    }
   ],
   "source": [
    "soup.select(\"td.tb_region\")[0].get_text().strip()"
   ]
  },
  {
   "cell_type": "code",
   "execution_count": 387,
   "id": "cd739665",
   "metadata": {},
   "outputs": [],
   "source": [
    "data_time = []\n",
    "latitud = []\n",
    "longitude = []\n",
    "region_name = []\n",
    "\n",
    "for i in range(0,40,2):\n",
    "    latitud.append(soup.select(\"td.tabev1\")[i].get_text().strip())\n",
    "    \n",
    "for i in range(1,40,2):\n",
    "        longitude.append(soup.select(\"td.tabev1\")[i].get_text().strip())\n",
    "\n",
    "for i in range(0,20):\n",
    "    data_time.append(soup.select(\"td.tabev6 a\")[i].get_text().strip())\n",
    "    region_name.append(soup.select(\"td.tb_region\")[i].get_text().strip())"
   ]
  },
  {
   "cell_type": "code",
   "execution_count": 389,
   "id": "96fead53",
   "metadata": {},
   "outputs": [
    {
     "data": {
      "text/plain": [
       "['34.10',\n",
       " '19.39',\n",
       " '39.08',\n",
       " '37.48',\n",
       " '39.11',\n",
       " '37.50',\n",
       " '37.63',\n",
       " '38.41',\n",
       " '11.46',\n",
       " '45.59',\n",
       " '9.36',\n",
       " '19.41',\n",
       " '21.09',\n",
       " '36.53',\n",
       " '38.45',\n",
       " '39.05',\n",
       " '19.42',\n",
       " '18.58',\n",
       " '33.66',\n",
       " '2.18']"
      ]
     },
     "execution_count": 389,
     "metadata": {},
     "output_type": "execute_result"
    }
   ],
   "source": [
    "latitud"
   ]
  },
  {
   "cell_type": "code",
   "execution_count": 390,
   "id": "8f48b4ce",
   "metadata": {},
   "outputs": [
    {
     "data": {
      "text/html": [
       "<div>\n",
       "<style scoped>\n",
       "    .dataframe tbody tr th:only-of-type {\n",
       "        vertical-align: middle;\n",
       "    }\n",
       "\n",
       "    .dataframe tbody tr th {\n",
       "        vertical-align: top;\n",
       "    }\n",
       "\n",
       "    .dataframe thead th {\n",
       "        text-align: right;\n",
       "    }\n",
       "</style>\n",
       "<table border=\"1\" class=\"dataframe\">\n",
       "  <thead>\n",
       "    <tr style=\"text-align: right;\">\n",
       "      <th></th>\n",
       "      <th>date_time</th>\n",
       "      <th>latitud</th>\n",
       "      <th>longitude</th>\n",
       "      <th>region_name</th>\n",
       "    </tr>\n",
       "  </thead>\n",
       "  <tbody>\n",
       "    <tr>\n",
       "      <th>0</th>\n",
       "      <td>2023-05-09   02:22:07.3</td>\n",
       "      <td>34.10</td>\n",
       "      <td>116.68</td>\n",
       "      <td>SOUTHERN CALIFORNIA</td>\n",
       "    </tr>\n",
       "    <tr>\n",
       "      <th>1</th>\n",
       "      <td>2023-05-09   02:16:27.3</td>\n",
       "      <td>19.39</td>\n",
       "      <td>155.30</td>\n",
       "      <td>ISLAND OF HAWAII, HAWAII</td>\n",
       "    </tr>\n",
       "    <tr>\n",
       "      <th>2</th>\n",
       "      <td>2023-05-09   02:12:59.9</td>\n",
       "      <td>39.08</td>\n",
       "      <td>33.05</td>\n",
       "      <td>CENTRAL TURKEY</td>\n",
       "    </tr>\n",
       "    <tr>\n",
       "      <th>3</th>\n",
       "      <td>2023-05-09   02:05:56.6</td>\n",
       "      <td>37.48</td>\n",
       "      <td>137.47</td>\n",
       "      <td>NEAR WEST COAST OF HONSHU, JAPAN</td>\n",
       "    </tr>\n",
       "    <tr>\n",
       "      <th>4</th>\n",
       "      <td>2023-05-09   02:00:14.2</td>\n",
       "      <td>39.11</td>\n",
       "      <td>33.07</td>\n",
       "      <td>CENTRAL TURKEY</td>\n",
       "    </tr>\n",
       "    <tr>\n",
       "      <th>5</th>\n",
       "      <td>2023-05-09   01:47:41.6</td>\n",
       "      <td>37.50</td>\n",
       "      <td>72.55</td>\n",
       "      <td>TAJIKISTAN</td>\n",
       "    </tr>\n",
       "    <tr>\n",
       "      <th>6</th>\n",
       "      <td>2023-05-09   01:40:22.4</td>\n",
       "      <td>37.63</td>\n",
       "      <td>35.61</td>\n",
       "      <td>CENTRAL TURKEY</td>\n",
       "    </tr>\n",
       "    <tr>\n",
       "      <th>7</th>\n",
       "      <td>2023-05-09   01:26:10.9</td>\n",
       "      <td>38.41</td>\n",
       "      <td>37.34</td>\n",
       "      <td>CENTRAL TURKEY</td>\n",
       "    </tr>\n",
       "    <tr>\n",
       "      <th>8</th>\n",
       "      <td>2023-05-09   01:23:31.4</td>\n",
       "      <td>11.46</td>\n",
       "      <td>162.82</td>\n",
       "      <td>SOLOMON ISLANDS</td>\n",
       "    </tr>\n",
       "    <tr>\n",
       "      <th>9</th>\n",
       "      <td>2023-05-09   01:19:31.0</td>\n",
       "      <td>45.59</td>\n",
       "      <td>15.35</td>\n",
       "      <td>CROATIA</td>\n",
       "    </tr>\n",
       "    <tr>\n",
       "      <th>10</th>\n",
       "      <td>2023-05-09   01:16:08.0</td>\n",
       "      <td>9.36</td>\n",
       "      <td>113.99</td>\n",
       "      <td>SOUTH OF JAVA, INDONESIA</td>\n",
       "    </tr>\n",
       "    <tr>\n",
       "      <th>11</th>\n",
       "      <td>2023-05-09   01:09:30.5</td>\n",
       "      <td>19.41</td>\n",
       "      <td>155.30</td>\n",
       "      <td>ISLAND OF HAWAII, HAWAII</td>\n",
       "    </tr>\n",
       "    <tr>\n",
       "      <th>12</th>\n",
       "      <td>2023-05-09   00:56:17.3</td>\n",
       "      <td>21.09</td>\n",
       "      <td>66.77</td>\n",
       "      <td>POTOSI, BOLIVIA</td>\n",
       "    </tr>\n",
       "    <tr>\n",
       "      <th>13</th>\n",
       "      <td>2023-05-09   00:56:06.8</td>\n",
       "      <td>36.53</td>\n",
       "      <td>28.87</td>\n",
       "      <td>DODECANESE IS.-TURKEY BORDER REG</td>\n",
       "    </tr>\n",
       "    <tr>\n",
       "      <th>14</th>\n",
       "      <td>2023-05-09   00:33:47.9</td>\n",
       "      <td>38.45</td>\n",
       "      <td>37.27</td>\n",
       "      <td>CENTRAL TURKEY</td>\n",
       "    </tr>\n",
       "    <tr>\n",
       "      <th>15</th>\n",
       "      <td>2023-05-09   00:31:23.3</td>\n",
       "      <td>39.05</td>\n",
       "      <td>17.19</td>\n",
       "      <td>SOUTHERN ITALY</td>\n",
       "    </tr>\n",
       "    <tr>\n",
       "      <th>16</th>\n",
       "      <td>2023-05-09   00:22:23.3</td>\n",
       "      <td>19.42</td>\n",
       "      <td>155.28</td>\n",
       "      <td>ISLAND OF HAWAII, HAWAII</td>\n",
       "    </tr>\n",
       "    <tr>\n",
       "      <th>17</th>\n",
       "      <td>2023-05-09   00:21:01.4</td>\n",
       "      <td>18.58</td>\n",
       "      <td>72.39</td>\n",
       "      <td>HAITI REGION</td>\n",
       "    </tr>\n",
       "    <tr>\n",
       "      <th>18</th>\n",
       "      <td>2023-05-09   00:15:17.0</td>\n",
       "      <td>33.66</td>\n",
       "      <td>70.23</td>\n",
       "      <td>REGION METROPOLITANA, CHILE</td>\n",
       "    </tr>\n",
       "    <tr>\n",
       "      <th>19</th>\n",
       "      <td>2023-05-09   00:13:25.5</td>\n",
       "      <td>2.18</td>\n",
       "      <td>126.01</td>\n",
       "      <td>MOLUCCA SEA</td>\n",
       "    </tr>\n",
       "  </tbody>\n",
       "</table>\n",
       "</div>"
      ],
      "text/plain": [
       "                  date_time latitud longitude  \\\n",
       "0   2023-05-09   02:22:07.3   34.10    116.68   \n",
       "1   2023-05-09   02:16:27.3   19.39    155.30   \n",
       "2   2023-05-09   02:12:59.9   39.08     33.05   \n",
       "3   2023-05-09   02:05:56.6   37.48    137.47   \n",
       "4   2023-05-09   02:00:14.2   39.11     33.07   \n",
       "5   2023-05-09   01:47:41.6   37.50     72.55   \n",
       "6   2023-05-09   01:40:22.4   37.63     35.61   \n",
       "7   2023-05-09   01:26:10.9   38.41     37.34   \n",
       "8   2023-05-09   01:23:31.4   11.46    162.82   \n",
       "9   2023-05-09   01:19:31.0   45.59     15.35   \n",
       "10  2023-05-09   01:16:08.0    9.36    113.99   \n",
       "11  2023-05-09   01:09:30.5   19.41    155.30   \n",
       "12  2023-05-09   00:56:17.3   21.09     66.77   \n",
       "13  2023-05-09   00:56:06.8   36.53     28.87   \n",
       "14  2023-05-09   00:33:47.9   38.45     37.27   \n",
       "15  2023-05-09   00:31:23.3   39.05     17.19   \n",
       "16  2023-05-09   00:22:23.3   19.42    155.28   \n",
       "17  2023-05-09   00:21:01.4   18.58     72.39   \n",
       "18  2023-05-09   00:15:17.0   33.66     70.23   \n",
       "19  2023-05-09   00:13:25.5    2.18    126.01   \n",
       "\n",
       "                         region_name  \n",
       "0                SOUTHERN CALIFORNIA  \n",
       "1           ISLAND OF HAWAII, HAWAII  \n",
       "2                     CENTRAL TURKEY  \n",
       "3   NEAR WEST COAST OF HONSHU, JAPAN  \n",
       "4                     CENTRAL TURKEY  \n",
       "5                         TAJIKISTAN  \n",
       "6                     CENTRAL TURKEY  \n",
       "7                     CENTRAL TURKEY  \n",
       "8                    SOLOMON ISLANDS  \n",
       "9                            CROATIA  \n",
       "10          SOUTH OF JAVA, INDONESIA  \n",
       "11          ISLAND OF HAWAII, HAWAII  \n",
       "12                   POTOSI, BOLIVIA  \n",
       "13  DODECANESE IS.-TURKEY BORDER REG  \n",
       "14                    CENTRAL TURKEY  \n",
       "15                    SOUTHERN ITALY  \n",
       "16          ISLAND OF HAWAII, HAWAII  \n",
       "17                      HAITI REGION  \n",
       "18       REGION METROPOLITANA, CHILE  \n",
       "19                       MOLUCCA SEA  "
      ]
     },
     "execution_count": 390,
     "metadata": {},
     "output_type": "execute_result"
    }
   ],
   "source": [
    "Earthquakes_today = pd.DataFrame({'date_time':data_time,'latitud':latitud,'longitude':longitude,'region_name':region_name})\n",
    "Earthquakes_today"
   ]
  },
  {
   "cell_type": "markdown",
   "id": "d03deb46",
   "metadata": {},
   "source": [
    "- List all language names and number of related articles in the order they appear in wikipedia.org: url = 'https://www.wikipedia.org/'"
   ]
  },
  {
   "cell_type": "code",
   "execution_count": 391,
   "id": "8511aa30",
   "metadata": {},
   "outputs": [
    {
     "name": "stdout",
     "output_type": "stream",
     "text": [
      "200\n"
     ]
    }
   ],
   "source": [
    "url = 'https://www.wikipedia.org/'\n",
    "response = requests.get(url)\n",
    "print(response.status_code)\n",
    "soup = BeautifulSoup(response.content,\"html.parser\")"
   ]
  },
  {
   "cell_type": "code",
   "execution_count": 426,
   "id": "974545fe",
   "metadata": {},
   "outputs": [
    {
     "data": {
      "text/plain": [
       "'English'"
      ]
     },
     "execution_count": 426,
     "metadata": {},
     "output_type": "execute_result"
    }
   ],
   "source": [
    "soup.select('div.central-featured div')[0].get_text().split('\\n')[2]"
   ]
  },
  {
   "cell_type": "code",
   "execution_count": 430,
   "id": "800a38c8",
   "metadata": {},
   "outputs": [],
   "source": [
    "names_language = []\n",
    "\n",
    "for i in range(len(soup.select('div.central-featured div'))):\n",
    "    names_language.append(soup.select('div.central-featured div')[i].get_text().split('\\n')[2])"
   ]
  },
  {
   "cell_type": "code",
   "execution_count": 431,
   "id": "0a974689",
   "metadata": {},
   "outputs": [
    {
     "data": {
      "text/plain": [
       "['English',\n",
       " 'Русский',\n",
       " '日本語',\n",
       " 'Deutsch',\n",
       " 'Español',\n",
       " 'Français',\n",
       " 'Italiano',\n",
       " '中文',\n",
       " 'فارسی',\n",
       " 'Português']"
      ]
     },
     "execution_count": 431,
     "metadata": {},
     "output_type": "execute_result"
    }
   ],
   "source": [
    "names_language"
   ]
  },
  {
   "cell_type": "markdown",
   "id": "4ffa3381",
   "metadata": {},
   "source": [
    "- A list with the different kind of datasets available in data.gov.uk: url = 'https://data.gov.uk/'"
   ]
  },
  {
   "cell_type": "code",
   "execution_count": 432,
   "id": "5518824c",
   "metadata": {},
   "outputs": [
    {
     "name": "stdout",
     "output_type": "stream",
     "text": [
      "200\n"
     ]
    }
   ],
   "source": [
    "url = 'https://data.gov.uk/'\n",
    "response = requests.get(url)\n",
    "print(response.status_code)\n",
    "soup = BeautifulSoup(response.content,\"html.parser\")"
   ]
  },
  {
   "cell_type": "code",
   "execution_count": 435,
   "id": "528285af",
   "metadata": {},
   "outputs": [
    {
     "data": {
      "text/plain": [
       "[<a class=\"govuk-link\" href=\"/search?filters%5Btopic%5D=Business+and+economy\">Business and economy</a>,\n",
       " <a class=\"govuk-link\" href=\"/search?filters%5Btopic%5D=Crime+and+justice\">Crime and justice</a>,\n",
       " <a class=\"govuk-link\" href=\"/search?filters%5Btopic%5D=Defence\">Defence</a>,\n",
       " <a class=\"govuk-link\" href=\"/search?filters%5Btopic%5D=Education\">Education</a>,\n",
       " <a class=\"govuk-link\" href=\"/search?filters%5Btopic%5D=Environment\">Environment</a>,\n",
       " <a class=\"govuk-link\" href=\"/search?filters%5Btopic%5D=Government\">Government</a>,\n",
       " <a class=\"govuk-link\" href=\"/search?filters%5Btopic%5D=Government+spending\">Government spending</a>,\n",
       " <a class=\"govuk-link\" href=\"/search?filters%5Btopic%5D=Health\">Health</a>,\n",
       " <a class=\"govuk-link\" href=\"/search?filters%5Btopic%5D=Mapping\">Mapping</a>,\n",
       " <a class=\"govuk-link\" href=\"/search?filters%5Btopic%5D=Society\">Society</a>,\n",
       " <a class=\"govuk-link\" href=\"/search?filters%5Btopic%5D=Towns+and+cities\">Towns and cities</a>,\n",
       " <a class=\"govuk-link\" href=\"/search?filters%5Btopic%5D=Transport\">Transport</a>,\n",
       " <a class=\"govuk-link\" href=\"/search?filters%5Btopic%5D=Digital+service+performance\">Digital service performance</a>,\n",
       " <a class=\"govuk-link\" href=\"/search?filters%5Btopic%5D=Government+reference+data\">Government reference data</a>]"
      ]
     },
     "execution_count": 435,
     "metadata": {},
     "output_type": "execute_result"
    }
   ],
   "source": [
    "soup.select('li a.govuk-link')"
   ]
  },
  {
   "cell_type": "code",
   "execution_count": 438,
   "id": "0ba30760",
   "metadata": {},
   "outputs": [],
   "source": [
    "list_of_govuk = []\n",
    "for i in range(len(soup.select('li a.govuk-link'))):\n",
    "    list_of_govuk.append(soup.select('li a.govuk-link')[i].get_text().strip())"
   ]
  },
  {
   "cell_type": "code",
   "execution_count": 439,
   "id": "924e9047",
   "metadata": {},
   "outputs": [
    {
     "data": {
      "text/plain": [
       "['Business and economy',\n",
       " 'Crime and justice',\n",
       " 'Defence',\n",
       " 'Education',\n",
       " 'Environment',\n",
       " 'Government',\n",
       " 'Government spending',\n",
       " 'Health',\n",
       " 'Mapping',\n",
       " 'Society',\n",
       " 'Towns and cities',\n",
       " 'Transport',\n",
       " 'Digital service performance',\n",
       " 'Government reference data']"
      ]
     },
     "execution_count": 439,
     "metadata": {},
     "output_type": "execute_result"
    }
   ],
   "source": [
    "list_of_govuk"
   ]
  },
  {
   "cell_type": "markdown",
   "id": "49b04400",
   "metadata": {},
   "source": [
    "- Display the top 10 languages by number of native speakers stored in a pandas dataframe: url = 'https://en.wikipedia.org/wiki/List_of_languages_by_number_of_native_speakers'"
   ]
  },
  {
   "cell_type": "code",
   "execution_count": 440,
   "id": "77afb555",
   "metadata": {},
   "outputs": [
    {
     "name": "stdout",
     "output_type": "stream",
     "text": [
      "200\n"
     ]
    }
   ],
   "source": [
    "url = 'https://en.wikipedia.org/wiki/List_of_languages_by_number_of_native_speakers'\n",
    "response = requests.get(url)\n",
    "print(response.status_code)\n",
    "soup = BeautifulSoup(response.content,\"html.parser\")"
   ]
  },
  {
   "cell_type": "code",
   "execution_count": 467,
   "id": "9cdca12e",
   "metadata": {
    "scrolled": true
   },
   "outputs": [
    {
     "data": {
      "text/plain": [
       "[<a class=\"mw-redirect\" href=\"/wiki/ISO_639:cmn\" title=\"ISO 639:cmn\">Mandarin Chinese</a>,\n",
       " <a class=\"mw-redirect\" href=\"/wiki/ISO_639:spa\" title=\"ISO 639:spa\">Spanish</a>,\n",
       " <a class=\"mw-redirect\" href=\"/wiki/ISO_639:eng\" title=\"ISO 639:eng\">English</a>,\n",
       " <a class=\"mw-redirect\" href=\"/wiki/ISO_639:hin\" title=\"ISO 639:hin\">Hindi</a>,\n",
       " <a class=\"mw-redirect\" href=\"/wiki/ISO_639:por\" title=\"ISO 639:por\">Portuguese</a>,\n",
       " <a class=\"mw-redirect\" href=\"/wiki/ISO_639:ben\" title=\"ISO 639:ben\">Bengali</a>,\n",
       " <a class=\"mw-redirect\" href=\"/wiki/ISO_639:rus\" title=\"ISO 639:rus\">Russian</a>,\n",
       " <a class=\"mw-redirect\" href=\"/wiki/ISO_639:jpn\" title=\"ISO 639:jpn\">Japanese</a>,\n",
       " <a class=\"mw-redirect\" href=\"/wiki/ISO_639:yue\" title=\"ISO 639:yue\">Yue Chinese</a>,\n",
       " <a class=\"mw-redirect\" href=\"/wiki/ISO_639:vie\" title=\"ISO 639:vie\">Vietnamese</a>,\n",
       " <a class=\"mw-redirect\" href=\"/wiki/ISO_639:tur\" title=\"ISO 639:tur\">Turkish</a>,\n",
       " <a class=\"mw-redirect\" href=\"/wiki/ISO_639:wuu\" title=\"ISO 639:wuu\">Wu Chinese</a>,\n",
       " <a class=\"mw-redirect\" href=\"/wiki/ISO_639:mar\" title=\"ISO 639:mar\">Marathi</a>,\n",
       " <a class=\"mw-redirect\" href=\"/wiki/ISO_639:tel\" title=\"ISO 639:tel\">Telugu</a>,\n",
       " <a class=\"mw-redirect\" href=\"/wiki/ISO_639:kor\" title=\"ISO 639:kor\">Korean</a>,\n",
       " <a class=\"mw-redirect\" href=\"/wiki/ISO_639:fra\" title=\"ISO 639:fra\">French</a>,\n",
       " <a class=\"mw-redirect\" href=\"/wiki/ISO_639:tam\" title=\"ISO 639:tam\">Tamil</a>,\n",
       " <a class=\"mw-redirect\" href=\"/wiki/ISO_639:arz\" title=\"ISO 639:arz\">Egyptian Spoken Arabic</a>,\n",
       " <a class=\"mw-redirect\" href=\"/wiki/ISO_639:deu\" title=\"ISO 639:deu\">Standard German</a>,\n",
       " <a class=\"mw-redirect\" href=\"/wiki/ISO_639:urd\" title=\"ISO 639:urd\">Urdu</a>,\n",
       " <a class=\"mw-redirect\" href=\"/wiki/ISO_639:jav\" title=\"ISO 639:jav\">Javanese</a>,\n",
       " <a class=\"mw-redirect\" href=\"/wiki/ISO_639:pnb\" title=\"ISO 639:pnb\">Western Punjabi</a>,\n",
       " <a class=\"mw-redirect\" href=\"/wiki/Eastern_Punjabi_language\" title=\"Eastern Punjabi language\">Eastern Punjabi</a>,\n",
       " <a class=\"mw-redirect\" href=\"/wiki/ISO_639:ita\" title=\"ISO 639:ita\">Italian</a>,\n",
       " <a class=\"mw-redirect\" href=\"/wiki/ISO_639:guj\" title=\"ISO 639:guj\">Gujarati</a>,\n",
       " <a class=\"mw-redirect\" href=\"/wiki/ISO_639:pes\" title=\"ISO 639:pes\">Iranian Persian</a>,\n",
       " <a class=\"mw-redirect\" href=\"/wiki/ISO_639:bho\" title=\"ISO 639:bho\">Bhojpuri</a>,\n",
       " <a class=\"mw-redirect\" href=\"/wiki/ISO_639:hau\" title=\"ISO 639:hau\">Hausa</a>,\n",
       " <a class=\"mw-redirect\" href=\"/wiki/Arabic_language\" title=\"Arabic language\">Arabic</a>,\n",
       " <a class=\"mw-redirect\" href=\"/wiki/Hindi_language\" title=\"Hindi language\">Hindi</a>,\n",
       " <a class=\"mw-redirect\" href=\"/wiki/List_of_countries_where_Arabic_is_an_official_language\" title=\"List of countries where Arabic is an official language\">Arabic</a>,\n",
       " <a class=\"mw-redirect\" href=\"/wiki/List_of_countries_where_Spanish_is_an_official_language\" title=\"List of countries where Spanish is an official language\">Spanish</a>,\n",
       " <a class=\"mw-redirect\" href=\"/wiki/List_of_languages_without_official_status\" title=\"List of languages without official status\">List of languages without official status</a>,\n",
       " <a class=\"mw-redirect\" href=\"/wiki/List_of_European_languages_by_number_of_speakers\" title=\"List of European languages by number of speakers\">Europe</a>,\n",
       " <a class=\"mw-redirect\" href=\"/wiki/List_of_Afro-Asiatic_languages\" title=\"List of Afro-Asiatic languages\">List of Afro-Asiatic languages</a>,\n",
       " <a class=\"mw-redirect\" href=\"/wiki/List_of_Austronesian_languages\" title=\"List of Austronesian languages\">List of Austronesian languages</a>,\n",
       " <a class=\"mw-redirect\" href=\"/wiki/List_of_Tungusic_languages\" title=\"List of Tungusic languages\">List of Tungusic languages</a>]"
      ]
     },
     "execution_count": 467,
     "metadata": {},
     "output_type": "execute_result"
    }
   ],
   "source": [
    "soup.select('tbody td a.mw-redirect')"
   ]
  },
  {
   "cell_type": "code",
   "execution_count": 472,
   "id": "1c952b7a",
   "metadata": {},
   "outputs": [
    {
     "data": {
      "text/plain": [
       "'Hindi'"
      ]
     },
     "execution_count": 472,
     "metadata": {},
     "output_type": "execute_result"
    }
   ],
   "source": [
    "soup.select('tbody td a.mw-redirect')[3].get_text()"
   ]
  },
  {
   "cell_type": "code",
   "execution_count": 477,
   "id": "bd5edd1a",
   "metadata": {},
   "outputs": [
    {
     "data": {
      "text/plain": [
       "<td>939\n",
       "</td>"
      ]
     },
     "execution_count": 477,
     "metadata": {},
     "output_type": "execute_result"
    }
   ],
   "source": [
    "soup.select('tbody td')[1]"
   ]
  },
  {
   "cell_type": "code",
   "execution_count": 478,
   "id": "853163e8",
   "metadata": {},
   "outputs": [
    {
     "data": {
      "text/plain": [
       "<td>485\n",
       "</td>"
      ]
     },
     "execution_count": 478,
     "metadata": {},
     "output_type": "execute_result"
    }
   ],
   "source": [
    "soup.select('tbody td')[5]"
   ]
  },
  {
   "cell_type": "code",
   "execution_count": 483,
   "id": "e4247a54",
   "metadata": {},
   "outputs": [],
   "source": [
    "language=[]\n",
    "native_speakers=[]\n",
    "\n",
    "for i in range(10):\n",
    "    language.append(soup.select('tbody td a.mw-redirect')[i].get_text().strip())\n",
    "\n",
    "for i in range(1,40,4):\n",
    "    native_speakers.append(soup.select('tbody td')[i].get_text().strip())"
   ]
  },
  {
   "cell_type": "code",
   "execution_count": 484,
   "id": "7bf622d2",
   "metadata": {},
   "outputs": [
    {
     "data": {
      "text/plain": [
       "['939', '485', '380', '345', '236', '234', '147', '123', '86.1', '85.0']"
      ]
     },
     "execution_count": 484,
     "metadata": {},
     "output_type": "execute_result"
    }
   ],
   "source": [
    "native_speakers"
   ]
  },
  {
   "cell_type": "code",
   "execution_count": 485,
   "id": "b95a4f6c",
   "metadata": {},
   "outputs": [
    {
     "data": {
      "text/html": [
       "<div>\n",
       "<style scoped>\n",
       "    .dataframe tbody tr th:only-of-type {\n",
       "        vertical-align: middle;\n",
       "    }\n",
       "\n",
       "    .dataframe tbody tr th {\n",
       "        vertical-align: top;\n",
       "    }\n",
       "\n",
       "    .dataframe thead th {\n",
       "        text-align: right;\n",
       "    }\n",
       "</style>\n",
       "<table border=\"1\" class=\"dataframe\">\n",
       "  <thead>\n",
       "    <tr style=\"text-align: right;\">\n",
       "      <th></th>\n",
       "      <th>language</th>\n",
       "      <th>native_speakers</th>\n",
       "    </tr>\n",
       "  </thead>\n",
       "  <tbody>\n",
       "    <tr>\n",
       "      <th>0</th>\n",
       "      <td>Mandarin Chinese</td>\n",
       "      <td>939</td>\n",
       "    </tr>\n",
       "    <tr>\n",
       "      <th>1</th>\n",
       "      <td>Spanish</td>\n",
       "      <td>485</td>\n",
       "    </tr>\n",
       "    <tr>\n",
       "      <th>2</th>\n",
       "      <td>English</td>\n",
       "      <td>380</td>\n",
       "    </tr>\n",
       "    <tr>\n",
       "      <th>3</th>\n",
       "      <td>Hindi</td>\n",
       "      <td>345</td>\n",
       "    </tr>\n",
       "    <tr>\n",
       "      <th>4</th>\n",
       "      <td>Portuguese</td>\n",
       "      <td>236</td>\n",
       "    </tr>\n",
       "    <tr>\n",
       "      <th>5</th>\n",
       "      <td>Bengali</td>\n",
       "      <td>234</td>\n",
       "    </tr>\n",
       "    <tr>\n",
       "      <th>6</th>\n",
       "      <td>Russian</td>\n",
       "      <td>147</td>\n",
       "    </tr>\n",
       "    <tr>\n",
       "      <th>7</th>\n",
       "      <td>Japanese</td>\n",
       "      <td>123</td>\n",
       "    </tr>\n",
       "    <tr>\n",
       "      <th>8</th>\n",
       "      <td>Yue Chinese</td>\n",
       "      <td>86.1</td>\n",
       "    </tr>\n",
       "    <tr>\n",
       "      <th>9</th>\n",
       "      <td>Vietnamese</td>\n",
       "      <td>85.0</td>\n",
       "    </tr>\n",
       "  </tbody>\n",
       "</table>\n",
       "</div>"
      ],
      "text/plain": [
       "           language native_speakers\n",
       "0  Mandarin Chinese             939\n",
       "1           Spanish             485\n",
       "2           English             380\n",
       "3             Hindi             345\n",
       "4        Portuguese             236\n",
       "5           Bengali             234\n",
       "6           Russian             147\n",
       "7          Japanese             123\n",
       "8       Yue Chinese            86.1\n",
       "9        Vietnamese            85.0"
      ]
     },
     "execution_count": 485,
     "metadata": {},
     "output_type": "execute_result"
    }
   ],
   "source": [
    "list_of_languages = pd.DataFrame({'language':language,'native_speakers':native_speakers})\n",
    "list_of_languages"
   ]
  },
  {
   "cell_type": "code",
   "execution_count": null,
   "id": "e0bba00e",
   "metadata": {},
   "outputs": [],
   "source": []
  },
  {
   "cell_type": "code",
   "execution_count": null,
   "id": "c11208aa",
   "metadata": {},
   "outputs": [],
   "source": []
  }
 ],
 "metadata": {
  "kernelspec": {
   "display_name": "Python 3 (ipykernel)",
   "language": "python",
   "name": "python3"
  },
  "language_info": {
   "codemirror_mode": {
    "name": "ipython",
    "version": 3
   },
   "file_extension": ".py",
   "mimetype": "text/x-python",
   "name": "python",
   "nbconvert_exporter": "python",
   "pygments_lexer": "ipython3",
   "version": "3.9.13"
  }
 },
 "nbformat": 4,
 "nbformat_minor": 5
}
